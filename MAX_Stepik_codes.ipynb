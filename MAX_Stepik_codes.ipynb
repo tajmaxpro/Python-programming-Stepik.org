{
 "cells": [
  {
   "cell_type": "markdown",
   "id": "cc679667",
   "metadata": {},
   "source": [
    "# STEPIK ! Введение в Python"
   ]
  },
  {
   "cell_type": "markdown",
   "id": "518edf8d",
   "metadata": {},
   "source": [
    "# Рекурсия"
   ]
  },
  {
   "attachments": {
    "3mPy9.png": {
     "image/png": "[encoded data removed]"
    }
   },
   "cell_type": "markdown",
   "id": "7c0a65e5",
   "metadata": {},
   "source": [
    "# Функция Аккермана\n",
    "\n",
    " Реализуйте функцию Аккермана, которая определяется рекурсивно для неотрицательных целых чисел m и n следующим образом:\n",
    "\n",
    " ![3mPy9.png](attachment:3mPy9.png)\n",
    "             \n",
    "    Формат ввода: две строки с числами n и m соответственно.\n",
    "    Формат вывода: значение выражения A(m, n).\n",
    "\n",
    "Sample Input:\n",
    "2\n",
    "3\n",
    "\n",
    "Sample Output: 29"
   ]
  },
  {
   "cell_type": "code",
   "execution_count": 1,
   "id": "8fd80fb1",
   "metadata": {},
   "outputs": [
    {
     "name": "stdout",
     "output_type": "stream",
     "text": [
      "2\n",
      "3\n",
      "29\n"
     ]
    }
   ],
   "source": [
    "def A(m,n):\n",
    "    if m == 0:\n",
    "        return n+1\n",
    "    elif m>0 and n==0:\n",
    "        return A(m-1,1) \n",
    "    elif m>0 and n>0:\n",
    "        return A(m-1, A(m,n-1))\n",
    "a=int(input())\n",
    "b=int(input())\n",
    "print(A(b,a))"
   ]
  },
  {
   "cell_type": "code",
   "execution_count": 2,
   "id": "8e06df88",
   "metadata": {},
   "outputs": [
    {
     "name": "stdout",
     "output_type": "stream",
     "text": [
      "2\n",
      "3\n",
      "29\n"
     ]
    }
   ],
   "source": [
    "def A(m,n):\n",
    "    if m == 0:\n",
    "        return n + 1\n",
    "    elif m > 0 and n == 0:\n",
    "        return A(m - 1, 1)\n",
    "    return A(m - 1, A(m, n - 1))\n",
    "n, m = int(input()),int(input())\n",
    "print(A(m,n))"
   ]
  },
  {
   "cell_type": "markdown",
   "id": "76900742",
   "metadata": {},
   "source": [
    "# Цифры числа\n",
    "\n",
    "  Напишите рекурсивную функцию digits(n), которая принимает натуральное число и возвращает строку с цифрами этого числа слева направо, разделяя их пробелами. Кроме функции ничего писать не нужно.\n",
    "\n",
    "Sample Input:\n",
    "14623\n",
    "\n",
    "Sample Output:\n",
    "1 4 6 2 3"
   ]
  },
  {
   "cell_type": "code",
   "execution_count": 5,
   "id": "48e8dbd4",
   "metadata": {},
   "outputs": [
    {
     "name": "stdout",
     "output_type": "stream",
     "text": [
      "14623\n",
      "1 4 6 2 3\n"
     ]
    }
   ],
   "source": [
    "def digits(n):\n",
    "    if len(str(n)) == 1: return n\n",
    "    else: return str(n)[0] + ' ' + digits(str(n)[1:])\n",
    "print(digits((int(input()))))"
   ]
  },
  {
   "cell_type": "code",
   "execution_count": 6,
   "id": "e1fcf17c",
   "metadata": {},
   "outputs": [],
   "source": [
    "def digits(n):\n",
    "    if n<10:\n",
    "        return n\n",
    "    else:\n",
    "        return str(digits(n//10)) + \" \" + str(n%10)"
   ]
  },
  {
   "cell_type": "markdown",
   "id": "4f15a1e4",
   "metadata": {},
   "source": [
    "# Длина объекта\n",
    "\n",
    "Напишите рекурсивную функцию get_length(obj), которая принимает на вход итерируемый объект (строку, список или кортеж) и выводит его длину."
   ]
  },
  {
   "cell_type": "code",
   "execution_count": 3,
   "id": "55d0c078",
   "metadata": {},
   "outputs": [
    {
     "name": "stdout",
     "output_type": "stream",
     "text": [
      "Muhammadjon\n"
     ]
    },
    {
     "data": {
      "text/plain": [
       "11"
      ]
     },
     "execution_count": 3,
     "metadata": {},
     "output_type": "execute_result"
    }
   ],
   "source": [
    "def get_length(obj):\n",
    "    return 1 + get_length(obj[1:]) if obj else 0\n",
    "get_length(input())"
   ]
  },
  {
   "cell_type": "code",
   "execution_count": 4,
   "id": "c3d3d888",
   "metadata": {},
   "outputs": [
    {
     "name": "stdout",
     "output_type": "stream",
     "text": [
      "Abdulloev\n"
     ]
    },
    {
     "data": {
      "text/plain": [
       "9"
      ]
     },
     "execution_count": 4,
     "metadata": {},
     "output_type": "execute_result"
    }
   ],
   "source": [
    "def get_length(obj):\n",
    "    if len(obj) == 1: return 1\n",
    "    else: return 1 + get_length(obj[1:])\n",
    "get_length(input())"
   ]
  },
  {
   "cell_type": "code",
   "execution_count": 5,
   "id": "c1e50ce9",
   "metadata": {},
   "outputs": [
    {
     "name": "stdout",
     "output_type": "stream",
     "text": [
      "Khayrulloevich\n"
     ]
    },
    {
     "data": {
      "text/plain": [
       "14"
      ]
     },
     "execution_count": 5,
     "metadata": {},
     "output_type": "execute_result"
    }
   ],
   "source": [
    "def get_length(obj):\n",
    "    if not obj:\n",
    "        return 0\n",
    "    else:\n",
    "        return 1 + get_length(obj[1:])\n",
    "get_length(input())"
   ]
  },
  {
   "cell_type": "markdown",
   "id": "887bb1ff",
   "metadata": {},
   "source": [
    "# Степень двойки\n",
    "    Напишите рекурсивную функцию is_power(n), которая возвращает True, если переданное натуральное число является степенью двойки, и False иначе."
   ]
  },
  {
   "cell_type": "code",
   "execution_count": 8,
   "id": "b6d00062",
   "metadata": {},
   "outputs": [
    {
     "name": "stdout",
     "output_type": "stream",
     "text": [
      "True\n"
     ]
    }
   ],
   "source": [
    "def is_power(n):\n",
    "    if n == 1:\n",
    "        return True\n",
    "    if n < 1:\n",
    "        return False\n",
    "    return is_power(n / 2)\n",
    "print(is_power(1048576))"
   ]
  },
  {
   "cell_type": "code",
   "execution_count": 10,
   "id": "a5c0e5cc",
   "metadata": {},
   "outputs": [
    {
     "name": "stdout",
     "output_type": "stream",
     "text": [
      "False\n"
     ]
    }
   ],
   "source": [
    "def is_power(n):\n",
    "    return is_power(n / 2) if n > 1 else n == 1\n",
    "print(is_power(365))"
   ]
  },
  {
   "cell_type": "markdown",
   "id": "ae3a09fb",
   "metadata": {},
   "source": [
    "# Быстрое возведение в степень\n",
    "    Реализуйте рекурсивную функцию get_pow(a, n), которая возводит число a в степень n. Пользоваться циклами, оператором **, а также функцией math.pow() нельзя. Для построения рекурсивного алгоритма используйте тот факт, что . Числа a и n целые и неотрицательные и при этом не могут одновременно равняться нулю.\n",
    "\n",
    "Sample Input:\n",
    "    \n",
    "2,\n",
    "3\n",
    "\n",
    "Sample Output:\n",
    "\n",
    "8"
   ]
  },
  {
   "cell_type": "code",
   "execution_count": 5,
   "id": "ba753c75",
   "metadata": {},
   "outputs": [
    {
     "name": "stdout",
     "output_type": "stream",
     "text": [
      "8\n"
     ]
    }
   ],
   "source": [
    "def get_pow(a, n):\n",
    "    # ваш код\n",
    "    if a == 0: return 0\n",
    "    elif n == 0: return 1\n",
    "    elif n == 1: return a\n",
    "    else: return (a * get_pow(a, n-1))\n",
    "print(get_pow(2,3))"
   ]
  },
  {
   "cell_type": "code",
   "execution_count": 6,
   "id": "6360d4df",
   "metadata": {},
   "outputs": [
    {
     "name": "stdout",
     "output_type": "stream",
     "text": [
      "8\n"
     ]
    }
   ],
   "source": [
    "def get_pow(a, n):\n",
    "    if n == 0:\n",
    "        return 1\n",
    "    if a == 0:\n",
    "        return 0\n",
    "    if n % 2 == 0:\n",
    "        return get_pow(a, n//2)*get_pow(a, n//2)\n",
    "    else:\n",
    "        return get_pow(a, n - 1)*a\n",
    "print(get_pow(2,3))"
   ]
  },
  {
   "cell_type": "markdown",
   "id": "506aed0a",
   "metadata": {},
   "source": [
    "# Кэширование\n",
    "    Оптимизируйте рекурсивный алгоритм вычисления чисел Фибоначчи из лекции таким образом, чтобы функция не делала лишних вычислений, то есть запоминала бы уже вычисленные значения. Кроме функции fib(n) ничего писать не нужно, однако вне функции Вы можете объявить нужные Вам глобальные переменные. Известно, что n <= 650.\n",
    "\n",
    "Sample Input:\n",
    "\n",
    "42\n",
    "\n",
    "Sample Output:\n",
    "\n",
    "267914296"
   ]
  },
  {
   "cell_type": "code",
   "execution_count": 1,
   "id": "a8a03627",
   "metadata": {},
   "outputs": [
    {
     "name": "stdout",
     "output_type": "stream",
     "text": [
      "267914296\n"
     ]
    }
   ],
   "source": [
    "cache={0: 0, 1: 1}\n",
    "def fib(n):\n",
    "    if n in cache: return cache[n]\n",
    "    else:\n",
    "        cache[n] = fib(n-1) + fib(n-2)\n",
    "        return cache[n]\n",
    "print(fib(42))"
   ]
  },
  {
   "cell_type": "code",
   "execution_count": 2,
   "id": "12004a53",
   "metadata": {},
   "outputs": [
    {
     "name": "stdout",
     "output_type": "stream",
     "text": [
      "267914296\n"
     ]
    }
   ],
   "source": [
    "import sys, functools\n",
    "sys.setrecursionlimit(5000)\n",
    "@functools.lru_cache(None)\n",
    "def fib(n): return fib(n - 1) + fib(n - 2) if n > 2 else 1\n",
    "print(fib(42))"
   ]
  },
  {
   "cell_type": "markdown",
   "id": "7f08e344",
   "metadata": {},
   "source": [
    "# Перебор подмножеств\n",
    "    На вход программе подается множество чисел через пробел. Необходимо вывести все подмножества данного множества, включая пустое множество. Числа подмножества должны выводиться через запятую и пробел, а также находиться между фигурных скобок (именно так множества обозначаются в математике). Порядок вывода подмножеств неважен; в самих подмножествах числа выводите по возрастанию.\n",
    "\n",
    "Sample Input:\n",
    "\n",
    "1 3 2 4\n",
    "\n",
    "Sample Output:\n",
    "\n",
    "{} {1} {3} {2} {4} {1, 2} {1, 3} {1, 4} {2, 3} {3, 4} {2, 4} {1, 2, 3} {1, 2, 4} {1, 3, 4} {2, 3, 4} {1, 2, 3, 4}"
   ]
  },
  {
   "cell_type": "code",
   "execution_count": 4,
   "id": "e83334d2",
   "metadata": {},
   "outputs": [
    {
     "name": "stdout",
     "output_type": "stream",
     "text": [
      "1 2 3 4\n",
      "{} {1} {2} {3} {4} {1, 2} {1, 3} {1, 4} {2, 3} {2, 4} {3, 4} {1, 2, 3} {1, 2, 4} {1, 3, 4} {2, 3, 4} {1, 2, 3, 4} \n"
     ]
    }
   ],
   "source": [
    "from itertools import combinations\n",
    "def subsets(a):\n",
    "    new = str()\n",
    "    new += \"{} \"\n",
    "    for i in range(1, len(a)+1):\n",
    "        for h in combinations(a, i):\n",
    "            new += \"{\" + ', '.join([str(e) for e in h]) + \"} \"\n",
    "    return new\n",
    "inp = list(map(int, input().split()))\n",
    "inp.sort()\n",
    "print(subsets(inp))"
   ]
  },
  {
   "cell_type": "code",
   "execution_count": 3,
   "id": "c48cbb64",
   "metadata": {},
   "outputs": [
    {
     "name": "stdout",
     "output_type": "stream",
     "text": [
      "1 2 3 3\n",
      "{} {1} {2} {3} {3} {1, 2} {1, 3} {1, 3} {2, 3} {2, 3} {3, 3} {1, 2, 3} {1, 2, 3} {1, 3, 3} {2, 3, 3} {1, 2, 3, 3} "
     ]
    }
   ],
   "source": [
    "import itertools\n",
    "a = sorted(input().split(), key=int)\n",
    "for i in range(len(a) + 1):\n",
    "    for x in itertools.combinations(a, i):\n",
    "        print('{' + ', '.join(x) + '}', end=' ')"
   ]
  },
  {
   "cell_type": "markdown",
   "id": "451d820d",
   "metadata": {},
   "source": [
    "# Перебор перестановок\n",
    "    Для переданного числа n выведите все перестановки чисел от 1 до n. Перестановками в математике называют все последовательности, полученные путем переупорядочивания элементов изначального набора. Например, для набора чисел 10, 11, 12 можно получить следующие перестановки: \n",
    "\n",
    "    10, 11, 12;    10, 12, 11;    11, 10, 12;    11, 12, 10;    12, 10, 11;    12, 11, 10.\n",
    "\n",
    "    Выводите каждую перестановку в новой строке. Порядок вывода перестановок не важен."
   ]
  },
  {
   "cell_type": "code",
   "execution_count": 11,
   "id": "00b1fdb3",
   "metadata": {},
   "outputs": [
    {
     "name": "stdout",
     "output_type": "stream",
     "text": [
      "3\n",
      "1 2 3\n",
      "1 3 2\n",
      "2 1 3\n",
      "2 3 1\n",
      "3 1 2\n",
      "3 2 1\n"
     ]
    }
   ],
   "source": [
    "def find(number, A):\n",
    "    \"\"\" Ищет number в A и воззращает \n",
    "        True, если такой есть False,\n",
    "        если такого нет.\n",
    "    \"\"\"\n",
    "    flag = False\n",
    "    for x in A:\n",
    "        if number == x:\n",
    "            flag = True\n",
    "            break\n",
    "    return flag\n",
    "\n",
    "def generate_permutations(N:int, M:int=-1, prefix = None):\n",
    "    \"\"\" Генерация всех перестановок\n",
    "        N чисел в M позициях начиная\n",
    "        с prefix\n",
    "    \"\"\"\n",
    "    M = N if M == -1 else M\n",
    "    prefix = prefix or []\n",
    "    if M == 0:\n",
    "        print(*prefix)\n",
    "        return\n",
    "    for number in range(1, N + 1):\n",
    "        if find(number, prefix):\n",
    "            continue\n",
    "        prefix.append(number)\n",
    "        generate_permutations(N, M - 1, prefix)\n",
    "        prefix.pop()\n",
    "n = int(input())\n",
    "generate_permutations(n)"
   ]
  },
  {
   "cell_type": "code",
   "execution_count": 14,
   "id": "4704ce45",
   "metadata": {},
   "outputs": [
    {
     "name": "stdout",
     "output_type": "stream",
     "text": [
      "3\n",
      "1 2 3\n",
      "1 3 2\n",
      "2 1 3\n",
      "2 3 1\n",
      "3 1 2\n",
      "3 2 1\n"
     ]
    }
   ],
   "source": [
    "def get_combs(nums):\n",
    "    combs = []\n",
    "    for i in range(len(nums)):\n",
    "        combs_loc = get_combs(nums[0:i] + nums[i + 1:])\n",
    "        combs += [ [nums[i]] + comb for comb in combs_loc ] if combs_loc else [ [nums[i]] ]\n",
    "    return combs\n",
    "\n",
    "combs = get_combs(list(range(1, int(input()) + 1)))\n",
    "combsReps = [\" \".join(map(str, comb)) for comb in combs]\n",
    "print(\"\\n\".join(combsReps))"
   ]
  },
  {
   "cell_type": "code",
   "execution_count": 9,
   "id": "8fec7384",
   "metadata": {},
   "outputs": [
    {
     "name": "stdout",
     "output_type": "stream",
     "text": [
      "3\n",
      "1 2 3\n",
      "1 3 2\n",
      "2 1 3\n",
      "2 3 1\n",
      "3 1 2\n",
      "3 2 1\n"
     ]
    }
   ],
   "source": [
    "import itertools\n",
    "for i in itertools.permutations([i for i in range(1,int(input()) + 1)]):\n",
    "    print(*i)"
   ]
  },
  {
   "cell_type": "code",
   "execution_count": 12,
   "id": "c3d21157",
   "metadata": {},
   "outputs": [
    {
     "name": "stdout",
     "output_type": "stream",
     "text": [
      "123\n",
      "1 2 3\n",
      "1 3 2\n",
      "2 1 3\n",
      "2 3 1\n",
      "3 1 2\n",
      "3 2 1\n"
     ]
    }
   ],
   "source": [
    "import itertools\n",
    "for p in itertools.permutations(input()):\n",
    "        print(' '.join(str(x) for x in p))"
   ]
  },
  {
   "cell_type": "code",
   "execution_count": 13,
   "id": "50998d4e",
   "metadata": {},
   "outputs": [
    {
     "name": "stdout",
     "output_type": "stream",
     "text": [
      "123\n",
      "1 2 3\n",
      "1 3 2\n",
      "2 1 3\n",
      "2 3 1\n",
      "3 1 2\n",
      "3 2 1\n"
     ]
    }
   ],
   "source": [
    "from itertools import permutations   \n",
    "a = input()  \n",
    "p = permutations(a) \n",
    "for j in list(p): \n",
    "    print(*j) "
   ]
  },
  {
   "cell_type": "markdown",
   "id": "21797b85",
   "metadata": {},
   "source": [
    "# Ханойская башня\n",
    "    Ханойская башня – одна из самых популярных головоломок XIX века. Суть головоломки заключается в следующем: даны три стержня, на первый нанизаны n колец, причем кольца отличаются размером и лежат меньшее на большем. \n",
    "\n",
    "\n",
    "\n",
    "    Необходимо перенести пирамиду за наименьшее число ходов на третий стержень. При этом ход должен удовлетворять условиям:\n",
    "\n",
    "за ход разрешается переносить только одно кольцо\n",
    "\n",
    "нельзя класть большее кольцо на меньшее\n",
    "\n",
    "    Реализуйте рекурсивную функцию solve_hanoi(n, start, stop), которая переносит пирамиду со стержня start на стержень stop и печатает последовательность действий в виде \"Переносим диск <№ диска> с <№ стержня> на <№ стержня>\". Диски нумеруются сверху вниз. Кроме функции ничего писать не нужно.\n",
    "\n",
    "Sample Input:\n",
    "\n",
    "4 1 3\n",
    "\n",
    "Sample Output:\n",
    "\n",
    "Переносим диск 1 с 1 на 2\n",
    "\n",
    "Переносим диск 2 с 1 на 3\n",
    "\n",
    "Переносим диск 1 с 2 на 3\n",
    "\n",
    "Переносим диск 3 с 1 на 2\n",
    "\n",
    "Переносим диск 1 с 3 на 1\n",
    "\n",
    "Переносим диск 2 с 3 на 2\n",
    "\n",
    "Переносим диск 1 с 1 на 2\n",
    "\n",
    "Переносим диск 4 с 1 на 3\n",
    "\n",
    "Переносим диск 1 с 2 на 3\n",
    "\n",
    "Переносим диск 2 с 2 на 1\n",
    "\n",
    "Переносим диск 1 с 3 на 1\n",
    "\n",
    "Переносим диск 3 с 2 на 3\n",
    "\n",
    "Переносим диск 1 с 1 на 2\n",
    "\n",
    "Переносим диск 2 с 1 на 3\n",
    "\n",
    "Переносим диск 1 с 2 на 3"
   ]
  },
  {
   "cell_type": "code",
   "execution_count": 9,
   "id": "b63c0ab9",
   "metadata": {},
   "outputs": [
    {
     "name": "stdout",
     "output_type": "stream",
     "text": [
      "Переносим диск 1 с 1 на 2\n",
      "Переносим диск 2 с 1 на 3\n",
      "Переносим диск 1 с 2 на 3\n",
      "Переносим диск 3 с 1 на 2\n",
      "Переносим диск 1 с 3 на 1\n",
      "Переносим диск 2 с 3 на 2\n",
      "Переносим диск 1 с 1 на 2\n",
      "Переносим диск 4 с 1 на 3\n",
      "Переносим диск 1 с 2 на 3\n",
      "Переносим диск 2 с 2 на 1\n",
      "Переносим диск 1 с 3 на 1\n",
      "Переносим диск 3 с 2 на 3\n",
      "Переносим диск 1 с 1 на 2\n",
      "Переносим диск 2 с 1 на 3\n",
      "Переносим диск 1 с 2 на 3\n"
     ]
    }
   ],
   "source": [
    "def solve_hanoi(n, start, stop):\n",
    "    if n == 1:\n",
    "        print(\"Переносим диск 1 с\", start, \"на\", stop)\n",
    "    else:\n",
    "        tmp = 6 - start - stop\n",
    "        solve_hanoi(n-1, start, tmp)\n",
    "        print(\"Переносим диск\", n, \"с\", start, \"на\", stop)\n",
    "        solve_hanoi(n-1, tmp, stop)\n",
    " \n",
    "solve_hanoi(4, 1, 3)"
   ]
  },
  {
   "cell_type": "code",
   "execution_count": 1,
   "id": "5f34392c",
   "metadata": {},
   "outputs": [
    {
     "name": "stdout",
     "output_type": "stream",
     "text": [
      "Переносим диск 1 с 1 на 3\n",
      "Переносим диск 2 с 1 на 2\n",
      "Переносим диск 1 с 3 на 2\n",
      "Переносим диск 3 с 1 на 3\n",
      "Переносим диск 1 с 2 на 1\n",
      "Переносим диск 2 с 2 на 3\n",
      "Переносим диск 1 с 1 на 3\n",
      "Переносим диск 4 с 1 на 2\n",
      "Переносим диск 1 с 3 на 2\n",
      "Переносим диск 2 с 3 на 1\n",
      "Переносим диск 1 с 2 на 1\n",
      "Переносим диск 3 с 3 на 2\n",
      "Переносим диск 1 с 1 на 3\n",
      "Переносим диск 2 с 1 на 2\n",
      "Переносим диск 1 с 3 на 2\n",
      "Переносим диск 5 с 1 на 3\n",
      "Переносим диск 1 с 2 на 1\n",
      "Переносим диск 2 с 2 на 3\n",
      "Переносим диск 1 с 1 на 3\n",
      "Переносим диск 3 с 2 на 1\n",
      "Переносим диск 1 с 3 на 2\n",
      "Переносим диск 2 с 3 на 1\n",
      "Переносим диск 1 с 2 на 1\n",
      "Переносим диск 4 с 2 на 3\n",
      "Переносим диск 1 с 1 на 3\n",
      "Переносим диск 2 с 1 на 2\n",
      "Переносим диск 1 с 3 на 2\n",
      "Переносим диск 3 с 1 на 3\n",
      "Переносим диск 1 с 2 на 1\n",
      "Переносим диск 2 с 2 на 3\n",
      "Переносим диск 1 с 1 на 3\n"
     ]
    }
   ],
   "source": [
    "def solve_hanoi(n, start, stop):\n",
    "    if n == 1:\n",
    "        print(f'Переносим диск {n} с {start} на {stop}')\n",
    "    else:\n",
    "        solve_hanoi(n - 1, start, 6 - start - stop)\n",
    "        print(f'Переносим диск {n} с {start} на {stop}')\n",
    "        solve_hanoi(n - 1, 6 - start - stop, stop)\n",
    " \n",
    "solve_hanoi(5,1,3)"
   ]
  },
  {
   "cell_type": "code",
   "execution_count": 8,
   "id": "a41f59c0",
   "metadata": {},
   "outputs": [
    {
     "name": "stdout",
     "output_type": "stream",
     "text": [
      "Введите количество дисков:4\n",
      "Переложит диск 1 со стержня номер 1 на стержень номер 2\n",
      "Переложит диск 2 со стержня номер 1 на стержень номер 3\n",
      "Переложит диск 1 со стержня номер 2 на стержень номер 3\n",
      "Переложит диск 3 со стержня номер 1 на стержень номер 2\n",
      "Переложит диск 1 со стержня номер 3 на стержень номер 1\n",
      "Переложит диск 2 со стержня номер 3 на стержень номер 2\n",
      "Переложит диск 1 со стержня номер 1 на стержень номер 2\n",
      "Переложит диск 4 со стержня номер 1 на стержень номер 3\n",
      "Переложит диск 1 со стержня номер 2 на стержень номер 3\n",
      "Переложит диск 2 со стержня номер 2 на стержень номер 1\n",
      "Переложит диск 1 со стержня номер 3 на стержень номер 1\n",
      "Переложит диск 3 со стержня номер 2 на стержень номер 3\n",
      "Переложит диск 1 со стержня номер 1 на стержень номер 2\n",
      "Переложит диск 2 со стержня номер 1 на стержень номер 3\n",
      "Переложит диск 1 со стержня номер 2 на стержень номер 3\n"
     ]
    }
   ],
   "source": [
    "def moves(n, x = 1, y =3):\n",
    "    if n == 1:\n",
    "        print(f'Переложит диск {n} со стержня номер {x} на стержень номер {y}')\n",
    "    else:\n",
    "        moves(n - 1, x, 6 - x - y)\n",
    "        print(f'Переложит диск {n} со стержня номер {x} на стержень номер {y}')\n",
    "        moves(n - 1, 6 - x - y, y)\n",
    " \n",
    "disc_number = int(input('Введите количество дисков:'))\n",
    "moves(disc_number)"
   ]
  },
  {
   "cell_type": "code",
   "execution_count": null,
   "id": "498a3e2a",
   "metadata": {},
   "outputs": [],
   "source": [
    "def tower_of_hanoi(numbers, start, auxiliary, end):  \n",
    "    if(numbers):  \n",
    "        print('Move disk 1 from rod {} to rod {}'.format(start, end))  \n",
    "        return\n",
    "    tower_of_hanoi(numbers - 1, start, end, auxiliary)  \n",
    "    print('Move disk {} from rod {} to rod {}'.format(numbers, start, end))  \n",
    "    tower_of_hanoi(numbers - 1, auxiliary, start, end)  \n",
    "  \n",
    "tower_of_hanoi(numbers, 'A', 'B', 'C')"
   ]
  },
  {
   "cell_type": "markdown",
   "id": "c9e6f757",
   "metadata": {},
   "source": [
    "# Словары\n",
    "Словари – это встроенная структура данных\n",
    "\n",
    "Ключом в словаре может быть кортеж\n",
    "\n",
    "Словари можно создавать с помощью генераторов\n",
    "\n",
    "Словари хранят данные в формате \"ключ-значение\"\n",
    "\n",
    "Ключом в словаре может быть строка\n",
    "\n",
    "#Методы словарей:\n",
    "\n",
    "d.values() - Вернуть список значений\n",
    "\n",
    "d.update(other_dict) - Добавить в словарь d все пары \"ключ-значение\" из словаря other_dict\n",
    "\n",
    "d.copy() - Скопировать словарь\n",
    "\n",
    "d.items() - Вернуть список пар \"ключ-значение\"\n",
    "\n",
    "d.clear() - Очистить словарь\n",
    "\n",
    "d.pop(key) - Вернуть значение ключа key и удалить этот ключ из d\n",
    "\n",
    "d.popitem() - Вернуть произвольную пару \"ключ-значение\" и удалить ее из словаря\n",
    "\n",
    "d.setdefault(key, default) - Вернуть значение ключа key. Если ключ отсутствует, добавить пару \"key-default\" в словарь и вернуть default\n",
    "\n",
    "d.keys() - Вернуть список ключей\n",
    "\n",
    "d.get(key) - Вернуть значение ключа key"
   ]
  },
  {
   "cell_type": "markdown",
   "id": "6b358032",
   "metadata": {},
   "source": [
    "# Телефонная книга. Этап 1\n",
    "    Коля устал запоминать телефонные номера и заказал у Вас программу, которая заменила бы ему телефонную книгу. Коля может послать программе два вида запросов: строку, содержащую имя контакта и его номер, разделенные пробелом, или просто имя контакта. В первом случае программа должна добавить в книгу новый номер, во втором – вывести номер контакта. Ввод происходит до символа точки. Если введенное имя уже содержится в списке контактов, необходимо перезаписать номер.\n",
    "\n",
    "Sample Input:\n",
    "\n",
    "Ben 89001234050\n",
    "\n",
    "Alice 210-220\n",
    "\n",
    "Alice\n",
    "\n",
    "Alice 404-502\n",
    "\n",
    "Nick +16507811251\n",
    "\n",
    "Ben\n",
    "\n",
    "Alex +4(908)273-22-42\n",
    "\n",
    "Alice\n",
    "\n",
    "Nick\n",
    "\n",
    "Robert 51234047129\n",
    "\n",
    "Alex\n",
    "\n",
    ".\n",
    "\n",
    "Sample Output:\n",
    "\n",
    "210-220\n",
    "\n",
    "89001234050\n",
    "\n",
    "404-502\n",
    "\n",
    "+16507811251\n",
    "\n",
    "+4(908)273-22-42\n"
   ]
  },
  {
   "cell_type": "code",
   "execution_count": 1,
   "id": "82e44886",
   "metadata": {},
   "outputs": [
    {
     "name": "stdout",
     "output_type": "stream",
     "text": [
      "Ben 89001234050\n",
      "Alice 210-220\n",
      "Alice\n",
      "210-220\n",
      "Alice 404-502\n",
      "Nick +16507811251\n",
      "Ben\n",
      "89001234050\n",
      "Alex +4(908)273-22-42\n",
      "Alice\n",
      "404-502\n",
      "Nick\n",
      "+16507811251\n",
      "Robert 51234047129\n",
      "Alex\n",
      "+4(908)273-22-42\n",
      ".\n"
     ]
    }
   ],
   "source": [
    "dic = {}\n",
    "info = input()\n",
    "while info != '.':\n",
    "    dy = info.split()\n",
    "    if len(dy) != 1:\n",
    "        dic[dy[0]] = dy[1]\n",
    "    else:\n",
    "        print(dic.get(dy[0]))\n",
    "    info = input()    "
   ]
  },
  {
   "cell_type": "code",
   "execution_count": null,
   "id": "16c7fe39",
   "metadata": {},
   "outputs": [],
   "source": [
    "myDict = {}\n",
    "for i in iter(input, '.'):\n",
    "    if i.isalpha():\n",
    "        print(myDict[i])\n",
    "    else:\n",
    "        myDict[i.split()[0]] = i.split()[1]"
   ]
  },
  {
   "cell_type": "code",
   "execution_count": null,
   "id": "93459a7c",
   "metadata": {},
   "outputs": [],
   "source": [
    "d = {}\n",
    "while True:\n",
    "    s = input().split()\n",
    "    if s[0] == '.':\n",
    "        break\n",
    "    if len(s) == 2:\n",
    "        d[s[0]] = s[1]\n",
    "    if len(s) == 1 :\n",
    "        print(d[s[0]])"
   ]
  },
  {
   "cell_type": "markdown",
   "id": "3d497fa8",
   "metadata": {},
   "source": [
    "# Словарь программиста\n",
    "    Стремясь стать программистом, важно не только постоянно учиться, но и понимать язык, на котором говорят Ваши коллеги. Чтобы систематизировать знания, Вы решили написать программу, которая составляет маленький словарь из сленговых выражений. Программа принимает на вход строки до символа точки, состоящие из понятий и их определений, разделенных знаком тире. После заполнения словаря программе передается натуральное число m – количество запросов, а затем m строк, каждая из которых представляет собой одно понятие. Если это понятие есть в словаре, необходимо вывести его определение, в обратном случае – \"Не найдено\".\n",
    "\n",
    "Sample Input:\n",
    "\n",
    "Бэкап – создание резервной копии сайта, программы, диска, либо определенных файлов\n",
    "\n",
    "DNS – компьютерная система для получения, хранения и обработки информации о доменных именах\n",
    "\n",
    "Интрасеть – это замкнутая внутренняя сеть какой-либо организации, работающая по Интернет-протоколу TCP/IP\n",
    "\n",
    "Фича – недокументированная дополнительная возможность, фишка\n",
    "\n",
    "Мейнфрейм – большой компьютер, имеющий высокую вычислительную мощность\n",
    "\n",
    "Юзверь – пользователь, не умеющий как следует на работать за компьютером и создающий себе и окружающим различные проблемы\n",
    "\n",
    "Костыль – быстрое, \"уродливое\" решение проблемы, которое иначе бы требовало долгогосрочного и ресурсоемкого исправления\n",
    "\n",
    ".\n",
    "\n",
    "4\n",
    "\n",
    "Фича\n",
    "\n",
    "Бэкап\n",
    "\n",
    "Линуксоид\n",
    "\n",
    "DNS\n",
    "\n",
    "Sample Output:\n",
    "\n",
    "недокументированная дополнительная возможность, фишка\n",
    "\n",
    "создание резервной копии сайта, программы, диска, либо определенных файлов\n",
    "\n",
    "Не найдено\n",
    "\n",
    "компьютерная система для получения, хранения и обработки информации о доменных именах"
   ]
  },
  {
   "cell_type": "code",
   "execution_count": null,
   "id": "573809b7",
   "metadata": {},
   "outputs": [],
   "source": [
    "dic = {}\n",
    "info = input()\n",
    "while info != '.':\n",
    "    dy = info.split(' – ')\n",
    "    dic[dy[0]] = dy[1]\n",
    "    info = input()\n",
    "\n",
    "for i in range(int(input())):\n",
    "    info = input()\n",
    "    if dic.get(info) != None:\n",
    "        print (dic[info])\n",
    "    else:\n",
    "        print ('Не найдено')"
   ]
  },
  {
   "cell_type": "code",
   "execution_count": null,
   "id": "c3ce9743",
   "metadata": {},
   "outputs": [],
   "source": [
    "dict = {}\n",
    "while True:\n",
    "    str = input().split(' – ')\n",
    "    if str[0] == '.':\n",
    "        break\n",
    "    dict[str[0]] = str[1]\n",
    "for _ in range(int(input())):\n",
    "    print(dict.get(input(), 'Не найдено'))"
   ]
  },
  {
   "cell_type": "code",
   "execution_count": null,
   "id": "be7245e2",
   "metadata": {},
   "outputs": [],
   "source": [
    "#развернутый с функцией iter(input, '.')\n",
    "d = {i.split(' – ')[0]: i.split(' – ')[1] for i in iter(input, '.')}\n",
    "[print(d.get(input(), 'Не найдено')) for _ in range(int(input()))]"
   ]
  },
  {
   "cell_type": "code",
   "execution_count": null,
   "id": "bff31d8e",
   "metadata": {},
   "outputs": [],
   "source": [
    "#функциональный\n",
    "(lambda d: [print(d.get(input(), 'Не найдено')) for _ in range(int(input()))])({i.split(' – ')[0]: i.split(' – ')[1] for i in iter(input, '.')})"
   ]
  },
  {
   "cell_type": "markdown",
   "id": "94225b06",
   "metadata": {},
   "source": [
    "# Маленький частотный анализ\n",
    "    На вход программе подается текст. Выведите слово (в нижнем регистре), которое встречается в тексте чаще всего, и количество его появлений через пробел. Гарантируется, что из знаков препинания встречаются только символы {\",\", \".\", \"?\", \"!\"}, а также то, что в тексте есть только одно слово с наибольшей частотой появлений.\n",
    "\n",
    "Sample Input 1:\n",
    "\n",
    "Корабли лавировали, лавировали, да не вылавировали\n",
    "\n",
    "Sample Output 1:\n",
    "\n",
    "лавировали 2\n",
    "\n",
    "Sample Input 2:\n",
    "\n",
    "Buffalo buffalo Buffalo buffalo buffalo buffalo Buffalo buffalo\n",
    "\n",
    "Sample Output 2:\n",
    "\n",
    "buffalo 8"
   ]
  },
  {
   "cell_type": "code",
   "execution_count": 1,
   "id": "6dcdf7b7",
   "metadata": {},
   "outputs": [
    {
     "name": "stdout",
     "output_type": "stream",
     "text": [
      "Корабли лавировали, лавировали, да не вылавировали\n",
      "лавировали 2\n"
     ]
    }
   ],
   "source": [
    "from collections import Counter\n",
    "s = [z.strip(\",.?!\").lower() for z in input().split()]\n",
    "c = Counter(s).most_common(1)\n",
    "print(*c[0])"
   ]
  },
  {
   "cell_type": "code",
   "execution_count": 2,
   "id": "edba3806",
   "metadata": {},
   "outputs": [
    {
     "name": "stdout",
     "output_type": "stream",
     "text": [
      "Buffalo buffalo Buffalo buffalo buffalo buffalo Buffalo buffalo\n",
      "buffalo 8\n"
     ]
    }
   ],
   "source": [
    "s = input().lower()\n",
    "for i in (\",\", \".\", \"?\", \"!\"):\n",
    "    s = s.replace(i ,'')\n",
    "s = s.split(' ')\n",
    "book = {}\n",
    "for i in s:\n",
    "    book.update({i : s.count(i)})\n",
    "for k in book.keys():\n",
    "    if book.get(k) == max(book.values()):\n",
    "        print(k, max(book.values()))"
   ]
  },
  {
   "cell_type": "code",
   "execution_count": 1,
   "id": "2fb3dc08",
   "metadata": {},
   "outputs": [
    {
     "name": "stdout",
     "output_type": "stream",
     "text": [
      "m M m m M m\n",
      "m 6\n"
     ]
    }
   ],
   "source": [
    "s = [i.strip('.,?!').lower() for i in input().split()]\n",
    "d = {s.count(i): i for i in s}\n",
    "print(d[max(d)], max(d))"
   ]
  },
  {
   "cell_type": "code",
   "execution_count": 3,
   "id": "a49b8807",
   "metadata": {},
   "outputs": [
    {
     "name": "stdout",
     "output_type": "stream",
     "text": [
      "alo Alo alo aloo Alo alo\n",
      "alo 5\n"
     ]
    }
   ],
   "source": [
    "#развернутый\n",
    "s = input().replace(',', ' ').replace('.', ' ').replace('?', ' ').replace('!', ' ').lower().split()\n",
    "d = {}\n",
    "[d.update({i: d.get(i, 0) + 1}) for i in s]\n",
    "print(*max(d.items(), key=lambda x: x[1]))"
   ]
  },
  {
   "cell_type": "code",
   "execution_count": 5,
   "id": "c54d4917",
   "metadata": {},
   "outputs": [
    {
     "name": "stdout",
     "output_type": "stream",
     "text": [
      "Xa xa, xa xaxa xaa xaXA xa!\n",
      "xa 4\n"
     ]
    },
    {
     "data": {
      "text/plain": [
       "([None, None, None, None, None, None, None], None)"
      ]
     },
     "execution_count": 5,
     "metadata": {},
     "output_type": "execute_result"
    }
   ],
   "source": [
    "#функциональный\n",
    "(lambda d: ([d.update({i: d.get(i, 0) + 1}) for i in input().replace(',', ' ').replace('.', ' ').replace('?', ' ').replace('!', ' ').lower().split()], print(*max(d.items(), key=lambda x: x[1]))))({})"
   ]
  },
  {
   "cell_type": "markdown",
   "id": "4e4df214",
   "metadata": {},
   "source": [
    "# Права доступа\n",
    "    Вася написал собственную операционную систему и теперь делает для нее систему прав доступа. Он решил, что в его системе будет 3 категории пользователей, обладающих разными правами: \n",
    "\n",
    "администраторы (admin) могут открывать и редактировать все файлы\n",
    "\n",
    "опытные пользователи (experienced) могут открывать все файлы, кроме конфиденциальных (confidential), но не могут редактировать файлы с настройками (settings) и системные файлы (system)\n",
    "\n",
    "обычные пользователи (user) не могут открывать и/или редактировать конфиденциальные и системные файлы, а также файлы с настройками.\n",
    "\n",
    "    Все категории пользователей могут открывать и редактировать обычные файлы (ordinary). При этом, если пользователь не имеет права открыть какой-либо файл, то, следовательно, он не имеет права его отредактировать.\n",
    "\n",
    "    Напишите программу, которая сначала принимает имена файлов и их тип до символа точки, а затем запросы вида \n",
    "\n",
    "    имя_файла действие категория_пользователя\n",
    "\n",
    "    Действие может принимать одно из двух значений – read или edit, категория пользователя – одно из трех вышеперечисленных. После каждого действия программа должна выводить \"Access granted\" или \"Access denied\" в зависимости от успешности действия. Ввод запросов также происходит до точки.\n",
    "\n",
    "Sample Input:\n",
    "\n",
    "driver.drv system\n",
    "\n",
    "bussiness_data.txt confidential\n",
    "\n",
    "gtaV_graphics.txt settings\n",
    "\n",
    "отчет.txt ordinary\n",
    "\n",
    "fight_club.torrent ordinary\n",
    "\n",
    "facebook_users.db ordinary\n",
    "\n",
    "revenue_data.txt confidential\n",
    "\n",
    "top10_anime_titles.txt confidential\n",
    "\n",
    "best_coding_practices.pdf ordinary\n",
    "\n",
    ".\n",
    "\n",
    "driver.drv read admin\n",
    "\n",
    "revenue_data.txt read experienced\n",
    "\n",
    "gtaV_graphics.txt edit \n",
    "\n",
    "отчет.txt edit admin\n",
    "\n",
    "отчет.txt read user\n",
    "\n",
    "fight_club.torrent read experienced\n",
    "\n",
    "facebook_users.db read user\n",
    "\n",
    "top10_anime_titles.txt read experienced\n",
    "\n",
    ".\n",
    "\n",
    "Sample Output:\n",
    "\n",
    "Access granted\n",
    "\n",
    "Access denied\n",
    "\n",
    "Access denied\n",
    "\n",
    "Access granted\n",
    "\n",
    "Access granted\n",
    "\n",
    "Access granted\n",
    "\n",
    "Access granted\n",
    "\n",
    "Access denied"
   ]
  },
  {
   "cell_type": "code",
   "execution_count": null,
   "id": "317d2ff0",
   "metadata": {},
   "outputs": [],
   "source": []
  },
  {
   "cell_type": "markdown",
   "id": "cb51ff7b",
   "metadata": {},
   "source": [
    "# Телефонная книга. Этап 2\n",
    "    Коля понял, что у многих из его знакомых есть несколько телефонных номеров и нельзя хранить только один из них. Он попросил доработать Вашу программу так, чтобы можно было добавлять к существующему контакту новый номер или даже несколько номеров, которые передаются через запятую. По запросу телефонного номера должен выводиться весь список номеров в порядке добавления, номера должны разделяться запятой. Если у контакта нет телефонных номеров, должна выводиться строка \"Не найдено\".\n",
    "\n",
    "Sample Input:\n",
    "\n",
    "Ben 89001234050, +70504321009\n",
    "\n",
    "Alice 210-220\n",
    "\n",
    "Alice\n",
    "\n",
    "Alice 404-502, 894-005, 439-095\n",
    "\n",
    "Nick +16507811251\n",
    "\n",
    "Ben\n",
    "\n",
    "Alex +4(908)273-22-42\n",
    "\n",
    "Alice\n",
    "\n",
    "Nick\n",
    "\n",
    "Robert 51234047129, 92174043215\n",
    "\n",
    "Alex\n",
    "\n",
    "Robert\n",
    "\n",
    ".\n",
    "\n",
    "Sample Output:\n",
    "\n",
    "210-220\n",
    "\n",
    "89001234050, +70504321009\n",
    "\n",
    "210-220, 404-502, 894-005, 439-095\n",
    "\n",
    "+16507811251\n",
    "\n",
    "+4(908)273-22-42\n",
    "\n",
    "51234047129, 92174043215"
   ]
  },
  {
   "cell_type": "code",
   "execution_count": 1,
   "id": "d0e566d3",
   "metadata": {},
   "outputs": [
    {
     "name": "stdout",
     "output_type": "stream",
     "text": [
      "Ben 89001234050, +70504321009\n",
      "Alice 210-220\n",
      "Alice\n",
      "210-220\n",
      "Alice 404-502, 894-005, 439-095\n",
      "Nick +16507811251\n",
      "Ben\n",
      "89001234050, +70504321009\n",
      "Alex +4(908)273-22-42\n",
      "Alice\n",
      "210-220, 404-502, 894-005, 439-095\n",
      "Nick\n",
      "+16507811251\n",
      "Robert 51234047129, 92174043215\n",
      "Alex\n",
      "+4(908)273-22-42\n",
      "Robert\n",
      "51234047129, 92174043215\n",
      "MAX\n",
      "Не найдено\n",
      ".\n"
     ]
    }
   ],
   "source": [
    "phone_book = dict()\n",
    "data = input()\n",
    "while data != '.':\n",
    "    data = data.replace(',','').split()\n",
    "    if len(data) == 1:\n",
    "        name = ''.join(data)\n",
    "        if name in phone_book:\n",
    "            print(', '.join(phone_book[name]))\n",
    "        else:\n",
    "            print(\"Не найдено\" )\n",
    "    else:\n",
    "        name, number = data[0],data[1:]\n",
    "        phone_book[name] = phone_book.get(name,[]) + number\n",
    "    data = input()"
   ]
  },
  {
   "cell_type": "code",
   "execution_count": null,
   "id": "ec2d18ca",
   "metadata": {
    "scrolled": true
   },
   "outputs": [],
   "source": [
    "[[print(*d.get(i, ['Не найдено']), sep=', ') if i.isalpha() else d.update({i.split()[0]: d.get(i.split()[0], []) + i.replace(', ', ' ').split()[1:]}) for i in iter(input, '.')] for d in [{}]]"
   ]
  },
  {
   "cell_type": "code",
   "execution_count": null,
   "id": "0df3c716",
   "metadata": {},
   "outputs": [],
   "source": [
    "d = {}\n",
    "s = input().split()\n",
    "while s != ['.']:\n",
    "    if len(s) < 2:\n",
    "        print(*d.get(s[0], ['Не найдено']), sep = ', ')\n",
    "    else:\n",
    "        d[s[0]] = d.get(s[0], list())\n",
    "        for i in range(1, len(s)):\n",
    "            s[i] = s[i].strip(',')\n",
    "            d[s[0]].append(s[i])\n",
    "    s = input().split()"
   ]
  },
  {
   "cell_type": "code",
   "execution_count": null,
   "id": "951c8bdf",
   "metadata": {},
   "outputs": [],
   "source": [
    "sd = {}\n",
    "for v in iter(input, '.'):\n",
    "    name, *tel = v.replace(',', '').split()\n",
    "    if tel:\n",
    "        sd.setdefault(name, []).extend(tel)\n",
    "    else:\n",
    "        print(*sd.get(name, ['Не найдено']), sep=', ')"
   ]
  },
  {
   "cell_type": "markdown",
   "id": "8be30a2c",
   "metadata": {},
   "source": [
    "# Инверсия справочника\n",
    "    В местной лавке продаются две версии географического справочника: список стран с указанием их столиц и список столиц с указанием стран, в которых они находятся. Вам поручено реализовать справочник, который умеет искать информацию в обе стороны, то есть по запросу о стране справочник должен выводить ее столицу, а по запросу о столице – страну. Программа принимает на вход пары \"страна-столица\" через двоеточие, пары вводятся до символа точки. Затем следуют строки до символа точки, состоящие из одного географического объекта: справочник должен ответить на эти запросы. Если запрашиваемого объекта нет в справочнике, необходимо вывести \"Нет данных\".\n",
    "\n",
    "Sample Input:\n",
    "\n",
    "Латвия: Рига\n",
    "\n",
    "Россия: Москва\n",
    "\n",
    "Чехия: Прага\n",
    "\n",
    "Кения: Найроби\n",
    "\n",
    "Египет: Каир\n",
    "\n",
    ".\n",
    "\n",
    "Рига\n",
    "\n",
    "Чехия\n",
    "\n",
    "Москва\n",
    "\n",
    "Найроби\n",
    "\n",
    "Египет\n",
    "\n",
    "Латвия\n",
    "\n",
    ".\n",
    "\n",
    "Sample Output:\n",
    "\n",
    "Латвия\n",
    "\n",
    "Прага\n",
    "\n",
    "Россия\n",
    "\n",
    "Кения\n",
    "\n",
    "Каир\n",
    "\n",
    "Рига"
   ]
  },
  {
   "cell_type": "code",
   "execution_count": null,
   "id": "7ed54c1d",
   "metadata": {},
   "outputs": [],
   "source": [
    "dic = {}\n",
    "for x in iter(input, '.'):\n",
    "    country, capital = x.split(': ')\n",
    "    dic[country] = capital\n",
    "    dic[capital] = country\n",
    "for x in iter(input, '.'):\n",
    "    print(dic.get(x, 'Нет данных'))"
   ]
  },
  {
   "cell_type": "code",
   "execution_count": null,
   "id": "7df15bdb",
   "metadata": {},
   "outputs": [],
   "source": [
    "d = {}\n",
    "for i in iter(input, '.'):\n",
    "    n = i.split(': ')\n",
    "    d[n[0]] = n[1]\n",
    "    d[n[1]] = n[0]\n",
    "for i in iter(input, '.'):\n",
    "    print(d.get(i, \"Нет данных\"))"
   ]
  },
  {
   "cell_type": "code",
   "execution_count": null,
   "id": "06658a85",
   "metadata": {},
   "outputs": [],
   "source": [
    "[([d.update({country: capital, capital: country}) for country, capital in [i.split(': ') for i in iter(input, '.')]], [print(d.get(info, 'Нет данных')) for info in iter(input, '.')]) for d in [{}]]"
   ]
  },
  {
   "cell_type": "markdown",
   "id": "04a16459",
   "metadata": {},
   "source": [
    "# Азбука Морзе\n",
    "    Напишите программу, которая умеет переводить текст в азбуку Морзе и наоборот. Для \"тире\" используйте символ \"—\", для \"точки\" – символ \"•\". Гарантируется, что все текстовые сообщения состоят только из букв латинского алфавита, а все сообщения в коде Морзе состоят только из символов \"—\" и \"•\". Знаки препинания не используются. Буквы в коде Морзе должны разделяться пробелом, а слова – символом табуляции.\n",
    "\n",
    "Sample Input 1:\n",
    "\n",
    "The quick brown fox jumps over the lazy dog\n",
    "\n",
    "Sample Output 1:\n",
    "\n",
    "— •••• •\t——•— ••— •• —•—• —•—\t—••• •—• ——— •—— —•\t••—• ——— —••—\t•——— ••— —— •——• •••\t——— •••— • •—•\t— •••• •\t•—•• •— ——•• —•——\t—•• ——— ——•\n",
    "\n",
    "Sample Input 2:\n",
    "\n",
    "— •••• •\t——•— ••— •• —•—• —•—\t—••• •—• ——— •—— —•\t••—• ——— —••—\t•——— ••— —— •——• •••\t——— •••— • •—•\t— •••• •\t•—•• •— ——•• —•——\t—•• ——— ——•\n",
    "\n",
    "Sample Output 2:\n",
    "\n",
    "the quick brown fox jumps over the lazy dog"
   ]
  },
  {
   "cell_type": "code",
   "execution_count": 7,
   "id": "136215f7",
   "metadata": {},
   "outputs": [
    {
     "name": "stdout",
     "output_type": "stream",
     "text": [
      "The quick brown fox jumps over the lazy dog\n",
      "— •••• •\t——•— ••— •• —•—• —•—\t—••• •—• ——— •—— —•\t••—• ——— —••—\t•——— ••— —— •——• •••\t——— •••— • •—•\t— •••• •\t•—•• •— ——•• —•——\t—•• ——— ——•\n"
     ]
    }
   ],
   "source": [
    "morze = {'a': '•—', 'b': '—•••', 'c': '—•—•', 'd': '—••', 'e': '•', 'f': '••—•', 'g': '——•', 'h': '••••', 'i': '••', 'j': '•———', 'k': '—•—', 'l': '•—••', 'm': '——', 'n': '—•', 'o': '———', 'p': '•——•', 'q': '——•—', 'r': '•—•', 's': '•••', 't': '—', 'u': '••—', 'v': '•••—', 'w': '•——', 'x': '—••—', 'y': '—•——', 'z': '——••'}\n",
    "morzechappasi = dict()\n",
    "for key,value in morze.items():\n",
    "    morzechappasi[value] = key\n",
    "text = []\n",
    "gap = input()\n",
    "if gap[0].isalpha():\n",
    "    gap = gap.lower().split()\n",
    "    for word in gap:\n",
    "        neword = []\n",
    "        for harf in word:\n",
    "            neword.append(morze[harf])\n",
    "        text.append(' '.join(neword))\n",
    "    print('\\t'.join(text))\n",
    "else:\n",
    "    text = []\n",
    "    word = \"\"\n",
    "    gap = gap.split('\\t')\n",
    "    for neword in gap: \n",
    "        neword = neword.split()\n",
    "        for harf in neword:\n",
    "            word += morzechappasi.get(harf)\n",
    "        text.append(str(word))\n",
    "        word = \"\"\n",
    "    print(' '.join(text)) "
   ]
  },
  {
   "cell_type": "code",
   "execution_count": 2,
   "id": "fe4a82cd",
   "metadata": {},
   "outputs": [
    {
     "name": "stdout",
     "output_type": "stream",
     "text": [
      "— •••• •\t——•— ••— •• —•—• —•—\t—••• •—• ——— •—— —•\t••—• ——— —••—\t•——— ••— —— •——• •••\t——— •••— • •—•\t— •••• •\t•—•• •— ——•• —•——\t—•• ——— ——•\n",
      "the quick brown fox jumps over the lazy dog "
     ]
    },
    {
     "data": {
      "text/plain": [
       "[None, None, None, None, None, None, None, None, None]"
      ]
     },
     "execution_count": 2,
     "metadata": {},
     "output_type": "execute_result"
    }
   ],
   "source": [
    "morze = {'a': '•—', 'b': '—•••', 'c': '—•—•', 'd': '—••', 'e': '•', 'f': '••—•', 'g': '——•', 'h': '••••', 'i': '••', 'j': '•———', 'k': '—•—', 'l': '•—••', 'm': '——', 'n': '—•', 'o': '———', 'p': '•——•', 'q': '——•—', 'r': '•—•', 's': '•••', 't': '—', 'u': '••—', 'v': '•••—', 'w': '•——', 'x': '—••—', 'y': '—•——', 'z': '——••'}\n",
    "latin = {v: k for k, v in morze.items()}\n",
    "s = input().lower()\n",
    "[print(*[morze[j] for j in i], end='\\t') for i in s.split()] if '•' not in s else [print(*[latin[j] for j in i.split()], sep='', end=' ') for i in s.split('\\t')]"
   ]
  },
  {
   "cell_type": "markdown",
   "id": "b4716c40",
   "metadata": {},
   "source": [
    "# Жаркий аукцион\n",
    "    Перед началом торгов организаторы аукциона объявляют все предметы, участвующие в аукционе, а также начальную цену, с которой начинаются продажи всех предметов. Также перед началом аукциона все участники обязаны заявить об участии, указав свое имя. Когда начинаются торги, каждый участник имеет право объявить предмет, который он желает приобрести, и новую ставку. Если новая ставка больше предыдущей, она принимается организаторами. Незарегистрированные участники не могут предлагать ставку. Торги заканчиваются фразой организаторов \"Аукцион закончен!\". После этого необходимо вывести результаты аукциона: в каждой строчке необходимо указать предмет, имя покупателя, а также итоговую стоимость. Если предмет остался без покупателя, вместо этого выведите \"Предложений не было\".\n",
    "\n",
    "    Формат ввода: в первой строке – список предметов через запятую; во второй – начальная стоимость всех предметов; в третьей – список имен участников через запятую; в последующих строках до строки \"Аукцион закончен!\" указываются название предмета, имя участника и новая ставка через пробел.\n",
    "\n",
    "    Формат вывода: в каждой строчке находится название предмета, имя покупателя и итоговая стоимость, разделенные пробелом.\n",
    "\n",
    "Sample Input:\n",
    "\n",
    "Apple II, компьютерная мышь Lisa, Sony PS1, YIS-805, IBM 5150, Macintosh LC520, Эльбрус 801-PC\n",
    "\n",
    "1500\n",
    "\n",
    "Michael, Jake, John, Alex, Jane, Steve\n",
    "\n",
    "John YIS-805 2400\n",
    "\n",
    "Jane Macintosh LC520 5000\n",
    "\n",
    "Jake Macintosh LC520 4000\n",
    "\n",
    "Michael IBM 5150 10000\n",
    "\n",
    "Alex Apple II 1501\n",
    "\n",
    "Steve Apple II 15000\n",
    "\n",
    "Sergey Apple II 17000\n",
    "\n",
    "Lisa компьютерная мышь Lisa 2000\n",
    "\n",
    "Jake Sony PS1 4200\n",
    "\n",
    "Аукцион закончен!\n",
    "\n",
    "\n",
    "Sample Output:\n",
    "\n",
    "Apple II Steve 15000\n",
    "\n",
    "компьютерная мышь Lisa Предложений не было\n",
    "\n",
    "Sony PS1 Jake 4200\n",
    "\n",
    "YIS-805 John 2400\n",
    "\n",
    "IBM 5150 Michael 10000\n",
    "\n",
    "Macintosh LC520 Jane 5000\n",
    "\n",
    "Эльбрус 801-PC Предложений не было"
   ]
  },
  {
   "cell_type": "code",
   "execution_count": null,
   "id": "0ad5bbe8",
   "metadata": {},
   "outputs": [],
   "source": [
    "d = {i: [] for i in input().split(', ')}\n",
    "startprise = int(input())\n",
    "people = input().split(', ')\n",
    "for i in iter(input, 'Аукцион закончен!'):\n",
    "    i = i.split()\n",
    "    if i[0] in people and int(i[-1]) > startprise:\n",
    "        d[' '.join(i[1:-1])].append((int(i[-1]), i[0]))\n",
    "for keys, values in d.items():\n",
    "    print(keys, *reversed(max(values, default=['Предложений не было'])))"
   ]
  },
  {
   "cell_type": "code",
   "execution_count": null,
   "id": "ce49b43e",
   "metadata": {},
   "outputs": [],
   "source": [
    "dic, startprise, people = {i: [] for i in input().split(', ')}, int(input()), input().split(', ')\n",
    "[dic[' '.join(i.split()[1:-1])].append((int(i.split()[-1]), i.split()[0])) for i in iter(input, 'Аукцион закончен!') if i.split()[0] in people and int(i.split()[-1]) > startprise]\n",
    "[print(keys, *reversed(max(values, default=['Предложений не было']))) for keys, values in dic.items()]"
   ]
  },
  {
   "cell_type": "code",
   "execution_count": 1,
   "id": "1c7a0511",
   "metadata": {},
   "outputs": [
    {
     "name": "stdout",
     "output_type": "stream",
     "text": [
      "Apple II, компьютерная мышь Lisa, Sony PS1, YIS-805, IBM 5150, Macintosh LC520, Эльбрус 801-PC\n",
      "1500\n",
      "Michael, Jake, John, Alex, Jane, Steve\n",
      "John YIS-805 2400\n",
      "Jane Macintosh LC520 5000\n",
      "Jake Macintosh LC520 4000\n",
      "Michael IBM 5150 10000\n",
      "Alex Apple II 1501\n",
      "Steve Apple II 15000\n",
      "Sergey Apple II 17000\n",
      "Lisa компьютерная мышь Lisa 2000\n",
      "Jake Sony PS1 4200\n",
      "Аукцион закончен!\n",
      "Apple II Steve 15000\n",
      "компьютерная мышь Lisa Предложений не было\n",
      "Sony PS1 Jake 4200\n",
      "YIS-805 John 2400\n",
      "IBM 5150 Michael 10000\n",
      "Macintosh LC520 Jane 5000\n",
      "Эльбрус 801-PC Предложений не было\n"
     ]
    }
   ],
   "source": [
    "d = {i: [] for i in input().split(', ')}\n",
    "start = int(input())\n",
    "names = input().split(', ')\n",
    "for i in iter(input, 'Аукцион закончен!'):\n",
    "    i = i.split()\n",
    "    if i[0] in names and int(i[-1]) > start:\n",
    "        d[' '.join(i[1:-1])].append((int(i[-1]), i[0]))\n",
    "for k, v in d.items():\n",
    "    print(k, *reversed(max(v, default=['Предложений не было'])))"
   ]
  },
  {
   "cell_type": "code",
   "execution_count": null,
   "id": "dfc4d13e",
   "metadata": {},
   "outputs": [],
   "source": [
    "items = input().split(', ')\n",
    "initial_cost = int(input())\n",
    "participants = input().split(', ')\n",
    "items_cost = {} \n",
    "for i in range(len(items)):\n",
    "    items_cost.update({items[i]: initial_cost})\n",
    "auction = input()\n",
    "owner = {}\n",
    "while not auction == 'Аукцион закончен!':\n",
    "    auction = auction.split()\n",
    "    name = str(' '.join(auction[1:-1]))\n",
    "    item = items_cost[name]\n",
    "    if auction[0] in participants:\n",
    "        auction[-1] = int(auction[-1])\n",
    "        if auction[-1] > item:\n",
    "            items_cost[name] = auction[-1]\n",
    "            owner.update({name: [auction[0], str(auction[-1])]})\n",
    "    auction = input()\n",
    "for x, y in owner.items():\n",
    "        items_cost[x] = str(' '.join(y))\n",
    "for res in items_cost:\n",
    "    if items_cost[res] == initial_cost:\n",
    "        items_cost[res] = 'Предложений не было'\n",
    "for x, y in items_cost.items():\n",
    "    print(x, y )"
   ]
  },
  {
   "cell_type": "markdown",
   "id": "af6df04a",
   "metadata": {},
   "source": [
    "# Bookflix\n",
    "    Напишите рекомендательную систему для нового сервиса Bookflix, подбирающего книги для пользователя. Сервис хранит все прочитанные пользователем книги и по его запросу \"Посоветуй мне книгу\" должен подобрать набор книг, соответствующий критериям:\n",
    "\n",
    "книга не должна быть прочитана пользователем ранее.\n",
    "\n",
    "книга должна быть в любимом жанре пользователя. Любимый жанр – это жанр, который чаще всего встречается в списке прочитанных книг. Любимых жанров может быть несколько.\n",
    "\n",
    "    Формат ввода: первая строка – список всех книг сервиса, передающихся через запятую. В описание книги входит фамилия автора, название в кавычках и жанр в скобках. Каждая последующая строка описывает одно из двух действий: уведомление о прочтении книги или запрос совета. Когда пользователь прочитывает книгу, программа через пробел принимает имя пользователя и название книги. Когда пользователь просит совета, программа принимает строку \"Посоветуй мне книгу\" и имя пользователя в скобках. Ввод строк заканчивается точкой.\n",
    "\n",
    "    Формат вывода: после каждой просьбы совета необходимо вывести список книг через запятую, названия книг указываются в кавычках. Если нельзя рекомендовать ни одну книгу, выведите \"Список пуст\". Порядок книг в списке не важен.\n",
    "\n",
    "    Гарантируется, что пользователи читают только книги из списка, а также то, что названия книг разных авторов не совпадают.\n",
    "\n",
    "Sample Input:\n",
    "\n",
    "Булгаков \"Собачье сердце\" (сатира), Толкин \"Властелин колец\" (фэнтези), Дойл \"Затерянный мир\" (научная фантастика), Кристи \"Десять негритят\" (детектив), Кинг \"Сияние\" (ужасы), Дойл \"Отравленный пояс\" (научная фантастика), Лавкрафт \"Зов Ктулху\" (ужасы), Лутц \"Изучаем Python\" (учебная литература), Рао \"C++ за 21 день\" (ужасы), Толкин \"Хоббит\" (фэнтези), Дойл \"Долина ужаса\" (детектив), Кинг \"Оно\" (ужасы), Кристи \"Убийство в доме викария\" (детектив), Кинг \"Противостояние\" (ужасы), Вейер \"Марсианин\" (научная фантастика)\n",
    "\n",
    "Dontsova \"Десять негритят\"\n",
    "\n",
    "Dontsova \"Долина ужаса\"\n",
    "\n",
    "Jerry \"Зов Ктулху\"\n",
    "\n",
    "Maria \"Хоббит\"\n",
    "\n",
    "Посоветуй мне книгу (Dontsova)\n",
    "\n",
    "Посоветуй мне книгу (Maria)\n",
    "\n",
    "Maria \"Властелин колец\"\n",
    "\n",
    "Jerry \"Противостояние\"\n",
    "\n",
    "Jerry \"Затерянный мир\"\n",
    "\n",
    "Посоветуй мне книгу (Jerry)\n",
    "\n",
    "Jerry \"Отравленный пояс\"\n",
    "\n",
    "Посоветуй мне книгу (Jerry)\n",
    "\n",
    "Посоветуй мне книгу (Maria)\n",
    "\n",
    ".\n",
    "\n",
    "Sample Output:\n",
    "\n",
    "\"Убийство в доме викария\"\n",
    "\n",
    "\"Властелин колец\"\n",
    "\n",
    "\"Сияние\", \"C++ за 21 день\", \"Оно\"\n",
    "\n",
    "\"Сияние\", \"C++ за 21 день\", \"Оно\", \"Марсианин\"\n",
    "\n",
    "Список пуст"
   ]
  },
  {
   "cell_type": "code",
   "execution_count": null,
   "id": "dca36f9c",
   "metadata": {},
   "outputs": [],
   "source": [
    "d={}\n",
    "name={}\n",
    "for i in input().split(','):\n",
    "       d[i.split('\"')[-1][1:]]=d.setdefault(i.split('\"')[-1][1:],[])+[''.join(i.split('\"')[1:-1])]\n",
    "for i in iter(input, '.'):\n",
    "            if i.split()[0]!='Посоветуй':\n",
    "                name[i.split()[0]]=name.setdefault(i.split()[0],set())|{' '.join(i.split()[1:])[1:-1]}\n",
    "            else:\n",
    "                give=i.split()[-1][1:-1]\n",
    "                name[give]=name.setdefault(give,set())\n",
    "                s={}\n",
    "                for j in name[give]:\n",
    "                    for k in d:\n",
    "                        if j in d[k]:\n",
    "                            s[k] = s.get(k, 0) + 1\n",
    "                k=[]\n",
    "                for l,v in s.items():\n",
    "                    if v==max(s.values()):\n",
    "                        k+=['\"'+d[l][i]+'\"' for i in range(len(d[l])) if d[l][i] not in name[give]]\n",
    "                if len(k)>0:\n",
    "                    print(*k, sep=\", \")  \n",
    "                else:\n",
    "                    print ('Список пуст')"
   ]
  },
  {
   "cell_type": "markdown",
   "id": "fe879f58",
   "metadata": {},
   "source": [
    "# Частотный анализ\n",
    "    Воспользуемся методом частотного анализа, чтобы расшифровать секретное послание. Кроме зашифрованного текста Вы располагаете информацией о том, сколько раз конкретная буква русского алфавита встречается в этом тексте. Используя эти данные, выведите дешифрованный текст. Гарантируется, что частоты букв не повторяются. Знаки препинания и пробелы не шифруются.\n",
    "    Формат ввода: в первой строке передается зашифрованный текст. На последующих строках до символа точки вводится информация о тексте вида <буква>: <частота>.\n",
    "    Формат вывода: одна строка – дешифрованный текст.\n",
    "\n",
    "Sample Input:\n",
    "\n",
    "与才海与才与\n",
    "\n",
    "б: 3\n",
    "\n",
    "а: 2\n",
    "\n",
    "о: 1\n",
    "\n",
    ".\n",
    "\n",
    "Sample Output:\n",
    "\n",
    "баобаб"
   ]
  },
  {
   "cell_type": "code",
   "execution_count": 1,
   "id": "54d50728",
   "metadata": {},
   "outputs": [
    {
     "name": "stdout",
     "output_type": "stream",
     "text": [
      "与才海与才与\n",
      "б: 3\n",
      "а: 2\n",
      "о: 1\n",
      ".\n",
      "баобаб\n"
     ]
    }
   ],
   "source": [
    "dic, line = {}, input()\n",
    "marks = '''!()-[]{};?@#$%:'\"\\,./^&*_'''\n",
    "for lett in line:\n",
    "    if lett in marks:continue\n",
    "    elif lett == \" \":continue \n",
    "    dic[lett] = dic.get(lett, 0) +1\n",
    "dic = {str(v):k for k, v in dic.items()}\n",
    "dat = input()\n",
    "while dat != '.':\n",
    "    lett, key = dat.split(': ')\n",
    "    line = line.replace(dic[key], lett)\n",
    "    dat = input()\n",
    "print(line)"
   ]
  },
  {
   "cell_type": "code",
   "execution_count": 1,
   "id": "f3dd94c0",
   "metadata": {},
   "outputs": [
    {
     "name": "stdout",
     "output_type": "stream",
     "text": [
      "与化骨骨化化, 骨化令令骨化化\n",
      "е: 6\n",
      "н: 4\n",
      "ж: 2\n",
      "ц: 1\n",
      ".\n",
      "ценнее, нежжнее\n"
     ]
    }
   ],
   "source": [
    "s1, s2 = input(),{}\n",
    "while True:\n",
    "    s = input().split(': ')\n",
    "    if s[0] == '.':\n",
    "        break\n",
    "    s2[s[1]] = s[0]\n",
    "print(*[s2[str(s1.count(i))] if i.isalpha() else i for i in s1],sep='')"
   ]
  },
  {
   "cell_type": "code",
   "execution_count": null,
   "id": "11bb4dd2",
   "metadata": {},
   "outputs": [],
   "source": [
    "a = input()\n",
    "b = input()\n",
    "while b != '.':\n",
    "    b = b.split(': ')\n",
    "    for i in a:\n",
    "        if a.count(i) == int(b[1]) and i not in ['.', ',', '!', '?', ' ']:\n",
    "            a = a.replace(i, b[0])\n",
    "    b = input()\n",
    "print(a)"
   ]
  },
  {
   "cell_type": "code",
   "execution_count": null,
   "id": "6c3f4e11",
   "metadata": {},
   "outputs": [],
   "source": [
    "a,b = input(),input().split(': ')\n",
    "while b != ['.']:\n",
    "    for i in a:\n",
    "        if i.isalpha() and a.count(i) == int(b[1]):\n",
    "            a = a.replace(i, b[0])\n",
    "    b = input().split(': ')\n",
    "print(a)"
   ]
  },
  {
   "cell_type": "markdown",
   "id": "3c7b6518",
   "metadata": {},
   "source": [
    "# Множества.\n",
    "\n",
    "\n",
    "\n",
    "План урока:\n",
    "\n",
    "1) Множества\n",
    "\n",
    "2) Методы множеств\n",
    "\n",
    "3) Операции над множествами\n",
    "\n",
    "4) frozenset\n",
    "\n",
    "5) множеств\n"
   ]
  },
  {
   "cell_type": "markdown",
   "id": "79b3bb3b",
   "metadata": {},
   "source": [
    "# Четвертая встроенная структура данных в Python – это множество (set). "
   ]
  },
  {
   "cell_type": "code",
   "execution_count": 4,
   "id": "4654af1f",
   "metadata": {},
   "outputs": [
    {
     "name": "stdout",
     "output_type": "stream",
     "text": [
      "{1, 2, 3, 4, 5, 6, 7, 8, 9, 10}\n",
      "True\n"
     ]
    }
   ],
   "source": [
    "numbers = {1, 2, 3, 4, 5, 6, 7, 8, 9, 10}\n",
    "other_numbers = {1, 1, 2, 3, 4, 5, 5, 5, 6, 7, 8, 9, 10, 10}\n",
    "print(other_numbers)    # будет выведено множество, аналогичное numbers\n",
    "print(numbers == other_numbers)   # выведет True\n"
   ]
  },
  {
   "cell_type": "code",
   "execution_count": 6,
   "id": "8a53e58a",
   "metadata": {},
   "outputs": [
    {
     "name": "stdout",
     "output_type": "stream",
     "text": [
      "set()\n"
     ]
    }
   ],
   "source": [
    "#Однако создать пустое множество с помощью фигурных скобок нельзя, так как они создают пустой словарь. \n",
    "#Вместо этого используйте ключевое слово set():\n",
    "empty = set()   # создали пустое множество\n",
    "print(empty)"
   ]
  },
  {
   "cell_type": "code",
   "execution_count": null,
   "id": "3dec4777",
   "metadata": {},
   "outputs": [],
   "source": [
    "#Также Вы можете превратить список или кортеж во множество с помощью функции set():\n",
    "set1 = set([\"Hello\", \"Hello\", \"World\", \"World\"])\n",
    "set2 = set([1] * 100)\n",
    "set3 = set(list(input()))   # множество символов введенной строки"
   ]
  },
  {
   "cell_type": "code",
   "execution_count": null,
   "id": "9c817cdc",
   "metadata": {},
   "outputs": [],
   "source": [
    "s = input()\n",
    "unique = []\n",
    "for char in s:\n",
    "    if char not in unique:\n",
    "        unique.append(char)\n",
    "print(len(unique))"
   ]
  },
  {
   "cell_type": "code",
   "execution_count": null,
   "id": "c838fb3e",
   "metadata": {},
   "outputs": [],
   "source": [
    "s = input()\n",
    "k = 0\n",
    "for i in range(len(s)):\n",
    "    if s[:i].find(s[i]) == -1:\n",
    "        k = k + 1\n",
    "print(k)"
   ]
  },
  {
   "cell_type": "code",
   "execution_count": null,
   "id": "834fa9e0",
   "metadata": {},
   "outputs": [],
   "source": [
    "print(len(set(list(input()))))\n",
    "# переводим строку в список символов -> переводим список во множество, \n",
    "# тем самым удаляя повторяющиеся элементы -> выводим длину множества\n"
   ]
  },
  {
   "cell_type": "raw",
   "id": "384e6309",
   "metadata": {},
   "source": [
    "Методы множеств\n",
    "\tУже созданное множество можно изменять с помощью методов. Для иллюстрации методов будем использовать множество s.\n",
    "\ts.add(element)\n",
    "\tДобавляет элемент во множество s.\n",
    "\ts.remove(element)\n",
    "\tУдаляет элемент из множества. Если такого элемента нет во множестве, программа завершится с ошибкой.\n",
    "\ts.discard(element)\n",
    "\tУдаляет элемент из множества. Если такого элемента нет во множестве, интерпретатор проигнорирует данную команду."
   ]
  },
  {
   "cell_type": "raw",
   "id": "a69058e7",
   "metadata": {},
   "source": [
    "Объединение множеств\n",
    "\tПолученное множество содержит элементы, содержащиеся хотя бы в одном из множеств.\n",
    "\ta | b ИЛИ a.union(b)\n",
    "\t\n",
    "\tПересечение множеств\n",
    "\tПолученное множество содержит элементы, содержащиеся в обоих множествах.\n",
    "\ta & b ИЛИ a.intersection(b)\n",
    "\t\n",
    "\tРазность множеств\n",
    "\tПолученное множество содержит элементы из множества a, но не содержит элементы из множества b.\n",
    "\ta - b ИЛИ a.difference(b)\n",
    "\t\n",
    "\tСимметрическая разность\n",
    "\tПолученное множество содержит элементы, содержащиеся в одном из множеств, но не содержащиеся в обоих.\n",
    "\ta ^ b ИЛИ a.symmetric_difference(b)\n",
    "\t\n",
    "Эти методы возвращают новое множество, поэтому полученное значение нужно сохранять в переменную. Однако, чтобы не писать a = a.difference(b), существуют аналогичные методы с добавлением “update”, которые изменяют множество, а не возвращают новое:\n",
    "a.update(b) вместо a = a | b\n",
    "a.intersection_update(b) вместо a = a & b\n",
    "a.difference_update(b) вместо a = a - b\n",
    "a.symmetric_difference_update(b) вместо a = a ^ b\n",
    "Также можно проверить, является ли одно множество подмножеством или надмножеством другого:\n",
    "a <= b ИЛИ a.issubset(b)\n",
    "\n",
    "\ta >= b ИЛИ a.issuperset(b)\n",
    "\t\n",
    "\tЭти методы вернут True или False.\n"
   ]
  },
  {
   "cell_type": "markdown",
   "id": "c8fc4f64",
   "metadata": {},
   "source": [
    "# frozenset"
   ]
  },
  {
   "cell_type": "code",
   "execution_count": null,
   "id": "3372d341",
   "metadata": {},
   "outputs": [],
   "source": [
    "set1 = set({1, 2, 3, 4})\n",
    "set2 = frozenset({3, 1, 4, 2})\n",
    "print(set1 == set2)   # True, ведь это одно и то же множество\n",
    "set1.add(5)\n",
    "set2.add(5)  # выведет ошибку, так как set2 - это frozenset"
   ]
  },
  {
   "cell_type": "code",
   "execution_count": null,
   "id": "56fe83c1",
   "metadata": {},
   "outputs": [],
   "source": [
    "Генераторы множеств\n",
    "\tСоздать множество можно и с помощью генератора. Для этого нужно поместить выражение в фигурные скобки:\n",
    "\tdef fahrenheit_to_celsius(temp):\n",
    "\t    # функция перевода температур\n",
    " \t    # ...\n",
    "\t    return temp\n",
    "\n",
    "\tfahrenheit = [ ... ]  # список температур в течение месяца\n",
    "\tcelsius = {fahrenheit_to_celsius(temp) for temp in fahrenheit}\n",
    "\tprint(celsius)  # множество температур\n"
   ]
  },
  {
   "cell_type": "markdown",
   "id": "3277923a",
   "metadata": {},
   "source": [
    "# Оптимальная выборка\n",
    "    В ходе исследований ученые делают некие замеры, результаты которых заносят в базу данных. Однако для анализа результатов нет необходимости держать в базе \"лишние\", повторяющиеся данные. Напишите программу, которая выводит максимальное количество записей, после удаления которых анализ результатов будет произведен верно. Список элементов вводится через пробел.\n",
    "\n",
    "Sample Input:\n",
    "\n",
    "6311 9423 142 142 8654 909 Error 6311 142 909 404 502 828 404 9423\n",
    "\n",
    "Sample Output:\n",
    "\n",
    "6"
   ]
  },
  {
   "cell_type": "code",
   "execution_count": null,
   "id": "1613bc27",
   "metadata": {},
   "outputs": [],
   "source": [
    "elm = input().split()\n",
    "#print(len(elm))\n",
    "#print(len(set(elm)))\n",
    "print(len(elm)-len(set(elm)))"
   ]
  },
  {
   "cell_type": "code",
   "execution_count": null,
   "id": "de429734",
   "metadata": {},
   "outputs": [],
   "source": [
    "[print(len(i)-len(set(i))) for i in [input().split()]]"
   ]
  },
  {
   "cell_type": "code",
   "execution_count": null,
   "id": "48366097",
   "metadata": {},
   "outputs": [],
   "source": [
    "print(*[len(i)-len(set(i)) for i in [input().split()]])"
   ]
  },
  {
   "cell_type": "markdown",
   "id": "1f9e9988",
   "metadata": {},
   "source": [
    "# Круги Эйлера №1\n",
    "    Учитель проверяет домашнее задание в классе и получил следующие ответы: из N школьников у M учеников домашнее задание съела собака, у K человек отключили свет, а P учеников постигли оба нечастья. Сколько человек выполнило домашнее задание?\n",
    "\n",
    "    Формат ввода: числа N, M, K и P, каждое в отдельной строке.\n",
    "\n",
    "    Формат вывода: количество учеников, сделавших домашнее задание.\n",
    "\n",
    "Sample Input:\n",
    "\n",
    "81\n",
    "\n",
    "25\n",
    "\n",
    "16\n",
    "\n",
    "9\n",
    "\n",
    "Sample Output:\n",
    "\n",
    "49"
   ]
  },
  {
   "cell_type": "code",
   "execution_count": null,
   "id": "02fbd4aa",
   "metadata": {},
   "outputs": [],
   "source": [
    "N = int(input())\n",
    "M = int(input())\n",
    "K = int(input())\n",
    "P = int(input())\n",
    "print(N - M - K + P)\n",
    "print(N - M + P - K)\n",
    "print(N - (M + K - P))\n",
    "print(N - (M - P) - (K - P) - P)"
   ]
  },
  {
   "cell_type": "code",
   "execution_count": null,
   "id": "63b38383",
   "metadata": {},
   "outputs": [],
   "source": [
    "N = range(int(input()))\n",
    "M = range(int(input()))\n",
    "K = range(int(input()))\n",
    "P = range(int(input()))\n",
    "print(len(N) - len(M) + len(P) - len(K))"
   ]
  },
  {
   "cell_type": "code",
   "execution_count": null,
   "id": "0cc58f5f",
   "metadata": {},
   "outputs": [],
   "source": [
    "print(int(input()) - (int(input()) + int(input()) - int(input())))"
   ]
  },
  {
   "cell_type": "code",
   "execution_count": null,
   "id": "cbce7b80",
   "metadata": {},
   "outputs": [],
   "source": [
    "N, M, M, P = [int(input()) for _ in 'NMKP']\n",
    "print(N - M - K + P)"
   ]
  },
  {
   "cell_type": "markdown",
   "id": "32ec3289",
   "metadata": {},
   "source": [
    "# Круги Эйлера №2\n",
    "    На летних каникулах N учеников класса поехали отдыхать на море, M учеников съездили в деревню, а K учеников сходили в поход. И в деревне, и на море были P учеников, а и в деревне, и в походе — T учеников. Сколько учеников в классе, если никто не смог посетить все три места сразу, а H учеников заболели и никуда не смогли поехать?\n",
    "\n",
    "    Формат ввода: числа N, M, K, P, T, H, каждое в отдельной строке.\n",
    "\n",
    "    Формат вывода: количество учеников.\n",
    "\n",
    "Sample Input:\n",
    "\n",
    "14\n",
    "\n",
    "16\n",
    "\n",
    "5\n",
    "\n",
    "10\n",
    "\n",
    "3\n",
    "\n",
    "2\n",
    "\n",
    "Sample Output\n",
    "\n",
    "24"
   ]
  },
  {
   "cell_type": "code",
   "execution_count": null,
   "id": "a5dcce9f",
   "metadata": {},
   "outputs": [],
   "source": [
    "N = int(input())\n",
    "M = int(input())\n",
    "K = int(input())\n",
    "P = int(input())\n",
    "T = int(input())\n",
    "H = int(input())\n",
    "print(N + M + K - (P + T) + H)"
   ]
  },
  {
   "cell_type": "code",
   "execution_count": null,
   "id": "4bfea7f7",
   "metadata": {},
   "outputs": [],
   "source": [
    "N, M, K, P, T, H = [int(input()) for _ in 'NMKPTH']\n",
    "print(N + M + K - (P + T) + H)"
   ]
  },
  {
   "cell_type": "code",
   "execution_count": null,
   "id": "4ac0ce86",
   "metadata": {},
   "outputs": [],
   "source": [
    "у,ч,е,н,и,к=[int(input()) for i in 'ученик']\n",
    "print(у+ч+е-н-и+к)"
   ]
  },
  {
   "cell_type": "code",
   "execution_count": null,
   "id": "9a7a4c81",
   "metadata": {},
   "outputs": [],
   "source": [
    "[print(n + m + k - p - t + h) for n, m, k, p, t, h in [[int(input()) for _ in range(6)]]]"
   ]
  },
  {
   "cell_type": "code",
   "execution_count": null,
   "id": "c24cba3f",
   "metadata": {},
   "outputs": [],
   "source": [
    "print(int(input())+int(input())+int(input())-int(input())-int(input())+int(input()))"
   ]
  },
  {
   "cell_type": "markdown",
   "id": "23c72593",
   "metadata": {},
   "source": [
    "# Корректные замеры\n",
    "    Ученые вновь проводят какие-то таинственные измерения, и на этот раз их интересует корректность проделанных расчетов. Были произведены две серии опытов. Замеры считаются корректными, если доля совпадающих показаний превышает 70% от количества опытов.\n",
    "\n",
    "    Формат ввода: две строки одинаковой длины с числами, введенными через пробел (каждое число — отдельное измерение в серии опытов). Все числа в строке различны.\n",
    "\n",
    "    Формат вывода: строка \"Корректно\", если выполняется условие, и \"Некорректно\" в обратном случае.\n",
    "\n",
    "Sample Input:\n",
    "\n",
    "141 854 32 0.9 43 85.6 90.2 42.5 180 97.9\n",
    "\n",
    "141 32 0.9 42.5 88 43 37 97.9 180 854\n",
    "\n",
    "Sample Output:\n",
    "\n",
    "Корректно"
   ]
  },
  {
   "cell_type": "code",
   "execution_count": null,
   "id": "fb61a2a5",
   "metadata": {},
   "outputs": [],
   "source": [
    "n_1 = set(input().split())\n",
    "n_2 = set(input().split())\n",
    "if len(n_1) - len(n_1 - n_2) > 7:\n",
    "    print(\"Корректно\")\n",
    "else:\n",
    "    print(\"Некорректно\")"
   ]
  },
  {
   "cell_type": "code",
   "execution_count": null,
   "id": "c3d3fc09",
   "metadata": {},
   "outputs": [],
   "source": [
    "s1, s2 = set(input().split()), set(input().split())\n",
    "print(\"Корректно\" if len(s1 & s2) > (len(s1) / 100) * 70 else \"Некорректно\")\n",
    "print(('Некорректно', 'Корректно')[len(a & b) > len(a) * 0.7])"
   ]
  },
  {
   "cell_type": "code",
   "execution_count": null,
   "id": "5ddee0e5",
   "metadata": {},
   "outputs": [],
   "source": [
    "[print(('Некорректно', 'Корректно')[len(a & b) > len(a) * 0.7]) for a, b in [[set(input().split()), set(input().split())]]]"
   ]
  },
  {
   "cell_type": "markdown",
   "id": "87ffa1c4",
   "metadata": {},
   "source": [
    "# Измерительная гонка\n",
    "    Чтобы получить грант, ученые должны продемонстрировать, что их измерения как можно более точны. Каждый ученый проводит две серии опытов. Специальная комиссия оценивает корректность замеров по проценту совпадающих показаний. Грант получит тот ученый, который как можно точнее проведет замеры.\n",
    "\n",
    "    Формат ввода: число n — количество ученых, участвующих в конкурсе на грант. Далее следуют n пар строк, описывающие серии опытов одного ученого. Пары нумеруются с 1, все числа в строке различны.\n",
    "\n",
    "    Формат вывода: номер ученого, который получит грант. Гарантируется, что наибольшей точности достиг только один ученый.\n",
    "\n",
    "Sample Input:\n",
    "\n",
    "8\n",
    "\n",
    "100 107 115 114\n",
    "\n",
    "111 104 108 102\n",
    "\n",
    "105 113 101 109\n",
    "\n",
    "102 120 101 115\n",
    "\n",
    "105 120 112 100 108 106\n",
    "\n",
    "116 113 115 107 117 114\n",
    "\n",
    "111 116 102 105 104 114 106\n",
    "\n",
    "114 120 101 118 107 116 109\n",
    "\n",
    "104 108 115 112 117 113 114\n",
    "\n",
    "107 113 101 106 110 109 116\n",
    "\n",
    "101 119 112 107 115 113 116 105\n",
    "\n",
    "115 100 120 110 114 108 112 111\n",
    "\n",
    "115 106 112 111 119\n",
    "\n",
    "110 115 113 108 104\n",
    "\n",
    "104 102 120 101 108 106\n",
    "\n",
    "105 110 120 115 111 116\n",
    "\n",
    "Sample Output:\n",
    "\n",
    "4"
   ]
  },
  {
   "cell_type": "code",
   "execution_count": null,
   "id": "d8650f61",
   "metadata": {},
   "outputs": [],
   "source": [
    "ls = []\n",
    "for _ in range(int(input())):\n",
    "    s = len(set(input().split()) & set(input().split()))\n",
    "    ls.append(s)\n",
    "print(ls.index(max(ls)) + 1)"
   ]
  },
  {
   "cell_type": "markdown",
   "id": "14964e3a",
   "metadata": {},
   "source": [
    "# Мост 2.0\n",
    "    Действие сериала \"Мост\" происходит в двух странах: в Швеции и Дании. Несмотря на то, что персонажи сериала говорят то на шведском, то на датском, у местного населения нет проблем с воприятием диалогов, так как им знакомы оба языка. Именитый режиссер небольшого государства хочет снять фильм, который бы в целях экперимента задействовал как можно больше языков. Однако он патриот своей страны и, ради удобства граждан, включит в фильм только те языки, которые знает каждый человек в стране. Напишите программу, которая составляет для него список языков для фильма.\n",
    "\n",
    "    Формат ввода: режиссер устроил опрос, который прошел каждый гражданин страны. В первой строке указывается число n - население государства. В каждой из следующих k строках (k <= n) через запятую указывается список языков, которые знает k-ый гражданин.\n",
    "\n",
    "    Формат вывода: список языков через запятую. Порядок элементов не важен. Если составить такой список нельзя, необходимо вывести \"Фильм снять не удастся:(\"\n",
    "\n",
    "Sample Input:\n",
    "\n",
    "6\n",
    "\n",
    "испанский, португальский, эсперанто, французский\n",
    "\n",
    "французский, испанский, эсперанто\n",
    "\n",
    "португальский, эсперанто, французский, испанский\n",
    "\n",
    "французский, английский, болгарский, испанский, эсперанто\n",
    "\n",
    "эсперанто, английский, русский, испанский, французский\n",
    "\n",
    "python, испанский, эсперанто, латышский, польский, французский\n",
    "\n",
    "Sample Output:\n",
    "\n",
    "эсперанто, французский, испанский"
   ]
  },
  {
   "cell_type": "code",
   "execution_count": null,
   "id": "d9244b77",
   "metadata": {},
   "outputs": [],
   "source": [
    "lang, analyze = [], set()\n",
    "for _ in range(int(input())):\n",
    "    lang.append(set(input().replace(\" \", \"\").split(\",\")))\n",
    "for _ in range(0, len(lang)):\n",
    "    analyze = lang[_ - 1] & lang[_]\n",
    "if analyze == set():\n",
    "    print(\"Фильм снять не удастся:(\")\n",
    "else:\n",
    "    print(\", \".join(analyze))"
   ]
  },
  {
   "cell_type": "code",
   "execution_count": null,
   "id": "cb386338",
   "metadata": {},
   "outputs": [],
   "source": [
    "n = int(input())\n",
    "s = [set(input().split(', ')) for _ in range(n)]\n",
    "a = s[0]\n",
    "for i in s:\n",
    "    m = a & i\n",
    "if len(m):\n",
    "    print(*m, sep=', ')\n",
    "else:\n",
    "    print('Фильм снять не удастся:(')"
   ]
  },
  {
   "cell_type": "code",
   "execution_count": null,
   "id": "e612aaa3",
   "metadata": {},
   "outputs": [],
   "source": [
    "common = set.intersection(*[set(input().split(\", \")) for i in range(int(input()))])\n",
    "print(\", \".join(common) if common else \"Фильм снять не удастся:(\")"
   ]
  },
  {
   "cell_type": "code",
   "execution_count": null,
   "id": "f4b49661",
   "metadata": {},
   "outputs": [],
   "source": [
    "# Bu chala, enumerate() bn ishlash kk!!!\n",
    "lang = []\n",
    "analyze = set()\n",
    "for _ in range(int(input())):\n",
    "    k = input().replace(\" \", \"\")\n",
    "    k = set(k.split(\",\"))\n",
    "    lang.append(k)\n",
    "for x, y in enumerate(lang):\n",
    "    analyze = (y - x[0]) & y\n",
    "if analyze == set():\n",
    "    print(\"Фильм снять не удастся:(\")\n",
    "else:\n",
    "    print(\", \".join(analyze))"
   ]
  },
  {
   "cell_type": "markdown",
   "id": "d2845f02",
   "metadata": {},
   "source": [
    "# Круги Эйлера №3\n",
    "    Ученикам было задано прочитать три книги на зимних каникулах. В результате N человек прочитали первую книгу, M человек — вторую книгу, K человек — третью книгу. Также известно, что A человек прочитали либо первую книгу, либо вторую, B человек — либо вторую, либо третью и C человек — либо первую, либо третью. Полностью задание выполнили D человек — они прочитали все три книги. Всего в классе X учеников. Определите, сколько человек:\n",
    "\n",
    "    1) прочитали ровно одну книгу;\n",
    "\n",
    "    2) прочитали ровно две книги;\n",
    "\n",
    "    3) не прочитали ни одной книги.\n",
    "\n",
    "    Формат ввода: числа N, M, K, A, B, C, D, X, каждое в отдельной строке.\n",
    "\n",
    "    Формат вывода: ответы на вопросы выше, каждое число на отдельной строке.\n",
    "\n",
    "Sample Input:\n",
    "\n",
    "7\n",
    "\n",
    "5\n",
    "\n",
    "11\n",
    "\n",
    "10\n",
    "\n",
    "12\n",
    "\n",
    "12\n",
    "\n",
    "2\n",
    "\n",
    "25\n",
    "\n",
    "Sample Output:\n",
    "\n",
    "5\n",
    "\n",
    "6\n",
    "\n",
    "12"
   ]
  },
  {
   "cell_type": "code",
   "execution_count": 1,
   "id": "0fea8834",
   "metadata": {},
   "outputs": [
    {
     "name": "stdout",
     "output_type": "stream",
     "text": [
      "7\n",
      "5\n",
      "11\n",
      "10\n",
      "12\n",
      "12\n",
      "2\n",
      "25\n",
      "5\n",
      "6\n",
      "12\n"
     ]
    }
   ],
   "source": [
    "N, M, K, A, B, C, D, X = [int(input()) for _ in range(8)]\n",
    "NAM = N + M - A - D\n",
    "MBK = M + K - B - D\n",
    "NCK = N + K - C - D\n",
    "N1 = N - NAM - D - NCK\n",
    "M1 = M - NAM - D - MBK\n",
    "K1 = K - NCK - D - MBK\n",
    "read1 = N1 + M1 + K1\n",
    "read2 = NAM + MBK + NCK\n",
    "totalread = NAM + MBK + NCK + D + N1 + M1 + K1\n",
    "noread = X - totalread\n",
    "print(read1, read2, noread, sep = '\\n')"
   ]
  },
  {
   "cell_type": "markdown",
   "id": "c09b65a1",
   "metadata": {},
   "source": [
    "# Линейные структуры данных.\n",
    "\n",
    "План урока\n",
    "\n",
    "1. Стек\n",
    "\n",
    "2. Очередь\n",
    "\n",
    "3. Дек\n",
    "\n",
    "4. Встроенная реализация"
   ]
  },
  {
   "cell_type": "markdown",
   "id": "70ae92b0",
   "metadata": {},
   "source": [
    "# 1. Стек\n",
    "    Стек (Stack) – это упорядоченная коллекция элементов, где добавление нового или удаление существующего элемента всегда происходит только на одном из концов. Проще представить стек как стопку коробок. Добавляя элемент (коробку), мы ставим его на вершину стопки. Разгружая коробки, мы поочередно снимаем их с вершины, пока не добираемся до коробки в основании стопки\n",
    "    \n",
    "    Итак, определим действия, которые нужны для реализации стека:\n",
    "\n",
    "добавление элемента на вершину (push)\n",
    "\n",
    "удаление элемента с вершины (pop)\n",
    "\n",
    "просмотр элемента на вершине без удаления (top)\n",
    "\n",
    "получение информации о размере стека (size)\n",
    "\n",
    "очистка стека (clear)\n",
    "\n",
    "Реализовывать стек мы будем на основе списка, определив для каждого действия отдельную функцию:\n"
   ]
  },
  {
   "cell_type": "code",
   "execution_count": 2,
   "id": "d81caeb7",
   "metadata": {},
   "outputs": [
    {
     "name": "stdout",
     "output_type": "stream",
     "text": [
      "Над пропастью во ржи\n",
      "3\n",
      "Гордость и предубеждение\n",
      "2\n",
      "0\n"
     ]
    }
   ],
   "source": [
    "def push(value):\n",
    "    stack.append(value)\n",
    "\n",
    "def pop():\n",
    "    return stack.pop()\n",
    "\n",
    "def top():\n",
    "    return stack[-1]\n",
    "\n",
    "def size():\n",
    "    return len(stack)\n",
    "\n",
    "def clear():\n",
    "    stack.clear()\n",
    "\n",
    "stack = []\n",
    "\n",
    "# моделирование книжной полки\n",
    "push(\"Война и мир\")\n",
    "push(\"Гордость и предубеждение\")\n",
    "push(\"Над пропастью во ржи\")\n",
    "print(top())  # \"Над пропастью во ржи\"\n",
    "print(size())  # 3\n",
    "pop()\n",
    "print(top())  # \"Гордость и предубеждение\"\n",
    "print(size())  # 2\n",
    "clear()\n",
    "print(size())  # 0\n"
   ]
  },
  {
   "cell_type": "code",
   "execution_count": 3,
   "id": "97d8b739",
   "metadata": {},
   "outputs": [
    {
     "name": "stdout",
     "output_type": "stream",
     "text": [
      "POST 12\n",
      "POST 15\n",
      "POST 81\n",
      "GET\n",
      "81\n",
      "DELETE\n",
      "DELETE\n",
      "GET\n",
      "12\n",
      "POST Stack Overflow\n",
      "POST Recursion\n",
      "DELETE\n",
      "GET\n",
      "Stack Overflow\n",
      ".\n",
      "12 Stack Overflow\n"
     ]
    }
   ],
   "source": [
    "#lis=[]\n",
    "#while True:\n",
    "    #order=input()\n",
    "    #if order=='.': break\n",
    "    #else:\n",
    "        #if 'GET' in order:\n",
    "            #print (lis[-1])\n",
    "        #if 'POST' in order:\n",
    "            #lis.append(order[5:])\n",
    "        #if 'DELETE' in order:\n",
    "            #del lis[-1]\n",
    "#print(*lis)\n",
    "\n",
    "#--->>>\n",
    "\n",
    "def push(value):\n",
    "    stack.append(value)\n",
    "\n",
    "def pop():\n",
    "    return stack.pop()\n",
    "\n",
    "def top():\n",
    "    return stack[-1]\n",
    "\n",
    "def size():\n",
    "    return len(stack)\n",
    "\n",
    "def clear():\n",
    "    stack.clear()\n",
    "\n",
    "stack = []\n",
    "\n",
    "command = input()\n",
    "while command != \".\":\n",
    "    if command.startswith(\"POST\"):\n",
    "        push(command[5:])\n",
    "    elif command.startswith(\"GET\"):\n",
    "        print(top())\n",
    "    elif command.startswith(\"DELETE\"):\n",
    "        pop()\n",
    "    command = input()\n",
    "print(\" \".join(stack))\n"
   ]
  },
  {
   "cell_type": "markdown",
   "id": "93972fc3",
   "metadata": {},
   "source": [
    "# 2. Очередь\n",
    "\tВ отличие от стека очередь (queue) реализует принцип организации данных под названием FIFO (“First In First Out” – “первым пришел – первым ушел”), моделируя таким образом известную нам из жизни очередь. Добавляются элементы в “хвост” очереди, а извлекаются с “головы” очереди. Очередь в программировании используется, как и в реальной жизни, когда нужно совершить какие-то действия в порядке их поступления, выполнив их последовательно. Действия, которые необходимо реализовать для очереди:\n",
    "\n",
    "добавление элемента в “хвост” очереди (push)\n",
    "\n",
    "удаление элемента из “головы” очереди (pop)\n",
    "\n",
    "просмотр элемента в “голове” очереди без его удаления (top)\n",
    "\n",
    "получение информации о размере очереди (size)\n",
    "\n",
    "очистка очереди (clear)\n",
    "\n",
    "Реализовывать очередь мы будем снова на основе списка:"
   ]
  },
  {
   "cell_type": "code",
   "execution_count": 6,
   "id": "5b767f31",
   "metadata": {},
   "outputs": [
    {
     "name": "stdout",
     "output_type": "stream",
     "text": [
      "Стейк\n",
      "3\n",
      "Салат\n",
      "2\n",
      "0\n"
     ]
    }
   ],
   "source": [
    "def push(value):\n",
    "    queue.append(value)\n",
    "\n",
    "def pop():\n",
    "    return queue.pop(0)\n",
    "\n",
    "def top():\n",
    "    return queue[0]\n",
    "\n",
    "def size():\n",
    "    return len(queue)\n",
    "\n",
    "def clear():\n",
    "    queue.clear()\n",
    "\n",
    "queue = []\n",
    "# моделируем очередь в ресторане\n",
    "push(\"Стейк\")\n",
    "push(\"Салат\")\n",
    "push(\"Десерт\")\n",
    "print(top())  # Стейк\n",
    "print(size())  # 3\n",
    "pop()\n",
    "print(top())  # Салат\n",
    "print(size())  # 2\n",
    "clear()\n",
    "print(size())  # 0\n",
    "\n",
    "# Из этой реализации видно, что “хвост” и “голова” очереди – это соответственно конец и начало списка queue."
   ]
  },
  {
   "cell_type": "markdown",
   "id": "7a9fb7a0",
   "metadata": {},
   "source": [
    "# 3. Дек\n",
    "\tДек (deque – “Double-Ended Queue”) – это некий гибрид очереди и стека, которые часто иначе называют двусвязной (или двухсторонней) очередью. Дек также имеет “голову” и “хвост”, однако добавлять и извлекать элементы можно с любой стороны. Таким образом, количество действий, которые нужно реализовать, заметно возрастает:\n",
    "\n",
    "добавление элемента к “хвост” (push_back)\n",
    "\n",
    "добавление элемента в “голову” (push_front)\n",
    "\n",
    "удаление элемента из “хвоста” (pop_back)\n",
    "\n",
    "удаление элемента из “головы” (pop_front)\n",
    "\n",
    "просмотр элемента в “хвосте” без его удаления (back)\n",
    "\n",
    "просмотр элемента в “голове” без его удаления (top)\n",
    "\n",
    "получение информации о размере дека (size)\n",
    "\n",
    "очистка дека (clear)\t\n",
    "\n",
    "Приведем реализацию дека:\n"
   ]
  },
  {
   "cell_type": "code",
   "execution_count": 9,
   "id": "7328f591",
   "metadata": {},
   "outputs": [],
   "source": [
    "def push_back(value):\n",
    "    dequeue.append(value)\n",
    "\n",
    "def push_front(value):\n",
    "    dequeue.insert(0, value)\n",
    "\n",
    "def pop_back():\n",
    "    return dequeue.pop()\n",
    "\n",
    "def pop_front():\n",
    "    return dequeue.pop(0)\n",
    "\n",
    "def top():\n",
    "    return dequeue[0]\n",
    "\n",
    "def back():\n",
    "    return dequeue[-1]\n",
    "\n",
    "def size():\n",
    "    return len(dequeue)\n",
    "\n",
    "def clear():\n",
    "    dequeue.clear()\n",
    "\n",
    "dequeue = []\n"
   ]
  },
  {
   "cell_type": "code",
   "execution_count": 10,
   "id": "c8ddbaa9",
   "metadata": {},
   "outputs": [
    {
     "name": "stdout",
     "output_type": "stream",
     "text": [
      "Аргентина манит негра\n",
      "YES\n"
     ]
    }
   ],
   "source": [
    "pal = input().replace(' ', '').lower()\n",
    "if pal == pal[::-1]:\n",
    "    print(\"YES\")\n",
    "else:\n",
    "    print(\"NO\")"
   ]
  },
  {
   "cell_type": "code",
   "execution_count": 12,
   "id": "4ff9f055",
   "metadata": {},
   "outputs": [
    {
     "name": "stdout",
     "output_type": "stream",
     "text": [
      "Аргентина манит негра\n",
      "YES\n"
     ]
    }
   ],
   "source": [
    "def push_back(value):\n",
    "    dequeue.append(value)\n",
    "\n",
    "def push_front(value):\n",
    "    dequeue.insert(0, value)\n",
    "\n",
    "def pop_back():\n",
    "    return dequeue.pop()\n",
    "\n",
    "def pop_front():\n",
    "    return dequeue.pop(0)\n",
    "\n",
    "def top():\n",
    "    return dequeue[0]\n",
    "\n",
    "def back():\n",
    "    return dequeue[-1]\n",
    "\n",
    "def size():\n",
    "    return len(dequeue)\n",
    "\n",
    "def clear():\n",
    "    dequeue.clear()\n",
    "\n",
    "dequeue = []\n",
    "\n",
    "s = list(input().lower().replace(\" \", \"\"))\n",
    "for char in s:\n",
    "    push_back(char)\n",
    "\n",
    "palindrome = True\n",
    "while size() > 1 and palindrome:\n",
    "    first, last = pop_front(), pop_back()\n",
    "    if first != last:\n",
    "        palindrome = False\n",
    "\n",
    "print(\"YES\" if palindrome else \"NO\")\n",
    "\n",
    "# Возможно, этот пример покажется намного более громоздким решением этой несложной задачи, однако дек может выручить при решении гораздо более сложных задач."
   ]
  },
  {
   "cell_type": "markdown",
   "id": "e28356cf",
   "metadata": {},
   "source": [
    "# 4. Встроенная реализация\n",
    "\tВ реальной разработке Вам редко придется самостоятельно реализовывать структуры данных.  Теперь, когда Вы понимаете их устройство и назначение, ради экономии времени можно воспользоваться реализацией, встроенной в язык Python.\n",
    "\t\n",
    "    Так как дек предоставляет обширный список функций, он может реализовывать как стек, так и очередь. Поэтому Python позволяет импортировать именно эту структуру данных и использовать ее, как Вам угодно.\n",
    "\t\n",
    "    Мы остановимся подробней на импортировании модулей и библиотеках позже, однако Вы, возможно, уже использовали некоторые модули: например, math. Модули расширяют стандартные средства Python и добавляют новые полезные функции (так, math добавляет тригонометрические функции, функцию извлечения корня и т. д.)\n",
    "\t\n",
    "    Дек находится в модуле collections, поэтому, чтобы начать его использовать, необходимо написать\n",
    "\t\n",
    "    from collections import deque\n",
    "\t# буквально читаем: \"из модуля collections импортировать deque\"\n",
    "\t# теперь можно использовать дек, используя новое ключевое слово deque\n",
    "\titems = deque([\"Стейк\", \"Салат\", \"Десерт\"])  # в круглых скобках можно передать начальные значения\n",
    "\n",
    "\t\n",
    "\tМетоды этой встроенной реализации идентичны функциям, которые мы написали; они имеют лишь немного другие названия. Полный список методов, а также примеры их использования можно найти в документации:\n",
    "https://docs.python.org/3.7/library/collections.html#deque-objects\n"
   ]
  },
  {
   "cell_type": "markdown",
   "id": "666dff77",
   "metadata": {},
   "source": [
    "# Работаем эффективно\n",
    "    Дмитрий руководит разделом разработки, поэтому для него важно эффективно распределить задачи. Для этого он собирает от тестеров отзывы и группирует недочеты по трем категориям: bugs, features и design. Он может добавить какую-то недоработку в одну из групп и, после исправления, убрать ее оттуда. Команда всегда занимается исправлением последнего добавленного задания. Задача Дмитрия — исправить как можно больше недочетов до релиза приложения. Напишите программу, которая печатает количество оставшихся недочетов в каждой из групп на момент релиза.\n",
    "\n",
    "    Формат ввода: строки вида \"Добавить в <название группы>: <задание>\" или \"Убрать задание из <название группы>\". Последовательность строк заканчивается строкой \"Релиз!\".\n",
    "\n",
    "    Формат вывода: три строки — последний добавленный неисправленный недочет в группах bugs, features и design (именно в таком порядке). Если в какой-то группе все исправлено, для нее нужно вывести \"Все исправлено!\".\n",
    "\n",
    "Sample Input:\n",
    "\n",
    "Добавить в bugs: исправить верстку блока\n",
    "\n",
    "Добавить в features: добавить рекламу\n",
    "\n",
    "Добавить в bugs: улучшить валидацию формы\n",
    "\n",
    "Убрать задание из bugs\n",
    "\n",
    "Добавить в design: увеличить логотип\n",
    "\n",
    "Убрать задание из features\n",
    "\n",
    "Добавить в design: изменить цвет у footer\n",
    "\n",
    "Добавить в features: добавить испанский язык\n",
    "\n",
    "Убрать задание из design\n",
    "\n",
    "Добавить в bugs: поправить добавление в корзину\n",
    "\n",
    "Добавить в design: увеличить шрифт на главной\n",
    "\n",
    "Убрать задание из design\n",
    "\n",
    "Релиз!\n",
    "\n",
    "Sample Output:\n",
    "\n",
    "поправить добавление в корзину\n",
    "\n",
    "добавить испанский язык\n",
    "\n",
    "увеличить логотип"
   ]
  },
  {
   "cell_type": "code",
   "execution_count": null,
   "id": "feb0fcf2",
   "metadata": {},
   "outputs": [],
   "source": [
    "problems = {'bugs': [], 'features': [], 'design': []}\n",
    "def push():\n",
    "   problems[command[0].split()[-1]].append(command[1])\n",
    "def pop():\n",
    "   problems[command[-1]].pop()\n",
    "#def top():\n",
    "   #print(problems[i][-1])\n",
    "command = input()\n",
    "while command != \"Релиз!\":\n",
    "    if command.startswith(\"Добавить\"):\n",
    "        command = command.split(': ')\n",
    "        push()\n",
    "    elif command.startswith('Убрать'):\n",
    "            command = command.split()\n",
    "            pop()\n",
    "    else: break\n",
    "    command = input() \n",
    "for i in problems.keys():\n",
    "   if len(problems[i]) != 0:\n",
    "      #top()\n",
    "      print(problems[i].pop())\n",
    "   else: print(\"Все исправлено!\")"
   ]
  },
  {
   "cell_type": "code",
   "execution_count": null,
   "id": "d6f118b9",
   "metadata": {},
   "outputs": [],
   "source": [
    "stek = {'bugs': [], 'features': [], 'design': []}   # создаем словарь сразу с ключами\n",
    "for i in iter(input, 'Релиз!'):                     # вводим строки, пока не 'Релиз!'\n",
    "    if i[0] == 'Д':                                 # если ввод начинается на 'Д'\n",
    "        tmp = i.split(': ')                         # разбиваем строку по ': ' на 2 части\n",
    "        stek[tmp[0].split()[-1]].append(tmp[1])     # последнее слово в первой части строки - это ключ словаря (группа)\n",
    "                                                    # вторая часть строки - задание\n",
    "    else:\n",
    "        stek[i.split()[-1]].pop()                   # удаляем задание из стека\n",
    "[print(stek[v][-1] if stek[v] else 'Все исправлено!') for v in stek]"
   ]
  },
  {
   "cell_type": "code",
   "execution_count": null,
   "id": "dc2e0380",
   "metadata": {},
   "outputs": [],
   "source": [
    "bugs, features, design = [], [], []\n",
    "command = input()\n",
    "while command != 'Релиз!':\n",
    "    if command.startswith('Добавить в '):\n",
    "        com = command.split(': ')\n",
    "        if 'bugs' in com[0]:\n",
    "            bugs.append(com[1])\n",
    "        elif 'features' in com[0]:\n",
    "            features.append(com[1])\n",
    "        elif 'design' in com[0]:\n",
    "            design.append(com[1])\n",
    "    if command.startswith('Убрать задание из '):\n",
    "        if 'bugs' in command:\n",
    "            bugs.pop()\n",
    "        elif 'features' in command:\n",
    "            features.pop()\n",
    "        elif 'design' in command:\n",
    "            design.pop()\n",
    "    command = input()\n",
    "\n",
    "print(bugs[-1] if bugs else \"Все исправлено!\")\n",
    "print(features[-1] if features else \"Все исправлено!\")\n",
    "print(design[-1] if design else \"Все исправлено!\")"
   ]
  },
  {
   "cell_type": "code",
   "execution_count": null,
   "id": "8d9525cb",
   "metadata": {},
   "outputs": [],
   "source": [
    "bugs, features, design = [], [], []\n",
    "[eval(i[10:].split(':')[0]).append(i.split(': ')[-1]) if 'Добавить' in i else eval(i[17:]).pop() for i in iter(input, 'Релиз!')]\n",
    "print(bugs[-1] if bugs else 'Все исправлено!', features[-1] if features else 'Все исправлено!', design[-1] if design else 'Все исправлено!', sep='\\n')"
   ]
  },
  {
   "cell_type": "markdown",
   "id": "3e2031ad",
   "metadata": {},
   "source": [
    "# TO-DO List\n",
    "    Эффективный менеджер Иван пользуется карточками для управления временем. В течение рабочего дня он записывает на них задания и складывает в стопку. Выполняя задания, он постепенно убирает карточки из стопки. Напишите программу, которая анализирует его действия в течение рабочего дня и печатает список невыполненных дел.\n",
    "\n",
    "    Формат ввода: число n — количество действий Ивана. Далее следуют n строк вида \"Добавить: <задание>. <время>\" или \"Выполнить: <задание>. <время>\". Обратите внимание, что действия передаются без привязки ко времени, то есть не являются последовательными.\n",
    "\n",
    "    Формат вывода: список невыполненных дел через запятую, в порядке добавления карточек в стопку. Если список пуст, вывести \"Все выполнено!\"\n",
    "\n",
    "    Гарантируется, что Иван выполняет только те задачи, которые уже находятся в стопке. Время принимает значение от 00:00 до 23:59.\n",
    "\n",
    "Sample Input:\n",
    "\n",
    "5\n",
    "\n",
    "Добавить: обговорить сроки с командой разработки. 15:41\n",
    "\n",
    "Выполнить: поговорить о повышении. 14:15\n",
    "\n",
    "Добавить: провести собеседование. 16:00\n",
    "\n",
    "Добавить: договориться о поставках на завтра. 12:59\n",
    "\n",
    "Добавить: поговорить о повышении. 10:27\n",
    "\n",
    "Sample Output:\n",
    "\n",
    "договориться о поставках на завтра, обговорить сроки с командой разработки, провести собеседование"
   ]
  },
  {
   "cell_type": "code",
   "execution_count": 1,
   "id": "9be2c12f",
   "metadata": {},
   "outputs": [
    {
     "name": "stdout",
     "output_type": "stream",
     "text": [
      "5\n",
      "Добавить: обговорить сроки с командой разработки. 15:41\n",
      "Выполнить: поговорить о повышении. 14:15\n",
      "Добавить: провести собеседование. 16:00\n",
      "Добавить: договориться о поставках на завтра. 12:59\n",
      "Добавить: поговорить о повышении. 10:27\n",
      "договориться о поставках на завтра, обговорить сроки с командой разработки, провести собеседование\n"
     ]
    },
    {
     "data": {
      "text/plain": [
       "[None]"
      ]
     },
     "execution_count": 1,
     "metadata": {},
     "output_type": "execute_result"
    }
   ],
   "source": [
    "todo = {}\n",
    "for _ in range(int(input())):\n",
    "    task = input()\n",
    "    dot = task.rindex(\".\")\n",
    "    double_dot = task.index(\":\")\n",
    "    todo[task[dot + 2:]] = [task[:double_dot], task[double_dot + 2:dot]]\n",
    "tasks = []\n",
    "for i in sorted(todo, reverse=False):\n",
    "    if todo[i][0] == 'Добавить':\n",
    "        tasks.append(todo[i][1])\n",
    "    if todo[i][0] == 'Выполнить' and todo[i][1] in tasks:\n",
    "        tasks.remove(todo[i][1])\n",
    "#if len(tasks) != 0:\n",
    "#    print(*tasks, sep=\", \")\n",
    "#else:\n",
    "#    print(\"Все выполнено!\")\n",
    "[print(', '.join(tasks) if len(tasks) != 0 else \"Все выполнено!\")]"
   ]
  },
  {
   "cell_type": "code",
   "execution_count": null,
   "id": "568cc765",
   "metadata": {},
   "outputs": [],
   "source": [
    "s=[]\n",
    "a=[]\n",
    "for i in range(int(input())):\n",
    "    x=input().split('. ')\n",
    "    s.append([x[1],x[0]])\n",
    "for i in sorted(s):\n",
    "    if i[1].split(': ')[0]=='Добавить':\n",
    "        a.append(i[1].split(': ')[1])\n",
    "    else:\n",
    "        a.pop(a.index(i[1].split(': ')[1]))\n",
    "print(*a if a else ['Все выполнено!'],sep=', ')"
   ]
  },
  {
   "cell_type": "markdown",
   "id": "b00b7d6d",
   "metadata": {},
   "source": [
    "# Правильная скобочная последовательность\n",
    "    Напишите программу, которая определяет, является ли строка, состоящая только из символов {\"(\", \")\", \"{\", \"}\", \"[\", \"]\"}, правильной скобочной последовательностью.\n",
    "\n",
    "    Примечание: правильной скобочной последовательностью называется последовательность, в которой каждой открывающей скобке можно поставить в соответствие закрывающую скобку того же типа. При этом в такой последовательности не нарушается порядок вложенности скобок.\n",
    "\n",
    "    Формат ввода: строка, состоящая из скобок.\n",
    "\n",
    "    Формат вывода: YES, если введенная строка — правильная скобочная последовательность, и NO иначе.\n",
    "\n",
    "Sample Input 1:\n",
    "\n",
    "([])\n",
    "\n",
    "Sample Output 1:\n",
    "\n",
    "YES\n",
    "\n",
    "Sample Input 2:\n",
    "\n",
    "([)]\n",
    "\n",
    "Sample Output 2:\n",
    "\n",
    "NO\n",
    "\n",
    "Sample Input 3:\n",
    "\n",
    "((()()()()))\n",
    "\n",
    "Sample Output 3:\n",
    "\n",
    "YES"
   ]
  },
  {
   "cell_type": "code",
   "execution_count": 1,
   "id": "e2799254",
   "metadata": {},
   "outputs": [
    {
     "name": "stdout",
     "output_type": "stream",
     "text": [
      "True\n",
      "False\n",
      "False\n",
      "True\n",
      "False\n",
      "True\n"
     ]
    }
   ],
   "source": [
    "def is_correct_brackets(text):\n",
    "    while '()' in text or '[]' in text or '{}' in text:\n",
    "        text = text.replace('()', '')\n",
    "        text = text.replace('[]', '')\n",
    "        text = text.replace('{}', '')\n",
    "\n",
    "    # Возвращаем True, если text с пустой строкой\n",
    "    return not text\n",
    "\n",
    "print(is_correct_brackets('(((())))'))  # True\n",
    "print(is_correct_brackets('(((())'))  # False\n",
    "print(is_correct_brackets('())))'))  # False\n",
    "print(is_correct_brackets('((((){}[]{}[])))'))  # True\n",
    "print(is_correct_brackets('(){}[]{}[])))'))  # False\n",
    "print(is_correct_brackets('(){}[]{}[]'))  # True"
   ]
  },
  {
   "cell_type": "code",
   "execution_count": null,
   "id": "ec7270e1",
   "metadata": {},
   "outputs": [],
   "source": [
    "def is_correct_brackets(text):\n",
    "    while '()' in text or '[]' in text or '{}' in text:\n",
    "        text = text.replace('()', '')\n",
    "        text = text.replace('[]', '')\n",
    "        text = text.replace('{}', '')\n",
    "    if not text:\n",
    "        return 'YES'   \n",
    "    return 'NO'\n",
    "print(is_correct_brackets(input()))"
   ]
  },
  {
   "cell_type": "markdown",
   "id": "e2cd98b6",
   "metadata": {},
   "source": [
    "# Обратная польская нотация\n",
    "    Обратная польская (или постфиксная) запись — это альтернативная запись арифметического выражение. В такой записи знак, который нужно применить к операндам, записывается после них, а не между ними. Так, выражение a + b превращается в a b +, а выражение a + (b - c) * d — в a b c - d * +. Напишите программу, которая вычисляет значение выражения, записанного в постфиксном виде. Используются только знаки +, -, *, /.\n",
    "\n",
    "Sample Input:\n",
    "\n",
    "500 12 10 - 5 * +\n",
    "\n",
    "Sample Output:\n",
    "\n",
    "510"
   ]
  },
  {
   "cell_type": "code",
   "execution_count": null,
   "id": "ce3dfea9",
   "metadata": {},
   "outputs": [],
   "source": [
    "s = input().split()\n",
    "lst = []\n",
    "for i in s:\n",
    "    if i.isdigit():\n",
    "        lst.append(int(i))\n",
    "    else:\n",
    "        if i == '+':\n",
    "            lst.append(lst.pop() + lst.pop())\n",
    "        elif i == '-':\n",
    "            lst.append(lst.pop(-2) - lst.pop())\n",
    "        elif i == '*':\n",
    "            lst.append(lst.pop() * lst.pop())\n",
    "        else:\n",
    "            lst.append(lst.pop(-2) / lst.pop())\n",
    "print(*lst)"
   ]
  },
  {
   "cell_type": "code",
   "execution_count": null,
   "id": "06ddbab0",
   "metadata": {},
   "outputs": [],
   "source": [
    "d={'+','-','/','*'}\n",
    "stack=[]\n",
    "a=input().split()\n",
    "for i in a:\n",
    "    if i not in d:\n",
    "        stack.append(i)\n",
    "    else:\n",
    "        a,b=stack.pop(),stack.pop()\n",
    "        temp=eval(str(b)+i+str(a))\n",
    "        stack.append(temp)\n",
    "print(stack.pop())"
   ]
  },
  {
   "cell_type": "markdown",
   "id": "c35fefe3",
   "metadata": {},
   "source": [
    "# Очередь в ресторане\n",
    "    Воскресным вечером ресторан забит посетителями: чтобы получить столик, гости могут простоять в очереди несколько часов. Однако этот ресторан пользуется популярностью и у высокопоставленных людей — такие VIP-персоны могут вставать не в конец очереди, а в середину (если количество человек в очереди нечетно, то VIP-персона становится после человека посередине). До закрытия ресторана осталось n часов, каждый час к своим столикам проходят m человек из очереди. Определите, сколько человек осталось в очереди после закрытия, а также сколько из них VIP-персон.\n",
    "\n",
    "    Формат ввода: две строки с числами n и m соответственно. Далее следуют строки \"Customer\" или \"VIP-customer\", означающие, что в очередь встал новый человек. Строки вводятся до символа точки.\n",
    "\n",
    "     Формат вывода: две строки — количество человек, оставшихся в очереди, и количество VIP-персон среди них.\n",
    "\n",
    "Sample Input:\n",
    "\n",
    "4\n",
    "\n",
    "1\n",
    "\n",
    "Customer\n",
    "\n",
    "VIP-customer\n",
    "\n",
    "Customer\n",
    "\n",
    "VIP-customer\n",
    "\n",
    "Customer\n",
    "\n",
    "Customer\n",
    "\n",
    "VIP-customer\n",
    "\n",
    "Customer\n",
    "\n",
    "Customer\n",
    "\n",
    "VIP-customer\n",
    "\n",
    "Customer\n",
    "\n",
    "VIP-customer\n",
    "\n",
    "Customer\n",
    "\n",
    "VIP-customer\n",
    "\n",
    ".\n",
    "\n",
    "Sample Output:\n",
    "\n",
    "10\n",
    "\n",
    "3"
   ]
  },
  {
   "cell_type": "code",
   "execution_count": null,
   "id": "ac0970e7",
   "metadata": {},
   "outputs": [],
   "source": [
    "def push():\n",
    "    queue.insert(len(queue) // 2 + len(queue) % 2, c)\n",
    "def pop():\n",
    "    return queue.pop(0)\n",
    "def size():\n",
    "    print(len(queue))\n",
    "queue = []\n",
    "n, m = int(input()), int(input())\n",
    "c = input()\n",
    "while c != '.':\n",
    "    if c == \"VIP-customer\":\n",
    "        push()\n",
    "    else:\n",
    "        queue.append(c)\n",
    "    c = input()\n",
    "for _ in range(n):\n",
    "    for _ in range(m):\n",
    "        pop()\n",
    "size()\n",
    "print(queue.count(\"VIP-customer\"))"
   ]
  },
  {
   "cell_type": "code",
   "execution_count": null,
   "id": "31ec58f6",
   "metadata": {},
   "outputs": [],
   "source": [
    "def push():\n",
    "    queue.insert(len(queue) // 2 + len(queue) % 2, cust)\n",
    "def pop():\n",
    "    return queue.pop(0)\n",
    "def size():\n",
    "    print(len(queue))\n",
    "n, queue = int(input()) * int(input()), []\n",
    "for cust in iter(input, '.'):\n",
    "    if cust == \"VIP-customer\":\n",
    "        push()\n",
    "    else:\n",
    "        queue.append(cust)\n",
    "for i in range(n):\n",
    "    pop()\n",
    "size()\n",
    "print(queue.count(\"VIP-customer\"))"
   ]
  },
  {
   "cell_type": "code",
   "execution_count": null,
   "id": "e02c2b3c",
   "metadata": {},
   "outputs": [],
   "source": [
    "n, m = int(input()),int(input())\n",
    "a = []\n",
    "for cop in iter(input, '.'):\n",
    "    if cop == \"VIP-customer\":\n",
    "        a.insert((len(a) // 2 + len(a) % 2), cop)\n",
    "    else:\n",
    "        a.append(cop)\n",
    "for _ in range(n * m):\n",
    "    a.pop(0)\n",
    "print(len(a))\n",
    "print(a.count(\"VIP-customer\"))"
   ]
  },
  {
   "cell_type": "code",
   "execution_count": null,
   "id": "c5d316e5",
   "metadata": {},
   "outputs": [],
   "source": [
    "served, queue = int(input()) * int(input()), []\n",
    "for person in iter(input, '.'):\n",
    "    queue.append(0) if person[0] == 'C' else queue.insert((len(queue)+1)//2, 1)\n",
    "print(len(queue)-served, sum(queue[served::]), sep='\\n')"
   ]
  },
  {
   "cell_type": "markdown",
   "id": "f6bb85a0",
   "metadata": {},
   "source": [
    "# Формула №1\n",
    "      \n",
    "      В математике вектором называют направленный отрезок. В трехмерном пространстве вектор можно представить в виде набора трех координат {x; y; z}. Если нам даны координаты двух векторов, то существует формула, позволяющая найти косинус угла между ними:\n",
    "\n",
    "\\cos(\\widehat {\\vec a, \\vec b}) = {a_1a_2 + b_1b_2 + c_1c_2 \\over \\sqrt {a_1^2 + b_1^2 + c_1^2} \\cdot \\sqrt {a_2^2 + b_2^2 + c_2^2}}\n",
    "cos( \n",
    "a\n",
    " , \n",
    "b\n",
    " \n",
    "​\n",
    " )= \n",
    "a \n",
    "1\n",
    "2\n",
    "​\n",
    " +b \n",
    "1\n",
    "2\n",
    "​\n",
    " +c \n",
    "1\n",
    "2\n",
    "​\n",
    " \n",
    "​\n",
    " ⋅ \n",
    "a \n",
    "2\n",
    "2\n",
    "​\n",
    " +b \n",
    "2\n",
    "2\n",
    "​\n",
    " +c \n",
    "2\n",
    "2\n",
    "​\n",
    " \n",
    "​\n",
    " \n",
    "a \n",
    "1\n",
    "​\n",
    " a \n",
    "2\n",
    "​\n",
    " +b \n",
    "1\n",
    "​\n",
    " b \n",
    "2\n",
    "​\n",
    " +c \n",
    "1\n",
    "​\n",
    " c \n",
    "2\n",
    "​\n",
    " \n",
    "​\n",
    " \n",
    "  Напишите программу, которая определяет величину угла между двумя векторами.\n",
    "\n",
    "  Формат ввода: две строки, в каждой из которых по три целых числа, введенных через пробел. В первой строке – координаты a_1, b_1, c_1a \n",
    "1\n",
    "​\n",
    " ,b \n",
    "1\n",
    "​\n",
    " ,c \n",
    "1\n",
    "​\n",
    "  первого вектора, во второй строке – координаты a_2, b_2, c_2a \n",
    "2\n",
    "​\n",
    " ,b \n",
    "2\n",
    "​\n",
    " ,c \n",
    "2\n",
    "​\n",
    "  второго вектора.\n",
    "\n",
    "  Формат вывода: одно число – величина угла между векторами (в градусах). Округлите получившееся число до двух знаков после запятой.\n",
    "\n",
    "  Примечание: чтобы получить величину угла, зная его косинус, нужно использовать функцию, вычисляющую арккосинус. Арккосинус – это угол в радианах, косинус которого равен данному. Обратите внимание на то, что результат нужно вывести в градусах.\n",
    "\n",
    "Sample Input:\n",
    "\n",
    "1 -1 0\n",
    "\n",
    "1 1 0\n",
    "\n",
    "Sample Output:\n",
    "\n",
    "90.0"
   ]
  },
  {
   "cell_type": "code",
   "execution_count": 1,
   "id": "5dc48655",
   "metadata": {},
   "outputs": [
    {
     "name": "stdout",
     "output_type": "stream",
     "text": [
      "90.0\n"
     ]
    }
   ],
   "source": [
    "from math import sqrt, acos, degrees\n",
    "x1 = 1\n",
    "y1 = 0\n",
    "z1 = 1\n",
    "x2 = 0\n",
    "y2 = 1\n",
    "z2 = 0\n",
    "def scalar(x1, y1, z1, x2, y2, z2):\n",
    "    return x1*x2 + y1*y2 + z1*z2\n",
    "def module(x, y, z):\n",
    "    return sqrt(x ** 2 + y ** 2 + z ** 2)\n",
    "cos = scalar(x1, y1, z1, x2, y2, z2)/(module(x1,y1,z1)*module(x2,y2,z2))\n",
    "ang = acos(cos)\n",
    "print(degrees(acos(cos)))"
   ]
  },
  {
   "cell_type": "code",
   "execution_count": 2,
   "id": "31a7f7bf",
   "metadata": {},
   "outputs": [
    {
     "name": "stdout",
     "output_type": "stream",
     "text": [
      "1 -1 0\n",
      "1 1 0\n",
      "90.0\n"
     ]
    }
   ],
   "source": [
    "from math import sqrt, acos, pi\n",
    "a1, b1, c1 = map(int,input().split())\n",
    "a2 ,b2 ,c2 = map(int,input().split())\n",
    "def scalar(a1, b1, c1, a2, b2, c2):\n",
    "    return a1*a2 + b1*b2 + c1*c2\n",
    "def module(a, b, c):\n",
    "    return sqrt(a ** 2 + b ** 2 + c ** 2)\n",
    "cos = scalar(a1, b1, c1, a2, b2, c2)/(module(a1,b1,c1)*module(a2,b2,c2))\n",
    "print(round(acos(cos) * 180 / pi, 2))"
   ]
  },
  {
   "cell_type": "code",
   "execution_count": 5,
   "id": "0aa3f922",
   "metadata": {},
   "outputs": [
    {
     "name": "stdout",
     "output_type": "stream",
     "text": [
      "1 -1 0\n",
      "1 1 0\n",
      "90.00\n"
     ]
    }
   ],
   "source": [
    "import math\n",
    "a1, b1, c1 = [int(i) for i in input().split()]\n",
    "a2, b2, c2 = [int(i) for i in input().split()]\n",
    "x = ((a1*a2) + (b1*b2) + (c1*c2)) / (math.sqrt(a1**2 + b1**2 + c1**2) * math.sqrt(a2**2 + b2**2 + c2**2))\n",
    "angle = math.degrees(math.acos(x))\n",
    "print(\"%.2f\" % angle)"
   ]
  },
  {
   "cell_type": "code",
   "execution_count": null,
   "id": "fb344778",
   "metadata": {},
   "outputs": [],
   "source": [
    "from math import pi, acos, sqrt, pow, degrees\n",
    "\n",
    "x1, y1, z1 = (int(x) for x in input().split())\n",
    "x2, y2, z2 = (int(x) for x in input().split())\n",
    "eq1 = x1*x2 + y1*y2 + z1*z2\n",
    "eq2 = sqrt(pow(x1, 2) + pow(y1, 2) + pow(z1, 2))\n",
    "eq3 = sqrt(pow(x2, 2) + pow(y2, 2) + pow(z2, 2))\n",
    "print(round(degrees(acos(eq1/eq2/eq3)), 2))"
   ]
  },
  {
   "cell_type": "code",
   "execution_count": null,
   "id": "d50eb30b",
   "metadata": {},
   "outputs": [],
   "source": [
    "import math\n",
    "\n",
    "a1, b1, c1 = [int(i) for i in input().split()]\n",
    "a2, b2, c2 = [int(i) for i in input().split()]\n",
    "\n",
    "s1 = a1 * a2 + b1 * b2 + c1 * c2\n",
    "s2 = math.sqrt(a1 ** 2 + b1 ** 2 + c1 ** 2)\n",
    "s3 = math.sqrt(a2 ** 2 + b2 ** 2 + c2 ** 2)\n",
    "rad = s1 / (s2 * s3)\n",
    "\n",
    "print(round(math.degrees(math.acos(rad)), 2))\n"
   ]
  },
  {
   "cell_type": "markdown",
   "id": "5ec39ff4",
   "metadata": {},
   "source": [
    "# Формула №2\n",
    "  С клавиатуры вводятся два целых числа – a и b. Используя эти числа, вычислите значение следующего выражения:\n",
    "\n",
    "F = \\left \\lceil {\\left \\lfloor \\frac{b}{a} \\right \\rfloor ! + a^{b*\\pi} \\over \\log_2a * \\sqrt \\frac{a}{b} * \\cos(b + e^a)} \\right \\rceil\n",
    "F=⌈ \n",
    "log \n",
    "2\n",
    "​\n",
    " a∗ \n",
    "b\n",
    "a\n",
    "​\n",
    " \n",
    "​\n",
    " ∗cos(b+e \n",
    "a\n",
    " )\n",
    "⌊ \n",
    "a\n",
    "b\n",
    "​\n",
    " ⌋!+a \n",
    "b∗π\n",
    " \n",
    "​\n",
    " ⌉\n",
    "  Примечание: даже если Вы не знаете о логарифмах, Вы можете решить задачу с помощью встроенных функций модуля math. Операции \\lfloor x\\rfloor⌊x⌋ и \\lceil x \\rceil⌈x⌉ возвращают число, округленное в меньшую и большую стороны соответственно. К примеру: \n",
    "\n",
    "\\left \\lfloor \\frac{5}{3} \\right \\rfloor = 1⌊ \n",
    "3\n",
    "5\n",
    "​\n",
    " ⌋=1   ;  \\left \\lceil \\frac{5}{3} \\right \\rceil = 2⌈ \n",
    "3\n",
    "5\n",
    "​\n",
    " ⌉=2\n",
    "\n",
    "    Вместо выражения (math.e ** a) используйте math.exp(a) - эта функция вернет более точное значение.\n",
    "\n",
    "Sample Input:\n",
    "\n",
    "4 1\n",
    "\n",
    "Sample Output:\n",
    "\n",
    "34"
   ]
  },
  {
   "cell_type": "code",
   "execution_count": 1,
   "id": "1e231fd5",
   "metadata": {},
   "outputs": [
    {
     "name": "stdout",
     "output_type": "stream",
     "text": [
      "4 1\n",
      "34\n"
     ]
    }
   ],
   "source": [
    "# Variant_1\n",
    "import math\n",
    "a, b = map(int, input().split())\n",
    "up = math.factorial(math.floor(b / a)) + math.pow(a, b * math.pi)\n",
    "down = math.log2(a) * math.sqrt(a / b) * math.cos(b + math.exp(a))\n",
    "F = math.ceil(up / down)\n",
    "print(F)"
   ]
  },
  {
   "cell_type": "code",
   "execution_count": 5,
   "id": "667eeeda",
   "metadata": {},
   "outputs": [
    {
     "name": "stdout",
     "output_type": "stream",
     "text": [
      "4 1\n",
      "34\n"
     ]
    }
   ],
   "source": [
    "# Variant_2\n",
    "from math import log2, factorial, exp, ceil, floor, sqrt, cos, pi\n",
    "a,b = map(int,input().split())\n",
    "c = factorial(floor(b/a))+a**(b*pi)\n",
    "f = log2(a)*sqrt(a/b)*cos(b+exp(a))\n",
    "print(ceil(c/z))"
   ]
  },
  {
   "cell_type": "code",
   "execution_count": 6,
   "id": "e551f61b",
   "metadata": {},
   "outputs": [
    {
     "name": "stdout",
     "output_type": "stream",
     "text": [
      "4 1\n",
      "34\n"
     ]
    }
   ],
   "source": [
    "# Variant_3\n",
    "import math as m\n",
    "a, b = map(int, input().split())\n",
    "x = m.factorial(m.floor(b / a)) + m.pow(a, b * m.pi)\n",
    "y = m.log2(a) * m.sqrt(a / b) * m.cos(b + m.exp(a))\n",
    "print(m.ceil(x / y))"
   ]
  },
  {
   "cell_type": "code",
   "execution_count": 8,
   "id": "2bb27dd7",
   "metadata": {},
   "outputs": [
    {
     "name": "stdout",
     "output_type": "stream",
     "text": [
      "4 1\n",
      "34\n"
     ]
    }
   ],
   "source": [
    "# Variant_4\n",
    "import math\n",
    "a, b = map(int, input().split())\n",
    "print(math.ceil( (math.factorial(math.floor(b / a)) + a**(b * math.pi)) /\n",
    "                 (math.log2(a) * math.sqrt(a / b) * math.cos(b + math.exp(a))) ))"
   ]
  },
  {
   "cell_type": "markdown",
   "id": "b5637eb5",
   "metadata": {},
   "source": [
    "# Bogosort\n",
    "      Реализуйте алгоритм сортировки Bogosort, чтобы отсортировать список целых чисел, переданных через пробел, по неубыванию. Алгоритм предельно прост: нужно перемешивать список до тех пор, пока числа в нем не встанут в нужной последовательности. В данной задаче список lst считать отсортированным, если lst[i + 1] \\geqslant lst[i]lst[i+1]⩾lst[i].\n",
    "\n",
    "  Бонус: вспомнив урок по сложности алгоритмов из модуля 2, Вы также можете попробовать оценить сложность этого алгоритма и сравнить его с уже известными квадратичными алгоритмами.\n",
    "\n",
    "Sample Input:\n",
    "\n",
    "17 9 3 1 5 8 0 4\n",
    "\n",
    "Sample Output:\n",
    "\n",
    "0 1 3 4 5 8 9 17"
   ]
  },
  {
   "cell_type": "code",
   "execution_count": 1,
   "id": "f178a09b",
   "metadata": {},
   "outputs": [
    {
     "name": "stdout",
     "output_type": "stream",
     "text": [
      "17 9 3 1 5 8 0 4\n",
      "0 1 3 4 5 8 9 17\n"
     ]
    }
   ],
   "source": [
    "import random\n",
    "def bogosort(nums):\n",
    "    def isSorted(nums):\n",
    "        if len(nums) < 2:\n",
    "            return True\n",
    "        for i in range(len(nums) - 1):\n",
    "            if nums[i] > nums[i + 1]:\n",
    "                return False\n",
    "        return True\n",
    "    while not isSorted(nums):\n",
    "        random.shuffle(nums)\n",
    "    return nums\n",
    "nums = [int(item) for item in input().split()]\n",
    "print(*bogosort(nums))"
   ]
  },
  {
   "cell_type": "code",
   "execution_count": 2,
   "id": "8508a37a",
   "metadata": {},
   "outputs": [
    {
     "name": "stdout",
     "output_type": "stream",
     "text": [
      "17 9 3 1 5 8 0 4\n",
      "0 1 3 4 5 8 9 17\n"
     ]
    }
   ],
   "source": [
    "import random\n",
    "lst = [int(i) for i in input().split()]\n",
    "while any(x > y for x, y in zip(lst, lst[1:])):\n",
    "        random.shuffle(lst)\n",
    "print(*lst)"
   ]
  },
  {
   "cell_type": "code",
   "execution_count": 3,
   "id": "7f0504f2",
   "metadata": {},
   "outputs": [
    {
     "name": "stdout",
     "output_type": "stream",
     "text": [
      "17 9 3 1 5 8 0 4\n",
      "0 1 3 4 5 8 9 17\n"
     ]
    }
   ],
   "source": [
    "from random import shuffle\n",
    "lst = list(map(int, input().split()))\n",
    "sorted_list = sorted(lst)\n",
    "while sorted_list != lst:\n",
    "    shuffle(lst)\n",
    "print(*lst)"
   ]
  },
  {
   "cell_type": "code",
   "execution_count": 4,
   "id": "acaeb062",
   "metadata": {},
   "outputs": [
    {
     "name": "stdout",
     "output_type": "stream",
     "text": [
      "17 9 3 1 5 8 0 4\n",
      "0 1 3 4 5 8 9 17\n"
     ]
    }
   ],
   "source": [
    "from random import shuffle\n",
    "l=list(map(int, input().split()))\n",
    "while l!=sorted(l):\n",
    "    shuffle(l)\n",
    "print(*l)"
   ]
  },
  {
   "cell_type": "markdown",
   "id": "6ba098e7",
   "metadata": {},
   "source": [
    "# Грамматические запасы\n",
    "    Васе надоело мириться с безграмотностью в интернете, и он задумал подготовить \"запасы\" знаков препинания, чтобы хватило на всех. Он решил подготовить запасы на N лет, а затем каждый год раздавать некоторое количество знаков нуждающимся. Помогите Васе посчитать количество оставшихся знаков после завершения его благородной акции.\n",
    "\n",
    "    Формат ввода: на первой строке — перечисление знаков и их количества в формате <знак>/<количество>. На второй строке — число N. Затем на N строках вводятся знаки, которые Вася хочет раздать, вместе с указание количества в том же формате. Гарантируется, что Вася раздает только те знаки, которые запасал, и не больше изначального количества.\n",
    "\n",
    "    Формат вывода: информация о количестве оставшихся знаков в формате <знак>/<количество>. На следующей строке — знак, которого осталось больше всего в запасах Васи. Гарантируется, что есть только один знак с наибольшей частотой.\n",
    "\n",
    "Sample Input:\n",
    "\n",
    ",/19 ?/8 !/2 —/14 ./26\n",
    "\n",
    "3\n",
    "\n",
    "?/2 ,/5 ./9\n",
    "\n",
    "—/7 ./10 !/1\n",
    "\n",
    "!/1 ./3 —/1 ,/9 ?/5\n",
    "\n",
    "Sample Output:\n",
    "\n",
    ",/5 ?/1 !/0 —/6 ./4\n",
    "\n",
    "—"
   ]
  },
  {
   "cell_type": "code",
   "execution_count": 5,
   "id": "9491ee74",
   "metadata": {},
   "outputs": [
    {
     "name": "stdout",
     "output_type": "stream",
     "text": [
      ",/19 ?/8 !/2 —/14 ./26\n",
      "3\n",
      "?/2 ,/5 ./9\n",
      "—/7 ./10 !/1\n",
      "!/1 ./3 —/1 ,/9 ?/5\n",
      ",/5 ?/1 !/0 —/6 ./4 \n",
      "—\n"
     ]
    }
   ],
   "source": [
    "d = {i.split('/')[0]: int(i.split('/')[1]) for i in input().split()}\n",
    "for _ in range(int(input())):\n",
    "    for i in input().split():\n",
    "        d[i.split('/')[0]] -= int(i.split('/')[1])\n",
    "x, y = '', 0\n",
    "for i in d:\n",
    "    if d[i] > y:\n",
    "        y = d[i]\n",
    "        x = i\n",
    "    print(f'{i}/{d[i]}', end = ' ')\n",
    "print()\n",
    "print(x)"
   ]
  },
  {
   "cell_type": "code",
   "execution_count": null,
   "id": "16476ec8",
   "metadata": {},
   "outputs": [],
   "source": [
    "d = dict([(a,int(b)) for r in input().split() for a,b in [r.split('/')]])\n",
    "for _ in '_'*int(input()):\n",
    "    for r in input().split():\n",
    "        for z,v in [r.split('/')]:\n",
    "            d[z] -= int(v)\n",
    "print(*[f'{k}/{v}' for k,v in d.items()])\n",
    "print(max(d.items(),key=lambda d: d[1])[0])"
   ]
  },
  {
   "cell_type": "markdown",
   "id": "bacb4394",
   "metadata": {},
   "source": [
    "# Преобразовать в целые\n",
    "    С клавиатуры вводится строка, состоящая из вещественных чисел. Прибавьте к каждому числу число 0.5, а затем отбросьте дробные части. Выведите полученный numpy массив.\n",
    "\n",
    "    Примечание: все действия нужно производить с помощью numpy.\n",
    "\n",
    "Sample Input:\n",
    "\n",
    "38.8 17.2 26.0 18.1 19.1 8.0 26.2 15.3 39.3 28.2 18.7 30.0 27.6 32.6\n",
    "\n",
    "Sample Output:\n",
    "\n",
    "[39 17 26 18 19  8 26 15 39 28 19 30 28 33]\n"
   ]
  },
  {
   "cell_type": "code",
   "execution_count": null,
   "id": "c96d3af9",
   "metadata": {},
   "outputs": [],
   "source": [
    "import numpy as np\n",
    "n = np.array(input().split(), float)\n",
    "print((n + 0.5).astype(int))"
   ]
  },
  {
   "cell_type": "code",
   "execution_count": null,
   "id": "51b53eac",
   "metadata": {},
   "outputs": [],
   "source": [
    "import numpy as np\n",
    "print((np.array(input().split(), float) + .5).astype(int))"
   ]
  },
  {
   "cell_type": "code",
   "execution_count": null,
   "id": "6dc2cb71",
   "metadata": {},
   "outputs": [],
   "source": [
    "import numpy as np\n",
    "# print(np.array(np.array(list(map(float,input().split())))+0.5,int))\n",
    "l=np.array(list(map(float,input().split())))\n",
    "print(np.array(l+0.5,int))"
   ]
  },
  {
   "cell_type": "code",
   "execution_count": null,
   "id": "dab47931",
   "metadata": {},
   "outputs": [],
   "source": [
    "import numpy as np\n",
    "arr = np.array(input().split(), float)\n",
    "arr = np.array(arr + 0.5, int)\n",
    "print(arr)"
   ]
  },
  {
   "cell_type": "markdown",
   "id": "aefb334c",
   "metadata": {},
   "source": [
    "# Накопление значений\n",
    "    С клавиатуры вводятся числа N и M, затем N строк с M целыми числами. Умножьте элементы каждой строки на номер этой строки, начиная с 1, и выведите массив из сумм соответствующих элементов всех строк.\n",
    "\n",
    "Sample Input:\n",
    "\n",
    "5 8\n",
    "\n",
    "72 14 78 82 65 96 25 72\n",
    "\n",
    "43 20 68 57 37 22 97 21\n",
    "\n",
    "43 4 6 21 57 67 24 34\n",
    "\n",
    "64 83 63 9 9 32 45 30\n",
    "\n",
    "87 11 14 12 34 35 89 60\n",
    "\n",
    "Sample Output:\n",
    "\n",
    "[978 453 554 355 516 644 916 636]"
   ]
  },
  {
   "cell_type": "code",
   "execution_count": 1,
   "id": "3187de1e",
   "metadata": {},
   "outputs": [
    {
     "name": "stdout",
     "output_type": "stream",
     "text": [
      "5 8\n",
      "72 14 78 82 65 96 25 72\n",
      "43 20 68 57 37 22 97 21\n",
      "43 4 6 21 57 67 24 34\n",
      "64 83 63 9 9 32 45 30\n",
      "87 11 14 12 34 35 89 60\n",
      "[978 453 554 355 516 644 916 636]\n"
     ]
    }
   ],
   "source": [
    "import numpy as np\n",
    "N, M = map(int, input().split())\n",
    "m = 1\n",
    "calc = np.array(input().split(), int) * m\n",
    "for _ in range(1, N):\n",
    "    m += 1\n",
    "    calc += np.array(input().split(), int) * m\n",
    "print(calc)"
   ]
  },
  {
   "cell_type": "code",
   "execution_count": null,
   "id": "20033ae1",
   "metadata": {},
   "outputs": [],
   "source": [
    "import numpy as np\n",
    "n,m=map(int, input().split())\n",
    "a = np.array([input().split() for i in range(n)], dtype = int)\n",
    "b = np.arange(1,n+1)\n",
    "print(b.dot(a))"
   ]
  },
  {
   "cell_type": "code",
   "execution_count": null,
   "id": "a12b71ff",
   "metadata": {},
   "outputs": [],
   "source": [
    "import numpy as np\n",
    "n, m = [int(i) for i in input().split()]\n",
    "a = np.array([0]*m)\n",
    "for i in range(n):\n",
    "    s = np.array(input().split(), int) * (i + 1)\n",
    "    a += s\n",
    "print(a)"
   ]
  },
  {
   "cell_type": "code",
   "execution_count": null,
   "id": "ecc6da7a",
   "metadata": {},
   "outputs": [],
   "source": [
    "Немного читаем документацию по numpy, а именно его методу sum приходим к этому:\n",
    "\n",
    "import numpy as np\n",
    "print(np.sum([np.array(input().split(), int) * (i + 1) for i in range(int(input()[0]))], axis=0))"
   ]
  },
  {
   "cell_type": "markdown",
   "id": "5d0f64c8",
   "metadata": {},
   "source": [
    "# Фонарные столбы\n",
    "    Правительство выделило определенный бюджет M на постройку фонарных столбов вдоль дороги длиной N. Подсчитано, что один фонарный столб стоит K. Строителям нужно поставить как можно больше столбов на равном расстоянии друг от друга. Выведите координаты каждого столба, принимая, что ось Х идет вдоль дороги и координата первого столба – 0.\n",
    "\n",
    "    Формат ввода: целые числа N, M, K через пробел.\n",
    "\n",
    "    Формат вывода: numpy-массив координат.\n",
    "\n",
    "    Подсказка: для решения используйте функцию, которая разбивает промежуток [from, to).\n",
    "\n",
    "Sample Input:\n",
    "\n",
    "200 5000 250\n",
    "\n",
    "Sample Output:\n",
    "\n",
    "[  0  10  20  30  40  50  60  70  80  90 100 110 120 130 140 150 160 170\n",
    " 180 190]"
   ]
  },
  {
   "cell_type": "code",
   "execution_count": 4,
   "id": "dc4e0902",
   "metadata": {},
   "outputs": [
    {
     "name": "stdout",
     "output_type": "stream",
     "text": [
      "200 5000 250\n",
      "[  0  10  20  30  40  50  60  70  80  90 100 110 120 130 140 150 160 170\n",
      " 180 190]\n"
     ]
    }
   ],
   "source": [
    "import numpy as np\n",
    "N, M, K = [int(i) for i in input().split()]\n",
    "MK = int(M / K)\n",
    "X = int(N / MK)\n",
    "print(np.arange(0, N, X))"
   ]
  },
  {
   "cell_type": "code",
   "execution_count": 2,
   "id": "f2967131",
   "metadata": {},
   "outputs": [
    {
     "name": "stdout",
     "output_type": "stream",
     "text": [
      "200 5000 250\n",
      "[  0  10  20  30  40  50  60  70  80  90 100 110 120 130 140 150 160 170\n",
      " 180 190]\n"
     ]
    }
   ],
   "source": [
    "''' Фонарные столбы '''\n",
    "print((lambda n, m, k: __import__(\"numpy\").arange(0, n, n // (m // k)))(*map(int, input().split())))"
   ]
  },
  {
   "cell_type": "code",
   "execution_count": 3,
   "id": "096355d7",
   "metadata": {},
   "outputs": [
    {
     "name": "stdout",
     "output_type": "stream",
     "text": [
      "200 5000 250\n",
      "[  0  10  20  30  40  50  60  70  80  90 100 110 120 130 140 150 160 170\n",
      " 180 190]\n"
     ]
    }
   ],
   "source": [
    "import numpy as np\n",
    "N,M,K = map(int,input().split())\n",
    "print(np.arange(0,N,N//(M//K)))"
   ]
  },
  {
   "cell_type": "code",
   "execution_count": 6,
   "id": "540aa5da",
   "metadata": {},
   "outputs": [
    {
     "name": "stdout",
     "output_type": "stream",
     "text": [
      "1000 50000 1000\n",
      "[  0  50 100 150 200 250 300 350 400 450 500 550 600 650 700 750 800 850\n",
      " 900 950]\n"
     ]
    }
   ],
   "source": [
    "import numpy as np\n",
    "N, M, K = input().split()\n",
    "print(np.arange(*[0, int(N), (int(M) // int(K))], dtype='int32'))"
   ]
  },
  {
   "cell_type": "markdown",
   "id": "cc842caa",
   "metadata": {},
   "source": [
    "# Число на диагонали\n",
    "    Программа получает на вход два целых числа N и K. Выведите квадратную матрицу размером N*N, у которой на главной диагонали расположены числа K, а остальные элементы равны 0. Все числа матрицы должны быть целыми.\n",
    "\n",
    "    Примечание: такие матрицы называются скалярными.\n",
    "\n",
    "Sample Input:\n",
    "\n",
    "5 42\n",
    "\n",
    "Sample Output:\n",
    "\n",
    "[[42  0  0  0  0]\n",
    " \n",
    " [ 0 42  0  0  0]\n",
    " \n",
    " [ 0  0 42  0  0]\n",
    " \n",
    " [ 0  0  0 42  0]\n",
    " \n",
    " [ 0  0  0  0 42]]"
   ]
  },
  {
   "cell_type": "code",
   "execution_count": null,
   "id": "8c54086f",
   "metadata": {},
   "outputs": [],
   "source": [
    "import numpy as np\n",
    "N, K = [int(i) for i in input().split()]\n",
    "arr = np.zeros((N, N), int)\n",
    "np.fill_diagonal(arr, K)\n",
    "print(arr)"
   ]
  },
  {
   "cell_type": "code",
   "execution_count": null,
   "id": "5de3f49b",
   "metadata": {},
   "outputs": [],
   "source": [
    "import numpy as np \n",
    "n, k = map(int, input().split())\n",
    "print(np.eye(n, dtype = np.int8) * k)"
   ]
  },
  {
   "cell_type": "code",
   "execution_count": null,
   "id": "ac0e667a",
   "metadata": {},
   "outputs": [],
   "source": [
    "import numpy as np\n",
    "#вариант 1:\n",
    "#[print(np.array([[m*(i==j) for i in range(n)] for j in range(n)])) for n,m in [map(int,input().split())]]\n",
    "#вариант 2:\n",
    "[print(m*np.eye(n, dtype=int)) for n,m in [map(int,input().split())]]"
   ]
  },
  {
   "cell_type": "markdown",
   "id": "4bb3fca2",
   "metadata": {},
   "source": [
    "# Изменить форму\n",
    "    На вход программе передается матрица размером N*M, а затем два числа – новая форма этой матрицы. Если преобразование формы возможно, выведите матрицу с новой формой, если нет – выведите строку \"Невозможно\".\n",
    "\n",
    "Sample Input 1:\n",
    "\n",
    "2 3\n",
    "\n",
    "12 42 57\n",
    "\n",
    "23 19 29\n",
    "\n",
    "3 2\n",
    "\n",
    "Sample Output 1:\n",
    "\n",
    "[[12 42]\n",
    " [57 23]\n",
    " [19 29]]\n",
    "\n",
    "Sample Input 2:\n",
    "\n",
    "5 2\n",
    "\n",
    "12 31\n",
    "\n",
    "78 5\n",
    "\n",
    "19 90\n",
    "\n",
    "23 44\n",
    "\n",
    "54 33\n",
    "\n",
    "1 10\n",
    "\n",
    "Sample Output 2:\n",
    "\n",
    "[[12 31 78  5 19 90 23 44 54 33]]"
   ]
  },
  {
   "cell_type": "code",
   "execution_count": null,
   "id": "cb513fbe",
   "metadata": {},
   "outputs": [],
   "source": [
    "import numpy as np\n",
    "N, M = map(int, input().split())\n",
    "arr = np.array([list(map(int, input().split())) for i in range(N)])\n",
    "n, m = map(int, input().split())\n",
    "if N * M == n * m:\n",
    "    print(arr.reshape(n, m))\n",
    "else: \n",
    "    print(\"Невозможно\")"
   ]
  },
  {
   "cell_type": "code",
   "execution_count": null,
   "id": "5df4bd88",
   "metadata": {},
   "outputs": [],
   "source": [
    "import numpy as np\n",
    "shape, ndim = [int(i) for i in input().split()]\n",
    "lst = []\n",
    "while not shape * ndim == len(lst):\n",
    "    lst.extend(list(map(int, input().split())))\n",
    "array = np.array([lst]).reshape((shape, ndim))\n",
    "shape1, ndim1 = [int(i) for i in input().split()]\n",
    "if (shape1 * ndim1) > array.size:\n",
    "    print(\"Невозможно\")\n",
    "else:\n",
    "    print(array.reshape((shape1, ndim1)))"
   ]
  },
  {
   "cell_type": "code",
   "execution_count": null,
   "id": "06e65a7d",
   "metadata": {},
   "outputs": [],
   "source": [
    "import numpy as np\n",
    "a = np.array([list(map(int,input().split())) for _ in '_'*int(input().split()[0])])\n",
    "[print(a.reshape(n,m) if n*m==a.size else 'Невозможно') for n,m in [map(int, input().split())]]"
   ]
  },
  {
   "cell_type": "markdown",
   "id": "7734f99d",
   "metadata": {},
   "source": [
    "# Упражнение на индексацию\n",
    "    Для переданной квадратной матрицы размером N*N, выведите два последних столбца, инвертировав порядок следования строк. Гарантируется, что N >= 2.\n",
    "\n",
    "Sample Input:\n",
    "\n",
    "3\n",
    "\n",
    "12 42 57\n",
    "\n",
    "90 73 37\n",
    "\n",
    "23 19 29\n",
    "\n",
    "Sample Output:\n",
    "\n",
    "[[19 29]\n",
    " [73 37]\n",
    " [42 57]]"
   ]
  },
  {
   "cell_type": "code",
   "execution_count": 1,
   "id": "8dce1e72",
   "metadata": {},
   "outputs": [
    {
     "name": "stdout",
     "output_type": "stream",
     "text": [
      "3\n",
      "12 42 57\n",
      "90 73 37\n",
      "23 19 29\n",
      "[[19 29]\n",
      " [73 37]\n",
      " [42 57]]\n"
     ]
    }
   ],
   "source": [
    "# with flipud()\n",
    "import numpy as np\n",
    "N = int(input())\n",
    "arr = np.array([list(map(int, input().split())) for i in range(N)])\n",
    "print(np.flipud(arr[:, -2:]))"
   ]
  },
  {
   "cell_type": "code",
   "execution_count": null,
   "id": "2e1f4764",
   "metadata": {},
   "outputs": [],
   "source": [
    "# bez flipud()\n",
    "import numpy as np\n",
    "n = int(input())\n",
    "arr = np.array([input().split() for _ in range(n)], int)\n",
    "print(arr[::-1,-2:])"
   ]
  },
  {
   "cell_type": "code",
   "execution_count": null,
   "id": "fc34a619",
   "metadata": {},
   "outputs": [],
   "source": [
    "import numpy as np\n",
    "#вариант 1:\n",
    "#print(np.array([list(map(int, input().split())) for _ in '_'*int(input())])[:,-2:][::-1])\n",
    "#вариант 2:\n",
    "print(np.flipud(np.array([list(map(int, input().split())) for _ in '_'*int(input())])[:,-2:]))\n"
   ]
  },
  {
   "cell_type": "code",
   "execution_count": null,
   "id": "49da2f91",
   "metadata": {},
   "outputs": [],
   "source": [
    "import numpy as np\n",
    "print(np.array([list(map(int, input().split())) for i in range(int(input()))])[::-1, -2:])"
   ]
  },
  {
   "cell_type": "markdown",
   "id": "0f04c818",
   "metadata": {},
   "source": [
    "# Сумма столбца\n",
    "    Вводится квадратная матрица размером N*N, затем число M. Вычислите сумму всех элементов столбца с индексом M (индексация начинается с 0).\n",
    "\n",
    "Sample Input:\n",
    "\n",
    "3\n",
    "\n",
    "12 42 57\n",
    "\n",
    "90 73 37\n",
    "\n",
    "23 19 29\n",
    "\n",
    "1\n",
    "\n",
    "Sample Output:\n",
    "\n",
    "134"
   ]
  },
  {
   "cell_type": "code",
   "execution_count": null,
   "id": "3014b784",
   "metadata": {},
   "outputs": [],
   "source": [
    "import numpy as np\n",
    "arr = np.array([list(map(int, input().split())) for i in range(int(input()))])\n",
    "print(np.sum(arr[:, int(input())]))"
   ]
  },
  {
   "cell_type": "code",
   "execution_count": null,
   "id": "7b757d48",
   "metadata": {},
   "outputs": [],
   "source": [
    "import numpy as np\n",
    "#вариант 1:\n",
    "#print(np.array([list(map(int, input().split())) for _ in '_'*int(input())]).sum(axis=0)[int(input())])\n",
    "#вариант 2:\n",
    "print(np.array([list(map(int, input().split())) for _ in '_'*int(input())])[:,int(input())].sum(axis=0))"
   ]
  },
  {
   "cell_type": "code",
   "execution_count": null,
   "id": "c51af4bd",
   "metadata": {},
   "outputs": [],
   "source": [
    "# sum() v nachale\n",
    "import numpy as np\n",
    "print(np.sum(np.array([list(map(int, input().split())) for i in range(int(input()))])[:, int(input())]))"
   ]
  },
  {
   "cell_type": "code",
   "execution_count": null,
   "id": "e2914f0f",
   "metadata": {},
   "outputs": [],
   "source": [
    "# sum() v konse\n",
    "import numpy as np \n",
    "print(np.array([list(map(int, input().split())) for i in range(int(input()))])[:, int(input())].sum())"
   ]
  },
  {
   "cell_type": "markdown",
   "id": "3a3660a7",
   "metadata": {},
   "source": [
    "# Максимальное после преобразований\n",
    "    На вход программе подается двумерный массив A из целых чисел. Преобразуйте каждый элемент A[i][j] по формуле\n",
    "\n",
    "A[i][j]=sin(e^{A[i][j]})A[i][j]=sin(e \n",
    "A[i][j]\n",
    " ). После преобразований вычислите максимальный элемент измененного массива.\n",
    "\n",
    "    Формат ввода: два числа N и M – размерность массива. Затем вводятся значения массива.\n",
    "\n",
    "    Формат вывода: одно число – максимальный элемент массива. Округлите это значение до двух знаков после запятой.\n",
    "\n",
    "Sample Input:\n",
    "\n",
    "3 2\n",
    "\n",
    "70 19\n",
    "\n",
    "75 72\n",
    "\n",
    "27 39\n",
    "\n",
    "Sample Output:\n",
    "\n",
    "0.7"
   ]
  },
  {
   "cell_type": "code",
   "execution_count": null,
   "id": "caee45c9",
   "metadata": {},
   "outputs": [],
   "source": [
    "import numpy as np\n",
    "N, M = [int(i) for i in input().split()]\n",
    "ar = np.array([input().split() for i in range(N)], int)\n",
    "print(np.round(np.sin(np.exp(ar)), 2).max())"
   ]
  },
  {
   "cell_type": "code",
   "execution_count": null,
   "id": "e632e7a3",
   "metadata": {},
   "outputs": [],
   "source": [
    "''' Формула '''\n",
    "import numpy as np\n",
    "print(round(np.sin(np.exp([[int(i) for i in input().split()] for _ in range(int(input().split()[0]))])).max(), 2))"
   ]
  },
  {
   "cell_type": "markdown",
   "id": "8410871a",
   "metadata": {},
   "source": [
    "# Подсчитать accuracy\n",
    "    Вы работаете над ИИ, который предсказывает курс доллара. Вы получаете от него массив со значениями курса, а спустя время получаете реальные данные. С помощью numpy оцените эффективность Вашего ИИ с помощью метрики accuracy, то есть посчитайте долю совпадающих значений.\n",
    "\n",
    "    Формат ввода: две строки с целыми числами через пробел. На первой строке – предсказания ИИ, на второй – реальные данные.\n",
    "\n",
    "    Формат вывода: число от 0 до 1 – отношение совпадающих показаний ко всем. Округлите до одного знака после запятой.\n",
    "\n",
    "Sample Input:\n",
    "\n",
    "69 69 70 69 71 70 70 71 72 71\n",
    "\n",
    "69 68 69 70 71 70 71 71 70 70\n",
    "\n",
    "Sample Output:\n",
    "\n",
    "0.4"
   ]
  },
  {
   "cell_type": "code",
   "execution_count": 1,
   "id": "b14344a0",
   "metadata": {},
   "outputs": [
    {
     "name": "stdout",
     "output_type": "stream",
     "text": [
      "69 69 70 69 71 70 70 71 72 71\n",
      "69 68 69 70 71 70 71 71 70 70\n",
      "0.4\n"
     ]
    }
   ],
   "source": [
    "import numpy as np\n",
    "ai = np.array([int(i) for i in input().split()])\n",
    "real = np.array([int(i) for i in input().split()])\n",
    "print(np.round(np.mean(ai == real), 1))"
   ]
  },
  {
   "cell_type": "code",
   "execution_count": null,
   "id": "83d138ae",
   "metadata": {},
   "outputs": [],
   "source": [
    "import numpy as np\n",
    "a = np.array(input().split(), int)\n",
    "b = np.array(input().split(), int)\n",
    "print(np.round((a==b).mean(), 1))"
   ]
  },
  {
   "cell_type": "code",
   "execution_count": null,
   "id": "b248853c",
   "metadata": {},
   "outputs": [],
   "source": [
    "import numpy as np\n",
    "sp = np.array(input().split(), int) == np.array(input().split(), int)\n",
    "print(round(sum(sp) / len(sp), 1))"
   ]
  },
  {
   "cell_type": "markdown",
   "id": "690019fa",
   "metadata": {},
   "source": [
    "# Среднеквадратичная ошибка\n",
    "    С помощью numpy вычислите среднеквадратичную ошибку (англ. MSE) для двух переданных матриц (двумерных массивов) одного размера. Формула выглядит следующим образом: \n",
    "    https://miro.medium.com/max/1032/1*w5_SIXTdSUp6DZ5Dkl5jTA@2x.png\n",
    "\n",
    "MSE - shemanovskiy - Medium\n",
    "\n",
    "    Формула намного проще, чем кажется на первый взгляд. Нужно вычислить квадрат разности всех соответствующих элементов матриц, а затем найти среднее из этих значений (т. е. сумму этих значений разделить на количество элементов). Знак \"сигма\" (Σ) используется для обозначения суммы.\n",
    "\n",
    "    Формат ввода: число N – размер матриц. Затем вводятся две матрицы N*N.\n",
    "\n",
    "    Формат вывода: число, равное результату применения формулы. Округлите число до двух знаков после запятой.\n",
    "\n",
    "    Примечание: для наглядности рассмотрим пример.\n",
    "    1. Вычислим квадраты разностей: (1 - 11)^2 = 100; (4 - 8)^2 = 16; (18 - 23)^2 = 25; (5 - 4)^2 = 1.\n",
    "    2. Вычислим среднее: (100 + 16 + 25 + 1) / 4 = 35.5\n",
    "\n",
    "    Эта формула очень часто встречается в статистике и машинном обучении.\n",
    "\n",
    "Sample Input 1:\n",
    "\n",
    "2\n",
    "\n",
    "1 4\n",
    "\n",
    "18 5\n",
    "\n",
    "8\n",
    "\n",
    "23 4\n",
    "\n",
    "Output 1:\n",
    "\n",
    "35.5\n",
    "\n",
    "Input 2:\n",
    "\n",
    "2\n",
    "\n",
    "1 57\n",
    "\n",
    "45\n",
    "\n",
    "50 87\n",
    "\n",
    "7 47\n",
    "\n",
    "Sample Output 2:\n",
    "\n",
    "907.25"
   ]
  },
  {
   "cell_type": "code",
   "execution_count": null,
   "id": "5eec970a",
   "metadata": {},
   "outputs": [],
   "source": [
    "import numpy as np\n",
    "N = int(input())\n",
    "matrix_1 = np.array([list(map(int, input().split())) for i in range(N)])\n",
    "matrix_2 = np.array([list(map(int, input().split())) for i in range(N)])\n",
    "print(np.round(np.mean(np.square(matrix_1 - matrix_2)), 2))"
   ]
  },
  {
   "cell_type": "code",
   "execution_count": null,
   "id": "c4daeac4",
   "metadata": {},
   "outputs": [],
   "source": [
    "import numpy as np\n",
    "a,b = [np.array(list([list(map(int, input().split())) for _ in '_'*n])) for n in [int(input())] for _ in 'ab']\n",
    "print(round(((a-b)**2).mean(),2))"
   ]
  },
  {
   "cell_type": "code",
   "execution_count": null,
   "id": "7e9f8fab",
   "metadata": {},
   "outputs": [],
   "source": [
    "import numpy as np\n",
    "N = int(input())\n",
    "arr1 = np.array([input().split() for i in range(N)]).astype(int)\n",
    "arr2 = np.array([input().split() for j in range(N)]).astype(int)\n",
    "print(np.round(np.mean((arr1 - arr2)**2), decimals=2))"
   ]
  },
  {
   "cell_type": "markdown",
   "id": "dcc2655f",
   "metadata": {},
   "source": [
    "# Run-length encoding\n",
    "    Реализуйте кодирование длин серий (Run-length encoding) – алгоритм сжатия данных. Он заменяет серию повторяющихся символов одним символом и числом его повторений.\n",
    "\n",
    "    Формат ввода: строка, содержащая целые числа через пробел.\n",
    "\n",
    "    Формат вывода: два numpy-массива одинаковой длины: первый содержит элементы, второй – количество повторений соответствующего элемента.\n",
    "\n",
    "Sample Input:\n",
    "\n",
    "7 7 7 4 4 8 11 9 9 9 9 32 32 1 1 1 1 1 90 0 5 9\n",
    "\n",
    "Sample Output:\n",
    "\n",
    "7 4 8 11 9 32 1 90 0 5 9\n",
    "\n",
    "3 2 1 1 4 2 5 1 1 1 1"
   ]
  },
  {
   "cell_type": "code",
   "execution_count": null,
   "id": "768ea460",
   "metadata": {},
   "outputs": [],
   "source": [
    "# bez nympy\n",
    "def run_length_encoding(seq):\n",
    "    compressed, amount, count, char = [], [], 1, seq[0]\n",
    "    for i in range(1, len(seq)):\n",
    "        if seq[i] == char:\n",
    "            count = count + 1\n",
    "        else:\n",
    "            compressed.append(char)\n",
    "            amount.append(count)\n",
    "            char = seq[i]\n",
    "            count = 1\n",
    "    compressed.append(char)\n",
    "    amount.append(count)\n",
    "    print(*compressed) \n",
    "    print(*amount)\n",
    "run_length_encoding([int(i) for i in input().split()])"
   ]
  },
  {
   "cell_type": "code",
   "execution_count": null,
   "id": "c0043c15",
   "metadata": {},
   "outputs": [],
   "source": [
    "array = [int(x) for x in input().split()]\n",
    "arr = []\n",
    "count = []\n",
    "array.append(\"X\")\n",
    "tmp = 1\n",
    "for i in range(1,len(array)):\n",
    "    if array[i] == array[i-1]:\n",
    "        tmp += 1\n",
    "    else:\n",
    "        arr.append(array[i-1])\n",
    "        count.append(tmp)\n",
    "        tmp = 1\n",
    "print(*arr)\n",
    "print(*count)"
   ]
  },
  {
   "cell_type": "code",
   "execution_count": null,
   "id": "a36edd30",
   "metadata": {},
   "outputs": [],
   "source": [
    "from itertools import groupby\n",
    "import numpy as np\n",
    "l = np.array([[n, len(list(k))] for n, k in groupby(map(int, input().split()))])\n",
    "print(*l[:,0])\n",
    "print(*l[:,1])"
   ]
  },
  {
   "cell_type": "code",
   "execution_count": null,
   "id": "431363bd",
   "metadata": {},
   "outputs": [],
   "source": [
    "sp = input().split() + ['']\n",
    "st, sm, out = sp[0], 0, []\n",
    "for v in sp:\n",
    "    if st == v:\n",
    "        sm += 1\n",
    "    else:\n",
    "        out.append((st, sm))\n",
    "        st, sm = v, 1\n",
    "\n",
    "print(*(v[0] for v in out))\n",
    "print(*(v[1] for v in out))"
   ]
  },
  {
   "cell_type": "markdown",
   "id": "3ae17c5c",
   "metadata": {},
   "source": [
    "# Сумма на диагонали\n",
    "    Вводится квадратная матрица размером N*N. Выведите сумму двух характеристик массива:\n",
    "\n",
    "    1. Сумма четных элементов главной диагонали\n",
    "\n",
    "    2. Произведение всех ненулевых элементов главной диагонали\n",
    "\n",
    "    Примечание: узнайте, как работает функция np.diagonal().\n",
    "\n",
    "Sample Input:\n",
    "\n",
    "4\n",
    "\n",
    "52 67 89 10\n",
    "\n",
    "32 73 37\n",
    "\n",
    "23 88 18 31\n",
    "\n",
    "98 76 50 0\n",
    "\n",
    "Sample Output:\n",
    "\n",
    "30054"
   ]
  },
  {
   "cell_type": "code",
   "execution_count": null,
   "id": "7a42b4de",
   "metadata": {},
   "outputs": [],
   "source": [
    "import numpy as np\n",
    "arr = np.array([list(map(int, input().split())) for i in range(int(input()))])\n",
    "diog = np.diagonal(arr)\n",
    "summ = np.sum(diog)\n",
    "more = []\n",
    "for i in diog:\n",
    "    if i > 0:\n",
    "        more.append(i)\n",
    "prod = np.prod(more)\n",
    "print(prod + summ)"
   ]
  },
  {
   "cell_type": "code",
   "execution_count": null,
   "id": "ab843bbf",
   "metadata": {},
   "outputs": [],
   "source": []
  }
 ],
 "metadata": {
  "kernelspec": {
   "display_name": "Python 3 (ipykernel)",
   "language": "python",
   "name": "python3"
  },
  "language_info": {
   "codemirror_mode": {
    "name": "ipython",
    "version": 3
   },
   "file_extension": ".py",
   "mimetype": "text/x-python",
   "name": "python",
   "nbconvert_exporter": "python",
   "pygments_lexer": "ipython3",
   "version": "3.9.12"
  }
 },
 "nbformat": 4,
 "nbformat_minor": 5
}
