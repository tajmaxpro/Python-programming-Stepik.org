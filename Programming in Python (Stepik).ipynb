{
 "cells": [
  {
   "cell_type": "markdown",
   "id": "455559b1",
   "metadata": {},
   "source": [
    "# Программирование на Python\n",
    "Прогресс по курсу:  98/100"
   ]
  },
  {
   "cell_type": "code",
   "execution_count": null,
   "id": "1a19ca48",
   "metadata": {},
   "outputs": [],
   "source": [
    "print((42/(4+2*(-2))))     "
   ]
  },
  {
   "cell_type": "code",
   "execution_count": 11,
   "id": "2028a477",
   "metadata": {},
   "outputs": [
    {
     "data": {
      "text/plain": [
       "1234.5"
      ]
     },
     "execution_count": 11,
     "metadata": {},
     "output_type": "execute_result"
    }
   ],
   "source": [
    "1.2345e3"
   ]
  },
  {
   "cell_type": "code",
   "execution_count": 12,
   "id": "dcfa7f0f",
   "metadata": {},
   "outputs": [
    {
     "data": {
      "text/plain": [
       "0.0012345"
      ]
     },
     "execution_count": 12,
     "metadata": {},
     "output_type": "execute_result"
    }
   ],
   "source": [
    "1.2345e-3"
   ]
  },
  {
   "cell_type": "code",
   "execution_count": 13,
   "id": "9d1dae6f",
   "metadata": {},
   "outputs": [
    {
     "data": {
      "text/plain": [
       "1.806477376560755e+46"
      ]
     },
     "execution_count": 13,
     "metadata": {},
     "output_type": "execute_result"
    }
   ],
   "source": [
    "2014.0 ** 14"
   ]
  },
  {
   "cell_type": "code",
   "execution_count": 14,
   "id": "d06380eb",
   "metadata": {},
   "outputs": [
    {
     "data": {
      "text/plain": [
       "-1"
      ]
     },
     "execution_count": 14,
     "metadata": {},
     "output_type": "execute_result"
    }
   ],
   "source": [
    "int(-1.6)"
   ]
  },
  {
   "cell_type": "code",
   "execution_count": 15,
   "id": "549b0e47",
   "metadata": {},
   "outputs": [
    {
     "name": "stdout",
     "output_type": "stream",
     "text": [
      "89\n"
     ]
    }
   ],
   "source": [
    "print(9**19 - int(float(9**19)))"
   ]
  },
  {
   "cell_type": "code",
   "execution_count": 16,
   "id": "4cde2008",
   "metadata": {},
   "outputs": [
    {
     "name": "stdout",
     "output_type": "stream",
     "text": [
      "1350851717672992089\n"
     ]
    }
   ],
   "source": [
    "print(9**19)"
   ]
  },
  {
   "cell_type": "code",
   "execution_count": 19,
   "id": "f2147ca9",
   "metadata": {},
   "outputs": [
    {
     "name": "stdout",
     "output_type": "stream",
     "text": [
      "1350851717672992000\n"
     ]
    }
   ],
   "source": [
    "print(int(float(9**19)))"
   ]
  },
  {
   "cell_type": "code",
   "execution_count": 20,
   "id": "de7df911",
   "metadata": {},
   "outputs": [
    {
     "name": "stdout",
     "output_type": "stream",
     "text": [
      "450\n",
      "7\n",
      "30\n"
     ]
    }
   ],
   "source": [
    "n = int(input())\n",
    "print(n // 60, n % 60, sep = \"\\n\")"
   ]
  },
  {
   "cell_type": "code",
   "execution_count": 21,
   "id": "030caca0",
   "metadata": {},
   "outputs": [
    {
     "name": "stdout",
     "output_type": "stream",
     "text": [
      "480\n",
      "1\n",
      "2\n",
      "9\n",
      "2\n"
     ]
    }
   ],
   "source": [
    "x = int(input())\n",
    "h = int(input())\n",
    "m = int(input())\n",
    "t = h * 60 + m + x\n",
    "print(t // 60, t % 60, sep=\"\\n\")"
   ]
  },
  {
   "cell_type": "code",
   "execution_count": 5,
   "id": "0889b428",
   "metadata": {},
   "outputs": [
    {
     "name": "stdout",
     "output_type": "stream",
     "text": [
      "2000\n",
      "Високосный\n"
     ]
    }
   ],
   "source": [
    "year = int(input())\n",
    "if year % 4 == 0 and year % 100 != 0 or year % 400 == 0:\n",
    "    print(\"Високосный\")\n",
    "else:\n",
    "    print(\"Обычный\")"
   ]
  },
  {
   "cell_type": "code",
   "execution_count": 7,
   "id": "1b0da201",
   "metadata": {},
   "outputs": [
    {
     "name": "stdout",
     "output_type": "stream",
     "text": [
      "2022\n",
      "Обычный\n"
     ]
    }
   ],
   "source": [
    "year = int(input())\n",
    "print(\"Високосный\" if year % 4 == 0 and year % 100 != 0 or year % 400 == 0 else \"Обычный\")"
   ]
  },
  {
   "cell_type": "code",
   "execution_count": 7,
   "id": "c1486afe",
   "metadata": {},
   "outputs": [
    {
     "name": "stdout",
     "output_type": "stream",
     "text": [
      "10\n",
      "2\n",
      "/\n",
      "5.0\n"
     ]
    }
   ],
   "source": [
    "a = float(input())\n",
    "b = float(input())\n",
    "o = input()\n",
    "if b ==  0 and (o in ['div', 'mod', '/']):\n",
    "    print('Деление на 0!')\n",
    "elif o == \"mod\":\n",
    "    print(a % b)\n",
    "elif o == \"div\":\n",
    "    print(a // b)\n",
    "elif o == \"pow\":\n",
    "    print(a ** b)\n",
    "elif o == \"*\":\n",
    "    print(a * b)\n",
    "elif o == \"/\":\n",
    "    print(a / b)\n",
    "elif o == \"+\":\n",
    "    print(a + b)\n",
    "elif o == \"-\":\n",
    "    print(a - b)"
   ]
  },
  {
   "cell_type": "code",
   "execution_count": 3,
   "id": "4ec5693a",
   "metadata": {},
   "outputs": [
    {
     "name": "stdout",
     "output_type": "stream",
     "text": [
      "треугольник\n",
      "3\n",
      "4\n",
      "5\n",
      "6.0\n"
     ]
    }
   ],
   "source": [
    "type_room = input()\n",
    "if type_room == 'прямоугольник':\n",
    "    a = int(input())\n",
    "    b = int(input())\n",
    "    print(a * b)\n",
    "elif type_room == 'круг':\n",
    "    r = int(input())\n",
    "    print(3.14 * r ** 2)\n",
    "elif type_room == 'треугольник':\n",
    "    a = int(input())\n",
    "    b = int(input())\n",
    "    c = int(input())\n",
    "    p = (a + b + c) / 2\n",
    "    S = (p*(p - a)*(p - b)*(p - c))**0.5\n",
    "    print(S)"
   ]
  },
  {
   "cell_type": "code",
   "execution_count": 5,
   "id": "4752c8b3",
   "metadata": {},
   "outputs": [
    {
     "name": "stdout",
     "output_type": "stream",
     "text": [
      "круг\n",
      "5\n",
      "78.5\n"
     ]
    }
   ],
   "source": [
    "shape = input()\n",
    "\n",
    "a = float(input())\n",
    "\n",
    "if shape == \"треугольник\" or shape == \"прямоугольник\":\n",
    "    b = float(input())\n",
    "    S = a*b\n",
    "    if shape == \"треугольник\":\n",
    "        c = float(input())\n",
    "        p = (a+b+c)/2\n",
    "        S = (p*(p-a)*(p-b)*(p-c))**0.5\n",
    "else:\n",
    "    S = 3.14*a**2\n",
    "\n",
    "print (S)"
   ]
  },
  {
   "cell_type": "code",
   "execution_count": null,
   "id": "64e90e5d",
   "metadata": {},
   "outputs": [],
   "source": [
    "a = [for i in int(input())]\n",
    "print(max(a))\n",
    "print(min(a))\n",
    "for i in a:\n",
    "    if i != max(a) and i != min(a):\n",
    "        print(i)\n"
   ]
  },
  {
   "cell_type": "code",
   "execution_count": 7,
   "id": "a6cf0573",
   "metadata": {},
   "outputs": [
    {
     "name": "stdout",
     "output_type": "stream",
     "text": [
      "2\n",
      "['2']\n"
     ]
    }
   ],
   "source": [
    "a = [i for i in input()]\n",
    "print(a)"
   ]
  },
  {
   "cell_type": "code",
   "execution_count": null,
   "id": "441f37d8",
   "metadata": {},
   "outputs": [],
   "source": [
    "a = int(input())\n",
    "b = int(input())\n",
    "c = int(input())\n",
    "print(max(a, b, c))\n",
    "print(min(a, b, c))\n",
    "for i in a, b, c:\n",
    "    if i != max(a, b, c) and i != min(a, b, c):\n",
    "        print(i)"
   ]
  },
  {
   "cell_type": "code",
   "execution_count": null,
   "id": "2f65d474",
   "metadata": {},
   "outputs": [],
   "source": [
    "a,b,c = int(input()), int(input()), int(input())\n",
    "\n",
    "if a < b:\n",
    "    a, b = b, a\n",
    "if a < c:\n",
    "    a, c = c, a\n",
    "if b > c:\n",
    "    b, c = c, b\n",
    "print(a, b, c, sep = '\\n')"
   ]
  },
  {
   "cell_type": "code",
   "execution_count": null,
   "id": "28145ab4",
   "metadata": {},
   "outputs": [],
   "source": [
    "x=sorted([int(input()),int(input()),int(input())])\n",
    "print (x[2], x[0], x[1], sep=\"\\n\")"
   ]
  },
  {
   "cell_type": "code",
   "execution_count": 1,
   "id": "03b9e348",
   "metadata": {},
   "outputs": [
    {
     "name": "stdout",
     "output_type": "stream",
     "text": [
      "10\n",
      "10 программистов\n"
     ]
    }
   ],
   "source": [
    "nm = int(input())\n",
    "if nm < 0:\n",
    "    print('Ошибка, введите положительное число')\n",
    "elif nm % 10 == 1 and nm % 100 != 11:  # Формула 1\n",
    "    print(nm, 'программист')\n",
    "elif nm % 10 >= 2 and nm % 10 <= 4 and (nm % 100 < 10 or nm % 100 > 20):  # Формула 2\n",
    "    print(nm, 'программиста')\n",
    "else:\n",
    "    print(nm, 'программистов')"
   ]
  },
  {
   "cell_type": "code",
   "execution_count": 2,
   "id": "8eadeb77",
   "metadata": {},
   "outputs": [
    {
     "name": "stdout",
     "output_type": "stream",
     "text": [
      "123321\n",
      "Счастливый\n"
     ]
    }
   ],
   "source": [
    "n = input()\n",
    "if int(n[0]) + int(n[1]) + int(n[2]) == int(n[3]) + int(n[4]) + int(n[5]):\n",
    "    print('Счастливый')\n",
    "else:\n",
    "    print('Обычный')"
   ]
  },
  {
   "cell_type": "code",
   "execution_count": null,
   "id": "2522f3f5",
   "metadata": {},
   "outputs": [],
   "source": [
    "a = 5 \n",
    "while a > 0:\n",
    "    print(a, end = ' ')\n",
    "    a-=1"
   ]
  },
  {
   "cell_type": "code",
   "execution_count": null,
   "id": "044aad95",
   "metadata": {},
   "outputs": [],
   "source": [
    "num = int(input())\n",
    "nums = 0\n",
    "while num != 0:\n",
    "    nums += num\n",
    "    num = int(input())\n",
    "print(nums)"
   ]
  },
  {
   "cell_type": "code",
   "execution_count": 2,
   "id": "0e36cd15",
   "metadata": {},
   "outputs": [
    {
     "ename": "IndentationError",
     "evalue": "unindent does not match any outer indentation level (<tokenize>, line 15)",
     "output_type": "error",
     "traceback": [
      "\u001b[1;36m  File \u001b[1;32m<tokenize>:15\u001b[1;36m\u001b[0m\n\u001b[1;33m    for k в диапазоне второго отрезка\u001b[0m\n\u001b[1;37m    ^\u001b[0m\n\u001b[1;31mIndentationError\u001b[0m\u001b[1;31m:\u001b[0m unindent does not match any outer indentation level\n"
     ]
    }
   ],
   "source": [
    "Что-то подсказок по делу немного. Так что:\n",
    "\n",
    "1. вводим 4 числа\n",
    "\n",
    "2. for i в диапазоне второго отрезка:\n",
    "\n",
    "      print(i) # не забываем про end и t\n",
    "\n",
    "print() # чтобы перейти на новую строку\n",
    "\n",
    "for j в диапазоне первого отрезка:\n",
    "\n",
    "      print(jt\n",
    "\n",
    "    for k в диапазоне второго отрезка\n",
    "\n",
    "          print(перемножаем отрезки)\n",
    "\n",
    "    print() #переходим на новую стоку"
   ]
  },
  {
   "cell_type": "code",
   "execution_count": 1,
   "id": "839f7112",
   "metadata": {},
   "outputs": [
    {
     "ename": "SyntaxError",
     "evalue": "unexpected character after line continuation character (970580914.py, line 3)",
     "output_type": "error",
     "traceback": [
      "\u001b[1;36m  Input \u001b[1;32mIn [1]\u001b[1;36m\u001b[0m\n\u001b[1;33m    print(i, end=\\n)\u001b[0m\n\u001b[1;37m                  ^\u001b[0m\n\u001b[1;31mSyntaxError\u001b[0m\u001b[1;31m:\u001b[0m unexpected character after line continuation character\n"
     ]
    }
   ],
   "source": [
    "a, b, c, d = int(input()), int(input()), int(input()), int(input())\n",
    "for i in range(c, d):\n",
    "    print(i, end=\\n)\n",
    "print()\n",
    "for j in range(a, b):\n",
    "    print(j)\n",
    "    for k in range(c, d):\n",
    "        print(a, b * c, d)\n",
    "    print()\n",
    "    "
   ]
  },
  {
   "cell_type": "code",
   "execution_count": 2,
   "id": "882a1e69",
   "metadata": {},
   "outputs": [
    {
     "name": "stdout",
     "output_type": "stream",
     "text": [
      "def abcdef defghijk kjihgfedcba ijk abcde kigec\n"
     ]
    }
   ],
   "source": [
    "s = 'abcdefghijk'\n",
    "a = s[3:6]\n",
    "b = s[:6]\n",
    "c = s[3:]\n",
    "d = s[::-1]\n",
    "e = s[-3:]\n",
    "f = s[:-6]\n",
    "g = s[-1:-10:-2]\n",
    "print(a, b, c, d, e, f, g)"
   ]
  },
  {
   "cell_type": "code",
   "execution_count": 3,
   "id": "195ffd72",
   "metadata": {},
   "outputs": [
    {
     "name": "stdout",
     "output_type": "stream",
     "text": [
      "Ivan\n",
      "Masha\n",
      "Sasha\n",
      "Olga\n",
      "O\n",
      "l\n",
      "g\n",
      "a\n"
     ]
    }
   ],
   "source": [
    "students = ['Ivan', 'Masha', 'Sasha']\n",
    "students += ['Olga']\n",
    "students += 'Olga'\n",
    "for i in students:\n",
    "    print(i)"
   ]
  },
  {
   "cell_type": "code",
   "execution_count": 1,
   "id": "ab09fab3",
   "metadata": {},
   "outputs": [
    {
     "name": "stdout",
     "output_type": "stream",
     "text": [
      "aaaabbcaa\n",
      "a4b2c1a2\n"
     ]
    }
   ],
   "source": [
    "dna = input()                    # считываем строку\n",
    "print(dna[0],end='')             # выводим первый символ\n",
    "cnt = 1                          # счетчик символов на единице\n",
    "for i in range(0,len(dna)-1):    # итератор проходит по всем индексам символов кроме предпоследнего\n",
    "    if dna[i] == dna[i+1]:       # сравниваем символ по текущему индексу со следующим\n",
    "        cnt+=1                   # если символы одинаковые, то увеличиваем счетчик\n",
    "    else :\n",
    "        print(cnt,end='')        # если разные, то выводим значение счетчика\n",
    "        print(dna[i+1],end='')   # выводим следующий символ\n",
    "        cnt = 1                  # счетчик текущего символа на единице\n",
    "print(cnt)                       # в конце распечатываем значение счетчика последнего символа"
   ]
  },
  {
   "cell_type": "code",
   "execution_count": 1,
   "id": "d9b80a9e",
   "metadata": {},
   "outputs": [
    {
     "name": "stdout",
     "output_type": "stream",
     "text": [
      "aaaabbcaa\n",
      "a4b2c1a2\n"
     ]
    }
   ],
   "source": [
    "s = input()\n",
    "b = \"\"\n",
    "s += '1'\n",
    "c = s[0]\n",
    "i = 0\n",
    "for r in s:\n",
    "    if c != r:\n",
    "        b += c + str(i)\n",
    "        c = r\n",
    "        i = 0\n",
    "    i += 1\n",
    "print(b)"
   ]
  },
  {
   "cell_type": "code",
   "execution_count": 4,
   "id": "94387fb5",
   "metadata": {},
   "outputs": [
    {
     "name": "stdout",
     "output_type": "stream",
     "text": [
      "['Ivan', 'Masha', 'Sasha', 'Olga', 'O', 'l', 'g', 'a']\n"
     ]
    }
   ],
   "source": [
    "students = ['Ivan', 'Masha', 'Sasha']\n",
    "students += ['Olga']\n",
    "students += \"Olga\"\n",
    "print(students)"
   ]
  },
  {
   "cell_type": "code",
   "execution_count": 6,
   "id": "33f74a56",
   "metadata": {},
   "outputs": [
    {
     "name": "stdout",
     "output_type": "stream",
     "text": [
      "1 3 5 6 10\n",
      "13 6 9 15 9\n"
     ]
    }
   ],
   "source": [
    "'''1.создаем переменную читающую строку, одномоментно переводим все элементы строки в числа, как это делать показано в видео уроках этой темы.\n",
    "\n",
    "2.создаем 2ю переменную для считывания кол-ва элементов в строке \"переменная=len(строка)\n",
    "\n",
    "3.создаем условие о том, что если длинна строки будет равна(==) 1, то выводим (*имя переменной строки).\n",
    "\n",
    "Иначе тогда проходим циклом всю длину нашей строки за исключением последней итерации, её мы можем убрать вот таким способом - for i in range(n-1). \n",
    "\n",
    "Каждую итерацию мы принтуем s[i+1]+s[i-1],end=\" \". \n",
    "\n",
    "По завершению цикла выводим последнюю часть условия \"иначе\", а именно выводим последний элемент s[-2]+s[0]'''\n",
    "\n",
    "\n",
    "nlist = [int(i) for i in input().split()]\n",
    "res = []\n",
    "if len(nlist) == 1:\n",
    "    res += [nlist[0]]\n",
    "else:\n",
    "    for i in range(len(nlist)):\n",
    "        if not i == len(nlist) - 1:\n",
    "            res += [nlist[i+1] + nlist[i-1]]\n",
    "        else:\n",
    "            res += [nlist[1] + nlist[i - 1]]\n",
    "print(*res)"
   ]
  },
  {
   "cell_type": "code",
   "execution_count": 5,
   "id": "e4781ec8",
   "metadata": {},
   "outputs": [
    {
     "name": "stdout",
     "output_type": "stream",
     "text": [
      "1 3 5 6 10\n"
     ]
    },
    {
     "ename": "IndexError",
     "evalue": "list index out of range",
     "output_type": "error",
     "traceback": [
      "\u001b[1;31m---------------------------------------------------------------------------\u001b[0m",
      "\u001b[1;31mIndexError\u001b[0m                                Traceback (most recent call last)",
      "Input \u001b[1;32mIn [5]\u001b[0m, in \u001b[0;36m<cell line: 3>\u001b[1;34m()\u001b[0m\n\u001b[0;32m      8\u001b[0m             result \u001b[38;5;241m+\u001b[39m\u001b[38;5;241m=\u001b[39m [mylist[i \u001b[38;5;241m+\u001b[39m \u001b[38;5;241m0\u001b[39m] \u001b[38;5;241m+\u001b[39m mylist[i \u001b[38;5;241m-\u001b[39m \u001b[38;5;241m1\u001b[39m]]\n\u001b[0;32m      9\u001b[0m         \u001b[38;5;28;01melse\u001b[39;00m:\n\u001b[1;32m---> 10\u001b[0m             result \u001b[38;5;241m+\u001b[39m\u001b[38;5;241m=\u001b[39m [\u001b[43mmylist\u001b[49m\u001b[43m[\u001b[49m\u001b[43mi\u001b[49m\u001b[43m \u001b[49m\u001b[38;5;241;43m+\u001b[39;49m\u001b[43m \u001b[49m\u001b[38;5;241;43m1\u001b[39;49m\u001b[43m]\u001b[49m \u001b[38;5;241m+\u001b[39m mylist[i \u001b[38;5;241m-\u001b[39m \u001b[38;5;241m1\u001b[39m]]\n\u001b[0;32m     11\u001b[0m \u001b[38;5;28mprint\u001b[39m(\u001b[38;5;241m*\u001b[39mresult)\n",
      "\u001b[1;31mIndexError\u001b[0m: list index out of range"
     ]
    }
   ],
   "source": [
    "mylist = [int(i) for i in input().split()]\n",
    "result = []\n",
    "if len(mylist) == 1:\n",
    "    result += [mylist[0]]\n",
    "else:\n",
    "    for i in range(len(mylist)):\n",
    "        if not i == len(mylist) - 1:\n",
    "            result += [mylist[i + 0] + mylist[i - 1]]\n",
    "        else:\n",
    "            result += [mylist[i + 1] + mylist[i - 1]]\n",
    "print(*result)"
   ]
  },
  {
   "cell_type": "code",
   "execution_count": 6,
   "id": "68ed6d78",
   "metadata": {},
   "outputs": [
    {
     "name": "stdout",
     "output_type": "stream",
     "text": [
      "1 3 5 6 10\n",
      "13 6 9 15 7 "
     ]
    }
   ],
   "source": [
    "#shoking solushion:\n",
    "numbers = [int(i) for i in input().split()]\n",
    "if len(numbers) == 1:\n",
    "    print(numbers[0])\n",
    "else:\n",
    "    for i in range(len(numbers)):\n",
    "        print(numbers[i - 1] + numbers[(i + 1) % len(numbers)], end=\" \")"
   ]
  },
  {
   "cell_type": "code",
   "execution_count": 8,
   "id": "3c6947d4",
   "metadata": {},
   "outputs": [
    {
     "name": "stdout",
     "output_type": "stream",
     "text": [
      "1 3 5 6 10\n",
      "13 6 9 15 7\n"
     ]
    }
   ],
   "source": [
    "arr = list(map(int, input().split()))\n",
    "print(*arr if len(arr) == 1 else [arr[i - 1] + arr[(i + 1) % len(arr)] for i in range(len(arr))])"
   ]
  },
  {
   "cell_type": "code",
   "execution_count": 7,
   "id": "e97d5ebb",
   "metadata": {},
   "outputs": [
    {
     "name": "stdout",
     "output_type": "stream",
     "text": [
      "1\n",
      "2\n",
      "3\n",
      "0\n",
      "1\n",
      "2\n",
      "3\n",
      "0\n",
      "1\n"
     ]
    }
   ],
   "source": [
    "for i in range(1, 10): \n",
    "    print(i % 4)"
   ]
  },
  {
   "cell_type": "code",
   "execution_count": 2,
   "id": "afb2264e",
   "metadata": {},
   "outputs": [
    {
     "name": "stdout",
     "output_type": "stream",
     "text": [
      "3 4  45  45 45  54 \n",
      "45\n"
     ]
    }
   ],
   "source": [
    "a = [int(i) for i in input().split()]\n",
    "dict_ = {}\n",
    "res = []\n",
    "for i in a:\n",
    "   dict_[i] = dict_.get(i, 0) + 1\n",
    "for i, j in dict_.items():\n",
    "   if j > 1:\n",
    "      res.append(i)\n",
    "print(*res)"
   ]
  },
  {
   "cell_type": "code",
   "execution_count": 3,
   "id": "72edebb7",
   "metadata": {},
   "outputs": [
    {
     "name": "stdout",
     "output_type": "stream",
     "text": [
      "4 8 0 3 4 2 0 3\n",
      "0 3 4\n"
     ]
    }
   ],
   "source": [
    "a = [int(i) for i in input().split()]\n",
    "lst = []\n",
    "res = []\n",
    "for i in a:\n",
    "    if i in lst:\n",
    "        res.append(i)\n",
    "    else:\n",
    "        lst.append(i)\n",
    "print(*set(res))"
   ]
  },
  {
   "cell_type": "code",
   "execution_count": 4,
   "id": "680cf161",
   "metadata": {},
   "outputs": [
    {
     "name": "stdout",
     "output_type": "stream",
     "text": [
      "4 8 0 3 4 2 0 3\n",
      "0 3 4\n"
     ]
    }
   ],
   "source": [
    "list=[int(j) for j in input().split()]\n",
    "new_list = []\n",
    "for i in range(0,len(list)-1):\n",
    "    if list.count(i)>1:\n",
    "        new_list.append(i)\n",
    "print(*new_list)"
   ]
  },
  {
   "cell_type": "code",
   "execution_count": 1,
   "id": "987848d0",
   "metadata": {},
   "outputs": [
    {
     "name": "stdout",
     "output_type": "stream",
     "text": [
      "6\n",
      "6\n",
      "-12\n",
      "216\n"
     ]
    }
   ],
   "source": [
    "inputs = 0\n",
    "multiples = 0\n",
    "while True:\n",
    "    number = int(input())\n",
    "    inputs += number\n",
    "    multiples += (number ** 2)\n",
    "    if inputs == 0:\n",
    "        break\n",
    "print(multiples)"
   ]
  },
  {
   "cell_type": "code",
   "execution_count": 4,
   "id": "0c04a233",
   "metadata": {},
   "outputs": [
    {
     "name": "stdout",
     "output_type": "stream",
     "text": [
      "1\n",
      "2\n",
      "3\n",
      "4\n",
      "5\n",
      "\n"
     ]
    }
   ],
   "source": [
    "L = [1, 2, 3, 4, 5]\n",
    "for x in L:\n",
    "    print (x)\n",
    "print()"
   ]
  },
  {
   "cell_type": "code",
   "execution_count": null,
   "id": "afd81383",
   "metadata": {},
   "outputs": [],
   "source": [
    "n, m, k = [int(i) for i in input().split()]\n",
    "a = [[0 for j in range(m)] for i in range(n)]\n",
    "print(a)"
   ]
  },
  {
   "cell_type": "code",
   "execution_count": 10,
   "id": "322e056a",
   "metadata": {},
   "outputs": [
    {
     "name": "stdout",
     "output_type": "stream",
     "text": [
      "5 4 4\n",
      "1 1\n",
      "2 2 \n",
      "3 2\n",
      "4 4\n",
      "*...\n",
      "2*..\n",
      "2*1.\n",
      "1.1*\n",
      "..1.\n"
     ]
    }
   ],
   "source": [
    "vertical, horizontal, bomb = (int(i) for i in input().split())\n",
    "matrix = [[0 for j in range(horizontal)] for i in range(vertical)]\n",
    "for i in range(bomb):\n",
    "    row, column = (int(i) - 1 for i in input().split())\n",
    "    matrix[row][column] = -1\n",
    "for i in range(vertical):\n",
    "    for j in range(horizontal):\n",
    "        if matrix[i][j] == 0:\n",
    "            for di in range(-1, 2):\n",
    "                for dj in range(-1, 2):\n",
    "                    mi = i + di\n",
    "                    mj = j + dj\n",
    "                if 0 <= mi < vertical and 0 <= mj < horizontal and matrix[mi][mj] == -1:\n",
    "                    matrix[i][j] += 1\n",
    "for i in range(vertical):\n",
    "    for j in range(horizontal):\n",
    "        if matrix[i][j] == -1:\n",
    "            print(\"*\", end=\"\")\n",
    "        elif matrix[i][j] == 0:\n",
    "            print(\".\", end=\"\")\n",
    "        else:\n",
    "            print(matrix[i][j], end=\"\")\n",
    "    print()"
   ]
  },
  {
   "cell_type": "code",
   "execution_count": 9,
   "id": "e4c8b5b6",
   "metadata": {},
   "outputs": [
    {
     "name": "stdout",
     "output_type": "stream",
     "text": [
      "5 4 4\n",
      "1 1\n",
      "2 2\n",
      "3 2\n",
      "4 4\n",
      "*21.\n",
      "3*2.\n",
      "2*31\n",
      "112*\n",
      "..11\n"
     ]
    }
   ],
   "source": [
    "n, m, k = (int(i) for i in input().split())  # чтение размеров поля и числа мин\n",
    "a = [[0 for j in range(m)] for i in range(n)]  # заполнение поля нулями\n",
    "for i in range(k):\n",
    "    row, col = (int(i) - 1 for i in input().split())\n",
    "    a[row][col] = -1  # расставляем мины\n",
    "for i in range(n):\n",
    "    for j in range(m):\n",
    "        if a[i][j] == 0:  # в этой клетке мины нет, поэтому считаем число мин вокруг\n",
    "            for di in range(-1, 2):\n",
    "                for dj in range(-1, 2):\n",
    "                    ai = i + di\n",
    "                    aj = j + dj\n",
    "                    # (ai, aj)\n",
    "                    if 0 <= ai < n and 0 <= aj < m and a[ai][aj] == -1:\n",
    "                        a[i][j] += 1\n",
    "# вывод результата\n",
    "for i in range(n):\n",
    "    for j in range(m):\n",
    "        if a[i][j] == -1:\n",
    "            print('*', end='')\n",
    "        elif a[i][j] == 0:\n",
    "            print('.', end='')\n",
    "        else:\n",
    "            print(a[i][j], end='')\n",
    "    print()"
   ]
  },
  {
   "cell_type": "code",
   "execution_count": 11,
   "id": "30d4111f",
   "metadata": {},
   "outputs": [
    {
     "name": "stdout",
     "output_type": "stream",
     "text": [
      "True\n",
      "False\n"
     ]
    }
   ],
   "source": [
    "class Solution:\n",
    "    def isPolindrome(self, text):\n",
    "        \n",
    "        if text[::] == text[::-1]:\n",
    "            return True\n",
    "        else:\n",
    "            return False\n",
    "        \n",
    "sol = Solution()\n",
    "print(sol.isPolindrome(\"arora\"))\n",
    "\n",
    "sol = Solution()\n",
    "print(sol.isPolindrome(\"aroracx\"))\n"
   ]
  },
  {
   "cell_type": "code",
   "execution_count": 13,
   "id": "e365c407",
   "metadata": {},
   "outputs": [
    {
     "name": "stdout",
     "output_type": "stream",
     "text": [
      "True\n",
      "False\n"
     ]
    }
   ],
   "source": [
    "class Solution:\n",
    "    def isPolindrome(self, text):\n",
    "        \n",
    "        return True if text[::] == text[::-1] else False\n",
    "        \n",
    "sol = Solution()\n",
    "print(sol.isPolindrome(\"arora\"))\n",
    "\n",
    "sol = Solution()\n",
    "print(sol.isPolindrome(\"aroracx\"))\n"
   ]
  },
  {
   "cell_type": "code",
   "execution_count": null,
   "id": "665bc2c0",
   "metadata": {},
   "outputs": [],
   "source": [
    "class Solution:\n",
    "    def isPolindrome(self, text):\n",
    "        i = 0\n",
    "        j = len(text) - 1 \n",
    "        while i <= j:\n",
    "            if text[i] != text[j]:\n",
    "                return False\n",
    "            i += 1\n",
    "            j -= 1\n",
    "        return True\n",
    "        \n",
    "        \n",
    "sol = Solution()\n",
    "print(sol.isPolindrome(\"arora\"))\n",
    "\n",
    "sol = Solution()\n",
    "print(sol.isPolindrome(\"aroracx\"))\n"
   ]
  },
  {
   "cell_type": "code",
   "execution_count": null,
   "id": "9fd04f9e",
   "metadata": {},
   "outputs": [],
   "source": [
    "class Solution:\n",
    "    def isPolindrome(self, text):\n",
    "        text = list(text)\n",
    "        i = 0\n",
    "        j = len(text) - 1 \n",
    "        while i <= j:\n",
    "            x = text[i]\n",
    "            y = text[j]\n",
    "            if x != y:\n",
    "                return False\n",
    "            i += 1\n",
    "            j -= 1\n",
    "        return True\n",
    "        \n",
    "        \n",
    "sol = Solution()\n",
    "print(sol.isPolindrome(\"arora\"))\n",
    "\n",
    "sol = Solution()\n",
    "print(sol.isPolindrome(\"aroracx\"))\n"
   ]
  },
  {
   "cell_type": "code",
   "execution_count": null,
   "id": "54bd3857",
   "metadata": {},
   "outputs": [],
   "source": [
    "class Solution:\n",
    "    def isPolindrome(self, text):\n",
    "        middle = len(text) // 2\n",
    "        return True if text[:middle] == text[middle:] else False\n",
    "        \n",
    "        \n",
    "sol = Solution()\n",
    "print(sol.isPolindrome(\"arora\"))\n",
    "\n",
    "sol = Solution()\n",
    "print(sol.isPolindrome(\"aroracx\"))\n"
   ]
  },
  {
   "cell_type": "code",
   "execution_count": 6,
   "id": "b0f57425",
   "metadata": {},
   "outputs": [
    {
     "name": "stdout",
     "output_type": "stream",
     "text": [
      "5\n",
      "1 2 3 4 5\n",
      "16 17 18 19 6\n",
      "15 24 25 20 7\n",
      "14 23 22 21 8\n",
      "13 12 11 10 9\n"
     ]
    }
   ],
   "source": [
    "n=int(input())\n",
    "t=[[0]*n for i in range (n)]\n",
    "i,j=0,0\n",
    "for k in range(1, n*n+1):\n",
    "    t[i][j]=k\n",
    "    if k==n*n: break\n",
    "    if i<=j+1 and i+j<n-1: j+=1\n",
    "    elif i<j and i+j>=n-1: i+=1\n",
    "    elif i>=j and i+j>n-1: j-=1\n",
    "    elif i>j+1 and i+j<=n-1: i-=1\n",
    "for i in range(n):\n",
    "    print(*t[i])"
   ]
  },
  {
   "cell_type": "code",
   "execution_count": 7,
   "id": "79cc18ce",
   "metadata": {},
   "outputs": [
    {
     "name": "stdout",
     "output_type": "stream",
     "text": [
      "9\n",
      "1 2 3 4 5 6 7 8 9\n",
      "32 33 34 35 36 37 38 39 10\n",
      "31 56 57 58 59 60 61 40 11\n",
      "30 55 72 73 74 75 62 41 12\n",
      "29 54 71 80 81 76 63 42 13\n",
      "28 53 70 79 78 77 64 43 14\n",
      "27 52 69 68 67 66 65 44 15\n",
      "26 51 50 49 48 47 46 45 16\n",
      "25 24 23 22 21 20 19 18 17\n"
     ]
    }
   ],
   "source": [
    "num = int(input())\n",
    "matrix = [[0] * num for i in range(num)]\n",
    "column, row = 0, 0\n",
    "for count in range(1, num * num + 1):\n",
    "    matrix[column][row] = count\n",
    "    if count >= num * num:\n",
    "        break\n",
    "    if column <= row + 1 and column + row < num - 1:\n",
    "        row += 1\n",
    "    elif column < row and column + row >= num - 1:\n",
    "        column += 1\n",
    "    elif column >= row and column + row > num - 1:\n",
    "        row -= 1\n",
    "    elif column > row + 1 and column + row <= num - 1:\n",
    "        column -= 1\n",
    "for rows in range(num):\n",
    "    print(*matrix[rows])"
   ]
  },
  {
   "cell_type": "code",
   "execution_count": 1,
   "id": "5739a3b0",
   "metadata": {},
   "outputs": [
    {
     "name": "stdout",
     "output_type": "stream",
     "text": [
      "1\n",
      "0\n",
      "False\n",
      "True\n"
     ]
    }
   ],
   "source": [
    "print(int(True))\n",
    "print(int(False))\n",
    "print(bool(0))\n",
    "print(bool(1)) "
   ]
  },
  {
   "cell_type": "code",
   "execution_count": 2,
   "id": "a4ef7990",
   "metadata": {},
   "outputs": [
    {
     "name": "stdout",
     "output_type": "stream",
     "text": [
      "[2, 4, 6]\n"
     ]
    }
   ],
   "source": [
    "l = [1,2,3,4,5,6]\n",
    "list_ = []\n",
    "for i in l:\n",
    "    if i % 2 == 0:\n",
    "        list_.append(i)\n",
    "l = list_\n",
    "print(l)"
   ]
  },
  {
   "cell_type": "code",
   "execution_count": 9,
   "id": "5b270f60",
   "metadata": {},
   "outputs": [
    {
     "name": "stdout",
     "output_type": "stream",
     "text": [
      "0 2 4 6 8 10\n"
     ]
    }
   ],
   "source": [
    "print(*[i for i in range(11) if i % 2 == 0])"
   ]
  },
  {
   "cell_type": "code",
   "execution_count": 10,
   "id": "074394b9",
   "metadata": {},
   "outputs": [
    {
     "name": "stdout",
     "output_type": "stream",
     "text": [
      "{2: [-1]}\n",
      "{2: [-1, -2]}\n",
      "{2: [-1, -2, -3]}\n"
     ]
    }
   ],
   "source": [
    "def update_dictionary(d, key, value):\n",
    "    if key in d.keys():\n",
    "        d[key].append(value)\n",
    "    elif key*2 in d.keys():\n",
    "        d[key*2].append(value)\n",
    "    else:\n",
    "        d.update({key*2: [value]})\n",
    "    return d\n",
    "d = {}    \n",
    "print(update_dictionary(d, 1, -1))\n",
    "print(update_dictionary(d, 2, -2))\n",
    "print(update_dictionary(d, 1, -3))"
   ]
  },
  {
   "cell_type": "code",
   "execution_count": 21,
   "id": "9f4e246f",
   "metadata": {},
   "outputs": [
    {
     "name": "stdout",
     "output_type": "stream",
     "text": [
      "[['a', 2], ['aa', 2], ['abc', 2], ['ac', 1], ['bcd', 1]]\n"
     ]
    }
   ],
   "source": [
    "def count(dic):\n",
    "    d = {}\n",
    "    a = dic.lower().split()\n",
    "    for i in a:\n",
    "        d[i] = d.get(i, 0) + 1\n",
    "    return [[i, x] for i, x in d.items()]\n",
    "    \n",
    "    \n",
    "    \n",
    "\n",
    "\n",
    "\n",
    "print(count(\"a aa abC aa ac abc bcd a\"))"
   ]
  },
  {
   "cell_type": "code",
   "execution_count": 5,
   "id": "2c611523",
   "metadata": {},
   "outputs": [
    {
     "name": "stdout",
     "output_type": "stream",
     "text": [
      "a aa abC aa ac abc bcd a\n",
      "a 2\n",
      "aa 2\n",
      "abc 2\n",
      "ac 1\n",
      "bcd 1\n"
     ]
    }
   ],
   "source": [
    "a, d = input().lower().split(), {}\n",
    "for i in a: \n",
    "    d[i] = d.get(i, 0) + 1\n",
    "for i, y in d.items():\n",
    "    print(i, y)"
   ]
  },
  {
   "cell_type": "code",
   "execution_count": 22,
   "id": "c5395e8f",
   "metadata": {},
   "outputs": [
    {
     "name": "stdout",
     "output_type": "stream",
     "text": [
      "Collecting big-O\n",
      "  Downloading big_O-0.10.2.tar.gz (10 kB)\n",
      "Requirement already satisfied: numpy in c:\\users\\muham\\anaconda3\\lib\\site-packages (from big-O) (1.21.5)\n",
      "Building wheels for collected packages: big-O\n",
      "  Building wheel for big-O (setup.py): started\n",
      "  Building wheel for big-O (setup.py): finished with status 'done'\n",
      "  Created wheel for big-O: filename=big_O-0.10.2-py3-none-any.whl size=10035 sha256=a58e0c9e0f45c05d0cc649b5d0a49a77339688a0c9490dd8b068a73646c2cbe8\n",
      "  Stored in directory: c:\\users\\muham\\appdata\\local\\pip\\cache\\wheels\\86\\bc\\39\\0ebdf749f03619abef0865a3fa81d05cabbf9a71dc2ddb6932\n",
      "Successfully built big-O\n",
      "Installing collected packages: big-O\n",
      "Successfully installed big-O-0.10.2\n"
     ]
    }
   ],
   "source": [
    "!pip install big-O"
   ]
  },
  {
   "cell_type": "code",
   "execution_count": 23,
   "id": "8adc2162",
   "metadata": {},
   "outputs": [
    {
     "name": "stdout",
     "output_type": "stream",
     "text": [
      "Constant: time = 2.3E-05 (sec)\n"
     ]
    }
   ],
   "source": [
    "import big_o\n",
    "#Generating random test strings of length 100\n",
    "sample_strings = lambda n: big_o.datagen.strings(100)\n",
    "#my logic to find the first non-repetitive character in the string\n",
    "def non_repetitive(sample_string):\n",
    "    string_list = list(sample_string)\n",
    "    non_repetitive_char = next((ele for ele in string_list if string_list.count(ele)==1),None)\n",
    "    return non_repetitive_char\n",
    "#Calculating the Time complexity\n",
    "best, others = big_o.big_o(non_repetitive, sample_strings,n_measures=20)\n",
    "print(best)"
   ]
  },
  {
   "cell_type": "code",
   "execution_count": 2,
   "id": "3ac8ff7a",
   "metadata": {},
   "outputs": [
    {
     "name": "stdout",
     "output_type": "stream",
     "text": [
      "dict_items([('a', 2), ('aa', 2), ('abc', 2), ('ac', 1), ('bcd', 1)])\n",
      "speed:0.0\n"
     ]
    }
   ],
   "source": [
    "import time\n",
    "def count(dic):\n",
    "    d = {}\n",
    "    a = dic.lower().split()\n",
    "    for i in a:\n",
    "        d[i] = d.get(i, 0) + 1\n",
    "    return d.items()\n",
    "    \n",
    "    \n",
    "rec = time.time()    \n",
    "print(count(\"a aa abC aa ac abc bcd a\"))\n",
    "print(\"speed:\" + str(time.time()-rec))"
   ]
  },
  {
   "cell_type": "code",
   "execution_count": 3,
   "id": "557a6941",
   "metadata": {},
   "outputs": [
    {
     "name": "stdout",
     "output_type": "stream",
     "text": [
      "a 2\n",
      "aa 2\n",
      "abc 2\n",
      "ac 1\n",
      "bcd 1\n",
      "None\n",
      "speed:0.0004487037658691406\n"
     ]
    }
   ],
   "source": [
    "import time\n",
    "def count(dic):\n",
    "    d = {}\n",
    "    a = dic.lower().split()\n",
    "    for key in a:\n",
    "        value = a.count(key)\n",
    "        d.update({key: [value]})\n",
    "    for i, y in d.items():\n",
    "        print(i, *y)\n",
    "\n",
    "rec = time.time()    \n",
    "print(count(\"a aa abC aa ac abc bcd a\"))\n",
    "print(\"speed:\" + str(time.time()-rec))"
   ]
  },
  {
   "cell_type": "code",
   "execution_count": 13,
   "id": "5e915b84",
   "metadata": {},
   "outputs": [
    {
     "ename": "IndentationError",
     "evalue": "unindent does not match any outer indentation level (<tokenize>, line 16)",
     "output_type": "error",
     "traceback": [
      "\u001b[1;36m  File \u001b[1;32m<tokenize>:16\u001b[1;36m\u001b[0m\n\u001b[1;33m    decrypted += (char * int(multiplier))\u001b[0m\n\u001b[1;37m    ^\u001b[0m\n\u001b[1;31mIndentationError\u001b[0m\u001b[1;31m:\u001b[0m unindent does not match any outer indentation level\n"
     ]
    }
   ],
   "source": [
    "digits = set('0123456789')\n",
    "i = 0\n",
    "multiplier = ''\n",
    "decrypted = ''\n",
    "with open(\"C:\\Users\\muham\\Downloads\\dataset_3363_2 (6)\") as in_f_obj:\n",
    "    string = in_f_obj.readline().strip()\t\n",
    "char = string[i]\n",
    "i += 1\n",
    "while i < len(string):    \n",
    "    while string[i] in digits:\n",
    "\t\tmultiplier += string[i]\n",
    "\t\ti += 1\n",
    "\t\tif i > (len(string) - 1):\n",
    "\t\t\tbreak\n",
    "\t# print(char * int(multiplier), end='')\n",
    "\tdecrypted += (char * int(multiplier))\n",
    "\tmultiplier = '' \n",
    "\tif i > (len(string) - 1):\n",
    "\t\t\tbreak\n",
    "\tchar = string[i]\n",
    "\ti += 1\t\n",
    "with open(\"C:\\Users\\muham\\Downloads\\dataset_3363_2 (3)\", 'w') as out_f_obj:\n",
    "\tout_f_obj.write(decrypted)"
   ]
  },
  {
   "cell_type": "code",
   "execution_count": 11,
   "id": "86bbb294",
   "metadata": {},
   "outputs": [
    {
     "name": "stdout",
     "output_type": "stream",
     "text": [
      "L3o18S1z17Q8p20A15o5q18A14S3L5t1B9u2V20e17f1A10E9e3g10Z14J10z4y12T4m8A5X2I12k17V19y2x8B19G6S4n15P14N2C3t6J2q18w11H6\n",
      "LLLooooooooooooooooooSzzzzzzzzzzzzzzzzzQQQQQQQQppppppppppppppppppppAAAAAAAAAAAAAAAoooooqqqqqqqqqqqqqqqqqqAAAAAAAAAAAAAASSSLLLLLtBBBBBBBBBuuVVVVVVVVVVVVVVVVVVVVeeeeeeeeeeeeeeeeefAAAAAAAAAAEEEEEEEEEeeeggggggggggZZZZZZZZZZZZZZJJJJJJJJJJzzzzyyyyyyyyyyyyTTTTmmmmmmmmAAAAAXXIIIIIIIIIIIIkkkkkkkkkkkkkkkkkVVVVVVVVVVVVVVVVVVVyyxxxxxxxxBBBBBBBBBBBBBBBBBBBGGGGGGSSSSnnnnnnnnnnnnnnnPPPPPPPPPPPPPPNNCCCttttttJJqqqqqqqqqqqqqqqqqqwwwwwwwwwwwHHHHHH"
     ]
    }
   ],
   "source": [
    "digits = set('0123456789')\n",
    "i = 0\n",
    "multiplier = ''\n",
    "decrypted = ''\n",
    "string = input()\n",
    "char = string[i]\n",
    "i += 1\n",
    "while i < len(string):    \n",
    "\twhile string[i] in digits:\n",
    "\t\tmultiplier += string[i]\n",
    "\t\ti += 1\n",
    "\t\tif i > (len(string) - 1):\n",
    "\t\t\tbreak\n",
    "\tprint(char * int(multiplier), end='')\n",
    "\tdecrypted += (char * int(multiplier))\n",
    "\tmultiplier = '' \n",
    "\tif i > (len(string) - 1):\n",
    "\t\t\tbreak\n",
    "\tchar = string[i]\n",
    "\ti += 1"
   ]
  },
  {
   "cell_type": "code",
   "execution_count": null,
   "id": "1033a2a0",
   "metadata": {},
   "outputs": [],
   "source": [
    "max(d, key=d.get)"
   ]
  },
  {
   "cell_type": "code",
   "execution_count": 1,
   "id": "03832e84",
   "metadata": {},
   "outputs": [
    {
     "name": "stdout",
     "output_type": "stream",
     "text": [
      "a b Z cbYpUT bdcb TXc TXc a c pZbp X YYbZUYXap UpZ aXc aYppbXpp b UYYcc TUa cc Z cdZdYaabd X X ac cbpZp UU XUdUZ paX UYYcc pTbTUX b UYabp bdcb bcXaXYa bcZZb cdbdTUbU XYbccaXd TXc X TpZTpUaT Y T XUpT T cdcYZTYa ZdUUaaT ZdUUaaT UZ UZ UZ pbYcZYc XpTbbdbcb T XX dZYdbZZZ pZcYb dZYdbZZZ cXcTYTp c Y XpTbbdbcb dbTT ZX bcT pZcYb XabbZ dcbT aTYppc YTbc YTbc ZZbd ccpbZpTZb XabbZ XbTUp ap cUc bbbUTdZZb TXUTcb pYaTTapcX TXUTcb baXbbU YdcZp c TpUXbbdZU YTbc XabbZ c XabbZ ccpbZpTZb cUc ZZbd ap cdacY dcbT ccaYaaap UUpdYbc a aYTaZpa Y bc dZb bc bYbbdUca YdcZp YTbc bYbbdUca YdcZp dYbad adYca UUZ aa pY cXdcYXTYT cbcY dYbad cdTbTZcbd YTTap pTbY adYca adXYXd TdYc adYca paaUUZTb dcp bbppdZUc cpZcdcp TXccbccc bZcYdYYU ZcaadUX dZcXdpacp ZcaadUX bZcYdYYU aZcbUZZa TbaY cpZcdcp cYXYXb XUcpb Zbaap dYZT dYZT dYZT Tbbpb cpZcdcp ZcaadUX dYZT UTpa pXa ZcpddcdXb dZp bTcY ZbbUZpd pcXZ ZcaadUX TbaY bdpTppUYZ aTca daTUYdUZY Yd ap caZUY XbZZbZ XcUdbdpXp Ubc Yd caTUZpU Yd XcUdbdpXp XbpZYUcZT pZpTYcX caZUY ZYd aacZUd paYU pa XZYXUdaU ZbbXUU XZYXUdaU bbdZdYbU bpcTTdZbT pccd Ubc apb aXbXUdc apb X bUbd UbXXZ aUapX ZbcaXYdZ ZbcaXYdZ Yd addZZp bYZaUcYb aXbXUdc a Ubc ppddTTdXc caZUY pZZXTTZYY Tb dYZXXcd pbUcYYUZc TadZYpYTU Tb bpcTTdZbT XdpTYdap papUaa UcbcXa cbXaXZdXc bZaaTc YpUX dcpcZYT bTpY TXY XdXaXTXU pZ YbcacYaTa c ccc ZXpc dcUc Z UpU cbpZUa cUaZXZ bYa UTUT dbUpUTdUT pZZadX UTYdcXUaT apbb caYdTUZY caYdTUZY ZUaU Xcdd Xcdd pTUYTTU pTUYTTU XYpadb YdpapYTcd pTUYTTU pXUcb pTUYTTU ZdXcYdTXY Xcdd cXZdp XcUb XTXXYcpT XcbXY Xcdd bdpYaY UbUTccU YUccUba dd XpZTTcdbZ pTUYTTU YUccUba aUpbbbadY cUZ Z Uac aUUYaTZ aZpc YTXXpcTZX dXYdpYp dXYdpYp bdT bdT daaTZ YXccc baT YTXXpcTZX XTXX dYZ d pYdXT XbUYdTbYX XTYTYUTc XTYTYUTc YTp p Xab d ZXTUbbUaZ YdTXc ZU daaTZ ZZdUXTT dcbp dYcbUbpc bdT pYpZbba aXXUdd pYpZbba baT XYU YpababU b dYZ YcZYd cdZZp ZZb ZZ b cXcXd XTXX TpYpZp daaTZ ZaTbYTUpc ZaTbYTUpc Z dccYXbTa ZaTbYTUpc ZaTbYTUpc bZZpca bZZpca bbpXcdY TcTaZ ZaTbYTUpc bZZpca ZaTbYTUpc ZaTbYTUpc ZaTbYTUpc aZaaUdpXc bUppUdap XYTc ZaTbYTUpc dZcp ZaTbYTUpc ZaTbYTUpc dZaZaUUc pc aZaaUdpXc abcaTZZ bZTbp YT dYcZYXUb ppZUU pTTad TX pc YpdbUTX ZdaT pTXXbT Z cYXdT YXTdbdc bcXdYaZZ XcZTdcXd c aYbYT XUabX c ppcUbU bXdbUcTb XUabX XUabX XUabX aYbYT U XUabX accYYXZdd aUacXadcZ c bUXZbZZT XUabX ZZZddTUd\n",
      "zatbytupc 11\n"
     ]
    }
   ],
   "source": [
    "inputs = input().lower().strip().split()\n",
    "d = {}\n",
    "for i in inputs:\n",
    "    d[i] = d.get(i, 0) + 1\n",
    "res = max(d, key=d.get)\n",
    "print(res, d[res])"
   ]
  },
  {
   "cell_type": "code",
   "execution_count": 23,
   "id": "e27a1e2d",
   "metadata": {},
   "outputs": [
    {
     "name": "stdout",
     "output_type": "stream",
     "text": [
      "Петров;85;92;78 Сидоров;100;88;94 Иванов;58;72;85\n",
      "85.0\n",
      "94.0\n",
      "71.66666666666667\n",
      "81.0 84.0 85.66666666666667\n"
     ]
    }
   ],
   "source": [
    "[[].append(i.split(';')) for i in input().split()]\n",
    "[print((int(math) + int(phis) + int(russ)) / 3) for surname, math, phis, russ in lst]\n",
    "print(sum([int(math) for surname, math, phis, russ in lst]) / len(lst), sum([int(phis) for surname, math, phis, russ in lst]) / len(lst), sum([int(russ) for surname, math, phis, russ in lst]) / len(lst))"
   ]
  },
  {
   "cell_type": "code",
   "execution_count": 18,
   "id": "6f757ebc",
   "metadata": {
    "scrolled": false
   },
   "outputs": [
    {
     "name": "stdout",
     "output_type": "stream",
     "text": [
      "Smith;46;100;51 Salomon;82;66;49 Brooks;46;56;31 Adrian;100;31;77 Benson;74;86;88 Larkins;92;27;59 Forman;66;48;30 Stephen;98;54;66 Carroll;62;51;42 Mansfield;83;26;70 Oakman;33;59;93 Keat;73;95;61 Carter;34;26;87 Goodman;66;30;89 Simpson;75;100;39 Taft;50;94;56 WifKinson;46;52;70 Bradberry;57;93;38 Miller;82;34;76 Addington;24;67;73 Parson;32;91;82 Oliver;61;33;82 Hardman;98;32;95 Adderiy;27;40;25 Jacobson;83;83;35 Day;41;99;94 Walter;81;54;41 Ward;30;34;31 Conors;30;56;58 Pearcy;61;30;99 Harrison;76;64;98 Gilbert;85;93;34 Abramson;91;100;64 Hamphrey;76;59;41 Babcock;30;70;40 Oldman;73;88;45 Pass;60;49;42 Birch;60;45;88 Evans;46;63;35 Erickson;44;80;97 Dunce;99;47;99 Elmers;79;37;61 Cook;50;65;31 Gerald;85;88;27 Owen;74;60;44 Kennett;98;62;25 Gilmore;43;91;77 Miln;47;90;81 Bawerman;53;55;62 Fleming;38;89;38 Taylor;52;92;33 Eddington;62;32;50 Oldridge;47;62;26 Page;29;94;33 Mathews;93;36;53 Bootman;70;40;35 Quincy;30;90;56 Barnes;82;62;82 Clapton;67;70;47 Young;30;93;39 Peterson;57;99;75 Boolman;58;83;55 Hancock;99;95;95 Daniels;83;81;66 MacDonald;34;29;59 Arnold;31;51;26 Derrick;37;76;40 Murphy;38;33;52 Freeman;33;59;64 Dodson;71;97;28 Stevenson;31;56;64 Galbraith;89;43;61 Kirk;29;65;64 Chandter;25;78;37 Jones;68;69;69 Nevill;85;45;38 Blomfield;25;27;80 Holmes;65;35;70 Carrington;68;72;34 Hoggarth;74;69;46 Jenkin;33;42;38 Dowman;36;89;99 Croftoon;97;72;39 Jerome;95;25;51 Wainwright;31;59;67 Coleman;33;59;63 Gill;42;38;86 Bosworth;60;35;44 Crossman;88;81;97 Fisher;69;71;69 Arthurs;52;80;95 Anderson;95;25;88 James;97;90;85 Francis;50;72;87 Longman;26;82;28 Fraser;97;93;56 Andrews;40;94;50 Garrison;77;68;29 Michaelson;68;73;82 Ellington;83;68;28 Turner;62;85;58 Neal;75;75;31 Howard;99;89;88 Creighton;50;65;52 Chapman;63;95;68 Donovan;30;55;26 Gilson;81;47;28 MacAlister;97;58;72 MacAdam;54;54;65 Ralphs;24;54;82 Thornton;58;64;90 Lawman;93;81;40 Carey;49;97;48 Richards;34;74;40 Chesterton;59;95;99 Dean;36;94;28 Faber;41;83;34 Hodges;74;55;90 Brickman;87;25;24 Ferguson;51;32;84 Reynolds;64;82;40 Dutton;97;88;78 Samuels;82;81;88 Webster;41;25;75 White;29;80;51 Gustman;57;40;48 Barrington;79;24;87 Aldridge;45;66;63 Wesley;58;38;89 Parkinson;29;30;74 Peacock;90;30;36 Dyson;91;78;27 Holiday;85;81;29 Brown;24;67;51 Charlson;90;64;72 Leman;40;27;66 Sykes;82;42;40 Black;86;43;73 Davidson;85;47;99 Fitzgerald;32;90;39 Ogden;24;56;39 Wallace;86;47;34 Becker;58;85;100 Kingsman;27;75;36 Clifford;65;84;51 Stanley;45;36;88 Gardner;59;82;68 Donaldson;34;75;34 Youmans;73;73;50 Fane;37;91;26 Farmer;70;52;41 Austin;77;76;95 Wood;32;95;60 Gimson;41;88;25 Morrison;27;74;36 Tracey;91;94;25 Macduff;27;65;75 Sheldon;71;65;44 Sherlock;56;51;58 Campbell;43;82;43 Flannagan;65;77;25 Roger;34;45;84 Gibbs;98;55;51 Farrell;98;75;74 Shorter;30;36;65 Otis;41;29;60 Kennedy;84;43;66\n",
      "65.66666666666667\n",
      "65.66666666666667\n",
      "44.333333333333336\n",
      "69.33333333333333\n",
      "82.66666666666667\n",
      "59.333333333333336\n",
      "48.0\n",
      "72.66666666666667\n",
      "51.666666666666664\n",
      "59.666666666666664\n",
      "61.666666666666664\n",
      "76.33333333333333\n",
      "49.0\n",
      "61.666666666666664\n",
      "71.33333333333333\n",
      "66.66666666666667\n",
      "56.0\n",
      "62.666666666666664\n",
      "64.0\n",
      "54.666666666666664\n",
      "68.33333333333333\n",
      "58.666666666666664\n",
      "75.0\n",
      "30.666666666666668\n",
      "67.0\n",
      "78.0\n",
      "58.666666666666664\n",
      "31.666666666666668\n",
      "48.0\n",
      "63.333333333333336\n",
      "79.33333333333333\n",
      "70.66666666666667\n",
      "85.0\n",
      "58.666666666666664\n",
      "46.666666666666664\n",
      "68.66666666666667\n",
      "50.333333333333336\n",
      "64.33333333333333\n",
      "48.0\n",
      "73.66666666666667\n",
      "81.66666666666667\n",
      "59.0\n",
      "48.666666666666664\n",
      "66.66666666666667\n",
      "59.333333333333336\n",
      "61.666666666666664\n",
      "70.33333333333333\n",
      "72.66666666666667\n",
      "56.666666666666664\n",
      "55.0\n",
      "59.0\n",
      "48.0\n",
      "45.0\n",
      "52.0\n",
      "60.666666666666664\n",
      "48.333333333333336\n",
      "58.666666666666664\n",
      "75.33333333333333\n",
      "61.333333333333336\n",
      "54.0\n",
      "77.0\n",
      "65.33333333333333\n",
      "96.33333333333333\n",
      "76.66666666666667\n",
      "40.666666666666664\n",
      "36.0\n",
      "51.0\n",
      "41.0\n",
      "52.0\n",
      "65.33333333333333\n",
      "50.333333333333336\n",
      "64.33333333333333\n",
      "52.666666666666664\n",
      "46.666666666666664\n",
      "68.66666666666667\n",
      "56.0\n",
      "44.0\n",
      "56.666666666666664\n",
      "58.0\n",
      "63.0\n",
      "37.666666666666664\n",
      "74.66666666666667\n",
      "69.33333333333333\n",
      "57.0\n",
      "52.333333333333336\n",
      "51.666666666666664\n",
      "55.333333333333336\n",
      "46.333333333333336\n",
      "88.66666666666667\n",
      "69.66666666666667\n",
      "75.66666666666667\n",
      "69.33333333333333\n",
      "90.66666666666667\n",
      "69.66666666666667\n",
      "45.333333333333336\n",
      "82.0\n",
      "61.333333333333336\n",
      "58.0\n",
      "74.33333333333333\n",
      "59.666666666666664\n",
      "68.33333333333333\n",
      "60.333333333333336\n",
      "92.0\n",
      "55.666666666666664\n",
      "75.33333333333333\n",
      "37.0\n",
      "52.0\n",
      "75.66666666666667\n",
      "57.666666666666664\n",
      "53.333333333333336\n",
      "70.66666666666667\n",
      "71.33333333333333\n",
      "64.66666666666667\n",
      "49.333333333333336\n",
      "84.33333333333333\n",
      "52.666666666666664\n",
      "52.666666666666664\n",
      "73.0\n",
      "45.333333333333336\n",
      "55.666666666666664\n",
      "62.0\n",
      "87.66666666666667\n",
      "83.66666666666667\n",
      "47.0\n",
      "53.333333333333336\n",
      "48.333333333333336\n",
      "63.333333333333336\n",
      "58.0\n",
      "61.666666666666664\n",
      "44.333333333333336\n",
      "52.0\n",
      "65.33333333333333\n",
      "65.0\n",
      "47.333333333333336\n",
      "75.33333333333333\n",
      "44.333333333333336\n",
      "54.666666666666664\n",
      "67.33333333333333\n",
      "77.0\n",
      "53.666666666666664\n",
      "39.666666666666664\n",
      "55.666666666666664\n",
      "81.0\n",
      "46.0\n",
      "66.66666666666667\n",
      "56.333333333333336\n",
      "69.66666666666667\n",
      "47.666666666666664\n",
      "65.33333333333333\n",
      "51.333333333333336\n",
      "54.333333333333336\n",
      "82.66666666666667\n",
      "62.333333333333336\n",
      "51.333333333333336\n",
      "45.666666666666664\n",
      "70.0\n",
      "55.666666666666664\n",
      "60.0\n",
      "55.0\n",
      "56.0\n",
      "55.666666666666664\n",
      "54.333333333333336\n",
      "68.0\n",
      "82.33333333333333\n",
      "43.666666666666664\n",
      "43.333333333333336\n",
      "64.33333333333333\n",
      "60.2814371257485 64.05389221556887 58.07784431137725\n"
     ]
    }
   ],
   "source": [
    "lst = []\n",
    "inputs = input().split()\n",
    "for i in inputs:\n",
    "    lst.append(i.split(';'))\n",
    "middle = 0\n",
    "for l in lst:\n",
    "    middle = (int(l[1]) + int(l[2]) + int(l[3])) / 3\n",
    "    print(middle)\n",
    "math = 0\n",
    "phis = 0\n",
    "russ = 0\n",
    "for s in lst:\n",
    "    math += int(s[1])\n",
    "    phis += int(s[2])\n",
    "    russ += int(s[3])\n",
    "math /= len(lst)\n",
    "phis /= len(lst)\n",
    "russ /= len(lst)\n",
    "print(math, phis, russ)"
   ]
  },
  {
   "cell_type": "code",
   "execution_count": 7,
   "id": "eaab083f",
   "metadata": {},
   "outputs": [
    {
     "ename": "FileNotFoundError",
     "evalue": "[Errno 2] No such file or directory: 'C:\\\\Users\\\\muham\\\\Downloads\\\\dataset_3363_4(1)'",
     "output_type": "error",
     "traceback": [
      "\u001b[1;31m---------------------------------------------------------------------------\u001b[0m",
      "\u001b[1;31mFileNotFoundError\u001b[0m                         Traceback (most recent call last)",
      "Input \u001b[1;32mIn [7]\u001b[0m, in \u001b[0;36m<cell line: 1>\u001b[1;34m()\u001b[0m\n\u001b[1;32m----> 1\u001b[0m \u001b[38;5;28;01mwith\u001b[39;00m \u001b[38;5;28;43mopen\u001b[39;49m\u001b[43m(\u001b[49m\u001b[38;5;124;43m\"\u001b[39;49m\u001b[38;5;124;43mC:\u001b[39;49m\u001b[38;5;130;43;01m\\\\\u001b[39;49;00m\u001b[38;5;124;43mUsers\u001b[39;49m\u001b[38;5;130;43;01m\\\\\u001b[39;49;00m\u001b[38;5;124;43mmuham\u001b[39;49m\u001b[38;5;130;43;01m\\\\\u001b[39;49;00m\u001b[38;5;124;43mDownloads\u001b[39;49m\u001b[38;5;130;43;01m\\\\\u001b[39;49;00m\u001b[38;5;124;43mdataset_3363_4(1)\u001b[39;49m\u001b[38;5;124;43m\"\u001b[39;49m\u001b[43m)\u001b[49m \u001b[38;5;28;01mas\u001b[39;00m inputs:\n\u001b[0;32m      2\u001b[0m     string \u001b[38;5;241m=\u001b[39m inputs\u001b[38;5;241m.\u001b[39mreadline()\u001b[38;5;241m.\u001b[39mstrip()\n\u001b[0;32m      4\u001b[0m lst \u001b[38;5;241m=\u001b[39m []\n",
      "\u001b[1;31mFileNotFoundError\u001b[0m: [Errno 2] No such file or directory: 'C:\\\\Users\\\\muham\\\\Downloads\\\\dataset_3363_4(1)'"
     ]
    }
   ],
   "source": [
    "with open(\"C:\\\\Users\\\\muham\\\\Downloads\\\\dataset_3363_4 (1)\") as inputs:\n",
    "    string = inputs.readline().strip()\n",
    "    \n",
    "lst = []\n",
    "for i in inputs:\n",
    "   lst.append(i.split(';'))\n",
    "middle = 0\n",
    "for l in lst:\n",
    "   middle = (int(l[1]) + int(l[2]) + int(l[3])) / 3\n",
    "   print(middle)\n",
    "math = 0\n",
    "phis = 0\n",
    "russ = 0\n",
    "for s in lst:\n",
    "   math += int(s[1])\n",
    "   phis += int(s[2])\n",
    "   russ += int(s[3])\n",
    "math /= len(lst)\n",
    "phis /= len(lst)\n",
    "russ /= len(lst)\n",
    "#print(math, phis, russ)\n",
    "\n",
    "with open(\"C:\\\\Users\\\\muham\\\\Downloads\\\\dataset_3363_2\", 'w') as outputs:\n",
    "    outputs.write(math, phis, russ)"
   ]
  },
  {
   "cell_type": "code",
   "execution_count": 22,
   "id": "1c36e419",
   "metadata": {},
   "outputs": [
    {
     "name": "stdout",
     "output_type": "stream",
     "text": [
      "Петров;85;92;78 Сидоров;100;88;94 Иванов;58;72;85\n",
      "85.0\n",
      "94.0\n",
      "71.66666666666667\n",
      "81.0 84.0 85.66666666666667\n"
     ]
    }
   ],
   "source": [
    "inputs, lst = input().split(), []\n",
    "[lst.append(i.split(';')) for i in inputs]\n",
    "[print((int(math) + int(phis) + int(russ)) / 3) for surname, math, phis, russ in lst]\n",
    "print(sum([int(math) for surname, math, phis, russ in lst]) / len(lst), sum([int(phis) for surname, math, phis, russ in lst]) / len(lst), sum([int(russ) for surname, math, phis, russ in lst]) / len(lst))"
   ]
  },
  {
   "cell_type": "code",
   "execution_count": 17,
   "id": "014cb635",
   "metadata": {},
   "outputs": [
    {
     "name": "stdout",
     "output_type": "stream",
     "text": [
      "242\n"
     ]
    }
   ],
   "source": [
    "import requests\n",
    "r = requests.get(\"https://stepic.org/media/attachments/course67/3.6.2/050.txt \".strip())\n",
    "print(len(r.text.splitlines()))"
   ]
  },
  {
   "cell_type": "code",
   "execution_count": 21,
   "id": "b8499ddd",
   "metadata": {},
   "outputs": [
    {
     "name": "stdout",
     "output_type": "stream",
     "text": [
      "113\n"
     ]
    }
   ],
   "source": [
    "import requests\n",
    "with open(\"C:\\\\Users\\\\muham\\\\Downloads\\\\dataset_3378_2.txt\") as inf:\n",
    "    r = requests.get(inf.readline().strip())\n",
    "    print(len(r.text.splitlines()))"
   ]
  },
  {
   "cell_type": "code",
   "execution_count": 28,
   "id": "f12f05a5",
   "metadata": {},
   "outputs": [
    {
     "name": "stdout",
     "output_type": "stream",
     "text": [
      "251\n"
     ]
    }
   ],
   "source": [
    "import requests\n",
    "with open(\"C:\\\\Users\\\\muham\\\\Downloads\\\\dataset_3378_2 (2).txt\") as info:\n",
    "    r = requests.get(info.readline().strip())\n",
    "    print(len(r.text.splitlines()))"
   ]
  },
  {
   "cell_type": "code",
   "execution_count": null,
   "id": "5f81b170",
   "metadata": {},
   "outputs": [],
   "source": [
    "from requests import get\n",
    "with open('dataset.txt') as f:\n",
    "    url = f.readline().strip()\n",
    "text = get(url).text.splitlines()\n",
    "print(len(text))"
   ]
  },
  {
   "cell_type": "code",
   "execution_count": null,
   "id": "90bf6de4",
   "metadata": {},
   "outputs": [],
   "source": [
    "import requests\n",
    "print(len(requests.get(open('dataset.txt').readline().strip()).text.splitlines()))"
   ]
  },
  {
   "cell_type": "code",
   "execution_count": null,
   "id": "0327e23a",
   "metadata": {},
   "outputs": [],
   "source": [
    "import requests\n",
    "print(requests.get(open('xxx.txt').readline().strip()).text.count('\\n'))"
   ]
  },
  {
   "cell_type": "code",
   "execution_count": 9,
   "id": "8be3bf7b",
   "metadata": {},
   "outputs": [
    {
     "name": "stdout",
     "output_type": "stream",
     "text": [
      "We are the champions, my friends,\n",
      "And we'll keep on fighting 'til the end.\n",
      "We are the champions.\n",
      "We are the champions.\n",
      "No time for losers\n",
      "'Cause we are the champions of the world.\n"
     ]
    }
   ],
   "source": [
    "import requests\n",
    "r = requests.get(\"https://stepic.org/media/attachments/course67/3.6.3/699991.txt \".strip())\n",
    "\n",
    "while not r.text.startswith('We'):\n",
    "    r = requests.get('https://stepic.org/media/attachments/course67/3.6.3/' + r.text)\n",
    "print(r.text)"
   ]
  },
  {
   "cell_type": "code",
   "execution_count": 10,
   "id": "37f3e779",
   "metadata": {},
   "outputs": [
    {
     "name": "stdout",
     "output_type": "stream",
     "text": [
      "We are the champions, my friends,\n",
      "And we'll keep on fighting 'til the end.\n",
      "We are the champions.\n",
      "We are the champions.\n",
      "No time for losers\n",
      "'Cause we are the champions of the world.\n"
     ]
    }
   ],
   "source": [
    "import requests\n",
    "r = requests.get('https://stepic.org/media/attachments/course67/3.6.3/699991.txt')\n",
    "\n",
    "while True:\n",
    "    if not r.text.startswith('We'):\n",
    "        r = requests.get('https://stepic.org/media/attachments/course67/3.6.3/' + r.text)\n",
    "        continue \n",
    "    else:\n",
    "        print(r.text)\n",
    "        break"
   ]
  },
  {
   "cell_type": "code",
   "execution_count": 1,
   "id": "624c26e6",
   "metadata": {},
   "outputs": [
    {
     "name": "stdout",
     "output_type": "stream",
     "text": [
      "abcd\n",
      "*d%#\n",
      "abacabadaba\n",
      "#*%*d*%\n",
      "*d*%*d*#*d*\n",
      "dacabac\n"
     ]
    }
   ],
   "source": [
    "x, y, a, b = [input() for i in range(4)]\n",
    "d = {key: value for key, value in zip(x, y)}\n",
    "lst = []\n",
    "for key in a:\n",
    "    lst.append(d[key])\n",
    "print(\"\".join(lst))\n",
    "lst = []\n",
    "for value in b:\n",
    "    for keys, values in d.items():\n",
    "        if value == values:\n",
    "            lst.append(keys)\n",
    "print(\"\".join(lst))"
   ]
  },
  {
   "cell_type": "code",
   "execution_count": null,
   "id": "3f597fab",
   "metadata": {},
   "outputs": [],
   "source": [
    "x, y, a, b = [input() for i in range(4)]\n",
    "d = {key:value for key,value in zip(x,y)}\n",
    "for key in a:\n",
    "     print(d[key], end='')\n",
    "print()\n",
    "for value in b:\n",
    "    for keys, values in d.items():\n",
    "        if value == values:\n",
    "            print(keys, end='')"
   ]
  },
  {
   "cell_type": "code",
   "execution_count": null,
   "id": "d7f1de7b",
   "metadata": {},
   "outputs": [],
   "source": [
    "a,b,c,d=input(),input(),input(),input()\n",
    "print(''.join(b[a.index(i)] for i in c))\n",
    "print(''.join(a[b.index(i)] for i in d))"
   ]
  },
  {
   "cell_type": "code",
   "execution_count": null,
   "id": "8b30b99f",
   "metadata": {},
   "outputs": [],
   "source": [
    "x, y, xy, yx = (input() for i in range(4))\n",
    "for a in xy:\n",
    "    print(y[x.find(a)], end='')\n",
    "print()\n",
    "for a in yx:\n",
    "    print(x[y.find(a)], end='')"
   ]
  },
  {
   "cell_type": "code",
   "execution_count": null,
   "id": "7d88de59",
   "metadata": {},
   "outputs": [],
   "source": [
    "# Считываем 4 строки в цикле\n",
    "original, coding, first_string, second_string = (input() for i in range(4))\n",
    "\n",
    "# По индексу символа из оригинала берём символ на замену из кодировки,\n",
    "# для каждого символа из строки, которую нужно закодировать\n",
    "print(*[coding[original.find(symbol)] for symbol in first_string], sep='')\n",
    "# Аналогично, только наоборот :D\n",
    "print(*[original[coding.find(symbol)] for symbol in second_string], sep='')"
   ]
  },
  {
   "cell_type": "code",
   "execution_count": 1,
   "id": "fd5a1e89",
   "metadata": {},
   "outputs": [
    {
     "name": "stdout",
     "output_type": "stream",
     "text": [
      "4\n",
      "we\n",
      "are\n",
      "stepik\n",
      "champions\n",
      "3\n",
      "stepic\n",
      "We Are The Champions\n",
      "We are the champignons\n",
      "stepic\n",
      "champignons\n",
      "the\n"
     ]
    }
   ],
   "source": [
    "words = [input().lower() for i in range(int(input()))]\n",
    "check = [input().lower().split() for i in range(int(input()))]\n",
    "set_1, set_2 = set(words), set()\n",
    "for i in check:\n",
    "    set_2.update(i)\n",
    "#res = set_2.difference(set_1)\n",
    "res = set_2 - set_1\n",
    "for output in res:\n",
    "    print(output)"
   ]
  },
  {
   "cell_type": "code",
   "execution_count": null,
   "id": "e0d25ae6",
   "metadata": {},
   "outputs": [],
   "source": [
    "words = set(input().lower() for i in range(int(input())))\n",
    "check = set(('\\n'.join(input().lower() for i in range(int(input())))).split())\n",
    "print('\\n'.join(check - words))"
   ]
  },
  {
   "cell_type": "code",
   "execution_count": 1,
   "id": "2c235834",
   "metadata": {},
   "outputs": [
    {
     "name": "stdout",
     "output_type": "stream",
     "text": [
      "4\n",
      "север 10\n",
      "запад 20\n",
      "юг 30\n",
      "восток 40\n",
      "20 -20 "
     ]
    }
   ],
   "source": [
    "orders, res = [input().split() for i in range(int(input()))], [0, 0]\n",
    "for order in orders:\n",
    "    if order[0] == 'север':\n",
    "        res[1] += int(order[1])\n",
    "    elif order[0] == 'запад':\n",
    "        res[0] -= int(order[1])\n",
    "    elif order[0] == 'юг':\n",
    "        res[1] -= int(order[1])\n",
    "    elif order[0] == 'восток':\n",
    "        res[0] += int(order[1])\n",
    "print(*res)"
   ]
  },
  {
   "cell_type": "code",
   "execution_count": null,
   "id": "8e0b8062",
   "metadata": {},
   "outputs": [],
   "source": [
    "n=int(input())\n",
    "d={'север':0,'запад':0,'юг':0,'восток':0}\n",
    "for i in range(n):\n",
    "    x=input().split()\n",
    "    d[x[0]]+=int(x[1])\n",
    "print(d['восток']-d['запад'], d['север']-d['юг'])"
   ]
  },
  {
   "cell_type": "code",
   "execution_count": null,
   "id": "b567a277",
   "metadata": {},
   "outputs": [],
   "source": [
    "dict = {'север': 0, 'запад': 0, 'юг': 0, 'восток': 0}\n",
    "for _ in range(int(input())):\n",
    "    key, value = input().split()\n",
    "    dict[key] += int(value)\n",
    "print(dict['восток'] - dict['запад'], dict['север'] - dict['юг'])"
   ]
  },
  {
   "cell_type": "code",
   "execution_count": null,
   "id": "614ca3b7",
   "metadata": {},
   "outputs": [],
   "source": [
    "#not finished\n",
    "lst = [input().split() for i in range(int(input()))]\n",
    "d = {}\n",
    "for i in range(len(lst)):\n",
    "    d.update({lst[i][0]: lst[i][1]})\n",
    "    \n",
    "[dict([a, int(x)] for a, x in d.items())]\n",
    "\n",
    "print(d['восток'] - d['запад'], d['север'] - d['юг'], end='')"
   ]
  },
  {
   "cell_type": "code",
   "execution_count": 19,
   "id": "3515c009",
   "metadata": {},
   "outputs": [
    {
     "name": "stdout",
     "output_type": "stream",
     "text": [
      "LAPTOP-7HRV29JF \n",
      "\n",
      "3.9.12 \n",
      "\n",
      "AMD64 \n",
      "\n",
      "Windows \n",
      "\n",
      "Intel64 Family 6 Model 154 Stepping 3, GenuineIntel \n",
      "\n",
      "('main', 'Apr  4 2022 05:22:27') \n",
      "\n",
      "MSC v.1916 64 bit (AMD64) \n",
      "\n",
      " \n",
      "\n",
      "CPython \n",
      "\n",
      " \n",
      "\n",
      "10.0.22000 \n",
      "\n",
      "uname_result(system='Windows', node='LAPTOP-7HRV29JF', release='10', version='10.0.22000', machine='AMD64') \n",
      "\n",
      "10 \n",
      "\n",
      "Windows-10-10.0.22000-SP0 \n",
      "\n"
     ]
    }
   ],
   "source": [
    "import platform\n",
    "\n",
    "print(platform.node(),'\\n') #отобажает имя в сети\n",
    "print(platform.python_version(),'\\n') #версия питона\n",
    "print(platform.machine(),'\\n')  #тип машины\n",
    "print(platform.system(),'\\n')   #имя системы\n",
    "print(platform.processor(),'\\n') #имя процессора - не отображает\n",
    "print(platform.python_build(),'\\n') #номер сборки python и дату создания\n",
    "print(platform.python_compiler(),'\\n') #идентификатор компилятора\n",
    "print(platform.python_branch(),'\\n') #идентификатор SCM реализации python\n",
    "print(platform.python_implementation(),'\\n') #идентификатор реализации python\n",
    "print(platform.python_revision(),'\\n') #версия SCM реализации\n",
    "print(platform.version(),'\\n') #версия python в виде строки 'major.minor.patchlevel'\n",
    "print(platform.uname(),'\\n') #возвращает все вместе system,node,release,version,,machine,processor\n",
    "print(platform.release(),'\\n') #выпуск системы\n",
    "print(platform.platform(),'\\n') #идентификатор базовой платформы"
   ]
  },
  {
   "cell_type": "code",
   "execution_count": 1,
   "id": "66c57d65",
   "metadata": {},
   "outputs": [
    {
     "ename": "IndexError",
     "evalue": "list index out of range",
     "output_type": "error",
     "traceback": [
      "\u001b[1;31m---------------------------------------------------------------------------\u001b[0m",
      "\u001b[1;31mIndexError\u001b[0m                                Traceback (most recent call last)",
      "Input \u001b[1;32mIn [1]\u001b[0m, in \u001b[0;36m<cell line: 6>\u001b[1;34m()\u001b[0m\n\u001b[0;32m      5\u001b[0m w \u001b[38;5;241m=\u001b[39m {key: \u001b[38;5;241m0\u001b[39m \u001b[38;5;28;01mfor\u001b[39;00m key \u001b[38;5;129;01min\u001b[39;00m \u001b[38;5;28mrange\u001b[39m(\u001b[38;5;241m1\u001b[39m, \u001b[38;5;241m12\u001b[39m)}\n\u001b[0;32m      6\u001b[0m \u001b[38;5;28;01mfor\u001b[39;00m i \u001b[38;5;129;01min\u001b[39;00m inputs:\n\u001b[1;32m----> 7\u001b[0m     d[\u001b[38;5;28mint\u001b[39m(\u001b[43mi\u001b[49m\u001b[43m[\u001b[49m\u001b[38;5;241;43m0\u001b[39;49m\u001b[43m]\u001b[49m)] \u001b[38;5;241m+\u001b[39m\u001b[38;5;241m=\u001b[39m \u001b[38;5;28mint\u001b[39m(i[\u001b[38;5;241m2\u001b[39m])\n\u001b[0;32m      8\u001b[0m \u001b[38;5;28;01mfor\u001b[39;00m i \u001b[38;5;129;01min\u001b[39;00m inputs:\n\u001b[0;32m      9\u001b[0m     w[\u001b[38;5;28mint\u001b[39m(i[\u001b[38;5;241m0\u001b[39m])] \u001b[38;5;241m=\u001b[39m w\u001b[38;5;241m.\u001b[39mget(\u001b[38;5;28mint\u001b[39m(i[\u001b[38;5;241m0\u001b[39m]), \u001b[38;5;241m0\u001b[39m) \u001b[38;5;241m+\u001b[39m \u001b[38;5;241m1\u001b[39m\n",
      "\u001b[1;31mIndexError\u001b[0m: list index out of range"
     ]
    }
   ],
   "source": [
    "with open(\"C:\\\\Users\\\\muham\\\\Downloads\\\\dataset_3380_5.txt\") as file:\n",
    "    for line in file:\n",
    "        inputs = [i.split() for i in file.readline().split(' ')]\n",
    "d = {key: 0 for key in range(1, 12)}\n",
    "w = {key: 0 for key in range(1, 12)}\n",
    "for i in inputs:\n",
    "    d[int(i[0])] += int(i[2])\n",
    "for i in inputs:\n",
    "    w[int(i[0])] = w.get(int(i[0]), 0) + 1\n",
    "for key, value in d.items():\n",
    "    if value == 0:\n",
    "        d[key] = '-'\n",
    "    else:\n",
    "        d[key] = value / w[key]\n",
    "for i in d.items():\n",
    "    print(*i)\n",
    "with open(\"C:\\\\Users\\\\muham\\\\Downloads\\\\dataset_3378_3\", 'w') as outputs:\n",
    "    outputs.write(*line)"
   ]
  },
  {
   "cell_type": "code",
   "execution_count": 5,
   "id": "8ce3cd23",
   "metadata": {},
   "outputs": [
    {
     "name": "stdout",
     "output_type": "stream",
     "text": [
      "1\tBlomfield\t124 5\tBargeman\t146 3\tJacobson\t132 8\tLeman\t166 8\tLivingston\t167 3\tCharlson\t132 6\tWinter\t157 2\tBenson\t129 5\tCramer\t142 4\tFrancis\t139 3\tDowman\t140 2\tHailey\t128 8\tMarshman\t169 11\tAddington\t170 10\tMiln\t170 11\tMathews\t174 5\tWard\t142 7\tDowman\t155 10\tNelson\t171 3\tBarnes\t138 6\tOswald\t159 2\tRaleigh\t132 2\tTracey\t129 1\tMurphy\t121 6\tBecker\t159 11\tJones\t180 6\tMichaelson\t160 6\tFane\t160 10\tGarrison\t173 7\tFlatcher\t159 10\tParson\t175 6\tBush\t159 1\tFord\t130 6\tFaber\t157 5\tAldridge\t148 5\tYoumans\t145 8\tJerome\t168 10\tConors\t173 3\tFord\t132 10\tReynolds\t166 3\tWard\t137 11\tCampbell\t173 5\tPeterson\t145 1\tWard\t125 4\tAddington\t137 6\tShorter\t155 2\tBishop\t128 7\tKeat\t158 5\tMacAlister\t148 6\tFulton\t151 4\tRaleigh\t141 8\tPass\t160 11\tRoberts\t170 10\tDavidson\t167 8\tThornton\t167 6\tGustman\t157 6\tMansfield\t158 1\tLeapman\t122 1\tSherlock\t121 10\tPeacock\t168 6\tMorrison\t153 11\tSmith\t178 8\tArthurs\t160 2\tKirk\t125 11\tReynolds\t179 6\tBlomfield\t152 1\tYoung\t121 11\tSaunder\t176 10\tAndrews\t166 5\tTracey\t140 3\tAustin\t137 10\tStephen\t172 8\tGibbs\t169 4\tThorndike\t135 5\tMiln\t147 4\tRaleigh\t142 8\tDaniels\t167 2\tCreighton\t130 7\tBush\t163 5\tEnderson\t149 1\tFlannagan\t120 9\tSykes\t167 9\tFreeman\t168 9\tPage\t173 10\tFreeman\t173 5\tBawerman\t140 8\tGilbert\t168 7\tDurham\t156 11\tFord\t177 8\tBrown\t161 1\tBarnes\t126 1\tConors\t129 8\tBawerman\t163 6\tHolmes\t153 11\tBarrington\t176 1\tDouglas\t128 2\tBradberry\t127 4\tChandter\t141 1\tBishop\t130 10\tMichaelson\t171 2\tRaleigh\t130 10\tFane\t174 8\tDowman\t168 11\tBargeman\t173 11\tEdwards\t176 1\tGimson\t126 3\tAnderson\t140 5\tThorndike\t143 9\tSalisburry\t167 10\tShorter\t170 6\tHaig\t156 5\tDonovan\t144 7\tKirk\t155 1\tNyman\t124 5\tDonovan\t140 11\tTurner\t172 7\tKennedy\t163 7\tFleming\t158 7\tOgden\t159\n",
      "1 124.78571428571429\n",
      "2 128.66666666666666\n",
      "3 136.0\n",
      "4 139.16666666666666\n",
      "5 144.21428571428572\n",
      "6 156.4\n",
      "7 158.44444444444446\n",
      "8 165.6153846153846\n",
      "9 168.75\n",
      "10 170.64285714285714\n",
      "11 174.92307692307693\n"
     ]
    }
   ],
   "source": [
    "inputs = [i.split() for i in input().split(' ')]\n",
    "d = {key: 0 for key in range(1, 12)}\n",
    "w = {key: 0 for key in range(1, 12)}\n",
    "for i in inputs:\n",
    "    d[int(i[0])] += int(i[2])\n",
    "for i in inputs:\n",
    "    w[int(i[0])] = w.get(int(i[0]), 0) + 1\n",
    "for key, value in d.items():\n",
    "    if value == 0:\n",
    "        d[key] = '-'\n",
    "    else:\n",
    "        d[key] = value / w[key]\n",
    "for i in d.items():\n",
    "    print(*i)"
   ]
  },
  {
   "cell_type": "code",
   "execution_count": 2,
   "id": "11b39906",
   "metadata": {},
   "outputs": [
    {
     "name": "stdout",
     "output_type": "stream",
     "text": [
      "2\tMacDonald\t129 7\tOtis\t155 10\tBradberry\t172 2\tBrooks\t125 7\tHoliday\t155 7\tSimon\t164 2\tJacobson\t131 8\tDunce\t169 3\tAddington\t131 5\tCroftoon\t142 8\tAdrian\t168 3\tMackenzie\t136 3\tBawerman\t138 2\tAllford\t130 8\tMacAdam\t162 7\tCreighton\t163 5\tChapman\t146 5\tWayne\t148 10\tAddington\t171 11\tMacey\t175 7\tChapman\t162 8\tHodges\t169 8\tAlsopp\t164 2\tCarroll\t125 1\tAttwood\t123 5\tDonaldson\t146 7\tDutton\t161 3\tFoster\t139 4\tFulton\t145 3\tTracey\t133 2\tBradberry\t132 7\tReynolds\t158 6\tAbramson\t160 6\tCharlson\t160 8\tMurphy\t166 6\tMacDonald\t150 6\tKeat\t160 3\tCook\t139 11\tAllford\t173 7\tBabcock\t163 5\tFord\t145 10\tLaird\t165 1\tHolmes\t129 1\tOswald\t126 2\tWatson\t134 5\tBecker\t149 5\tFlannagan\t140 6\tRaleigh\t156 9\tFlatcher\t165 5\tJeff\t143 11\tGardner\t170 1\tRoberts\t123 6\tDodson\t150 9\tWayne\t169 8\tNyman\t170 5\tWard\t148 1\tFarmer\t120 10\tCarroll\t173 3\tMacAdam\t137 1\tLewin\t124 2\tHancock\t129 7\tMansfield\t157 3\tDay\t130\n",
      "1 124.16666666666667\n",
      "2 129.375\n",
      "3 135.375\n",
      "4 145.0\n",
      "5 145.22222222222223\n",
      "6 156.0\n",
      "7 159.77777777777777\n",
      "8 166.85714285714286\n",
      "9 167.0\n",
      "10 170.25\n",
      "11 172.66666666666666\n"
     ]
    }
   ],
   "source": [
    "inputs = [i.split() for i in input().split(' ')]\n",
    "d = {key: [0, 0] for key in range(1, 12)}\n",
    "for i in inputs:\n",
    "    d[int(i[0])][0] += int(i[2])\n",
    "    d[int(i[0])][1] += 1\n",
    "for key in sorted(d.keys()):\n",
    "    if d[key][1] == 0:\n",
    "        print(key, '-')\n",
    "    else:\n",
    "        print(key, d[key][0] / d[key][1])"
   ]
  },
  {
   "cell_type": "code",
   "execution_count": 1,
   "id": "4ed0ea88",
   "metadata": {},
   "outputs": [
    {
     "name": "stdout",
     "output_type": "stream",
     "text": [
      "1 124.78571428571429\n",
      "2 128.66666666666666\n",
      "3 136.0\n",
      "4 139.16666666666666\n",
      "5 144.21428571428572\n",
      "6 156.4\n",
      "7 158.44444444444446\n",
      "8 165.6153846153846\n",
      "9 168.75\n",
      "10 170.64285714285714\n",
      "11 174.92307692307693\n"
     ]
    }
   ],
   "source": [
    "# Делаем словарь {1:[0,0], 2:[0,0]... 11:[0,0]}, где [0:0] = [сумма ростов : кол-во учеников]\n",
    "tab = {i:[0,0] for i in range(1,12)} \n",
    "\n",
    "with open (\"C:\\\\Users\\\\muham\\\\Downloads\\\\dataset_3380_5 (1).txt\") as inf:\n",
    "\n",
    "\t# Заполняем словарь:\n",
    "\tfor i in inf:\n",
    "\t\tline = i.strip().split('\\t')\n",
    "\t\ttab [ int(line[0]) ] [0] += int(line[2]) # tab[класс][0] += рост ученика\n",
    "\t\ttab [ int(line[0]) ] [1] += 1            # tab[класс][1] += 1 (счетчик учеников в классе)\n",
    "\t\n",
    "\t# Распечатка:\n",
    "\tfor i in tab.keys():\n",
    "\t\tif tab[i][1] == 0:\n",
    "\t\t\tprint (i, '-') # распечатываем класс, в котором нет учеников\n",
    "\t\telse:\n",
    "\t\t\t# считаем и распечатываем средний рост для i-го класса:\n",
    "\t\t\tprint (i, ( tab[i][0] / tab[i][1] ))"
   ]
  },
  {
   "cell_type": "code",
   "execution_count": 1,
   "id": "751b3844",
   "metadata": {},
   "outputs": [
    {
     "name": "stdout",
     "output_type": "stream",
     "text": [
      "1 124.16666666666667\n",
      "2 129.375\n",
      "3 135.375\n",
      "4 145.0\n",
      "5 145.22222222222223\n",
      "6 156.0\n",
      "7 159.77777777777777\n",
      "8 166.85714285714286\n",
      "9 167.0\n",
      "10 170.25\n",
      "11 172.66666666666666\n"
     ]
    }
   ],
   "source": [
    "classes = {i: [] for i in range(1, 12)}\n",
    "with open(\"C:\\\\Users\\\\muham\\\\Downloads\\\\dataset_3380_5.txt\") as f:\n",
    "    for line in f:\n",
    "        cls, name, height = line.strip().split('\\t')\n",
    "        classes[int(cls)].append(int(height))\n",
    "\n",
    "for cls, heights in classes.items():\n",
    "    print(cls, sum(heights) / len(heights) if heights else '-')"
   ]
  },
  {
   "cell_type": "code",
   "execution_count": 3,
   "id": "0aa19bd8",
   "metadata": {},
   "outputs": [
    {
     "name": "stdout",
     "output_type": "stream",
     "text": [
      "             2\n",
      "0             \n",
      "1   124.785714\n",
      "2   128.666667\n",
      "3   136.000000\n",
      "4   139.166667\n",
      "5   144.214286\n",
      "6   156.400000\n",
      "7   158.444444\n",
      "8   165.615385\n",
      "9   168.750000\n",
      "10  170.642857\n",
      "11  174.923077\n"
     ]
    },
    {
     "name": "stderr",
     "output_type": "stream",
     "text": [
      "C:\\Users\\muham\\AppData\\Local\\Temp\\ipykernel_876\\2496182083.py:2: ParserWarning: Falling back to the 'python' engine because the 'c' engine does not support regex separators (separators > 1 char and different from '\\s+' are interpreted as regex); you can avoid this warning by specifying engine='python'.\n",
      "  df = pd.read_table('C:\\\\Users\\\\muham\\\\Downloads\\\\dataset_3380_5 (1).txt', header=None, sep=r'\\s{1,}')\n"
     ]
    }
   ],
   "source": [
    "import pandas as pd\n",
    "df = pd.read_table('C:\\\\Users\\\\muham\\\\Downloads\\\\dataset_3380_5 (1).txt', header=None, sep=r'\\s{1,}')\n",
    "print(df.groupby(0).mean())"
   ]
  },
  {
   "cell_type": "code",
   "execution_count": 11,
   "id": "2d4d5ca8",
   "metadata": {},
   "outputs": [
    {
     "ename": "NameError",
     "evalue": "name 'komanda' is not defined",
     "output_type": "error",
     "traceback": [
      "\u001b[1;31m---------------------------------------------------------------------------\u001b[0m",
      "\u001b[1;31mNameError\u001b[0m                                 Traceback (most recent call last)",
      "Input \u001b[1;32mIn [11]\u001b[0m, in \u001b[0;36m<cell line: 1>\u001b[1;34m()\u001b[0m\n\u001b[1;32m----> 1\u001b[0m \u001b[38;5;28mprint\u001b[39m(\u001b[38;5;124mf\u001b[39m\u001b[38;5;124m'\u001b[39m\u001b[38;5;132;01m{\u001b[39;00mkomanda\u001b[38;5;132;01m}\u001b[39;00m\u001b[38;5;124m:\u001b[39m\u001b[38;5;132;01m{\u001b[39;00mresults[\u001b[38;5;241m0\u001b[39m]\u001b[38;5;132;01m}\u001b[39;00m\u001b[38;5;124m \u001b[39m\u001b[38;5;132;01m{\u001b[39;00mresults[\u001b[38;5;241m1\u001b[39m]\u001b[38;5;132;01m}\u001b[39;00m\u001b[38;5;124m \u001b[39m\u001b[38;5;132;01m{\u001b[39;00mresults[\u001b[38;5;241m2\u001b[39m]\u001b[38;5;132;01m}\u001b[39;00m\u001b[38;5;124m \u001b[39m\u001b[38;5;132;01m{\u001b[39;00mresults[\u001b[38;5;241m3\u001b[39m]\u001b[38;5;132;01m}\u001b[39;00m\u001b[38;5;124m \u001b[39m\u001b[38;5;132;01m{\u001b[39;00mresults[\u001b[38;5;241m4\u001b[39m]\u001b[38;5;132;01m}\u001b[39;00m\u001b[38;5;124m'\u001b[39m)\n",
      "\u001b[1;31mNameError\u001b[0m: name 'komanda' is not defined"
     ]
    }
   ],
   "source": [
    "print(f'{komanda}:{results[0]} {results[1]} {results[2]} {results[3]} {results[4]}')"
   ]
  },
  {
   "cell_type": "code",
   "execution_count": null,
   "id": "f4758f44",
   "metadata": {},
   "outputs": [],
   "source": [
    "inputs = [input().split(';') for i in range(int(input()))]\n",
    "d = {}\n",
    "for i in inputs:\n",
    "    if int(inputs[i][1]) < int(inputs[i][3]):\n",
    "        print(i)"
   ]
  },
  {
   "cell_type": "code",
   "execution_count": 2,
   "id": "66c87659",
   "metadata": {},
   "outputs": [
    {
     "name": "stdout",
     "output_type": "stream",
     "text": [
      "3\n",
      "Спартак;9;Зенит;10\n",
      "Локомотив;12;Зенит;3\n",
      "Спартак;8;Локомотив;15\n",
      "Спартак:2 0 0 2 0\n",
      "Зенит:2 1 0 1 3\n",
      "Локомотив:2 2 0 0 6\n"
     ]
    }
   ],
   "source": [
    "d = {}\n",
    "for _ in range(int(input())):\n",
    "    game = input().split(\";\")\n",
    "    \n",
    "    for team in range(0, len(game), 2):\n",
    "        if game[team] not in d:\n",
    "            d[game[team]] = {\"games\": 0, \"victory\": 0, \"draw\": 0, \"loses\": 0, \"point\": 0}\n",
    "    \n",
    "    if int(game[1]) > int(game[3]):\n",
    "        d[game[0]][\"victory\"] += 1\n",
    "        d[game[0]][\"point\"] += 3\n",
    "        d[game[2]][\"loses\"] += 1\n",
    "                  \n",
    "    elif int(game[1]) == int(game[3]):\n",
    "        d[game[0]][\"draw\"] += 1\n",
    "        d[game[2]][\"draw\"] += 1\n",
    "        d[game[0]][\"point\"] += 1\n",
    "        d[game[2]][\"point\"] += 1\n",
    "            \n",
    "    elif int(game[1]) < int(game[3]):\n",
    "        d[game[2]][\"victory\"] += 1\n",
    "        d[game[2]][\"point\"] += 3\n",
    "        d[game[0]][\"loses\"] += 1\n",
    "        \n",
    "    d[game[0]][\"games\"] += 1\n",
    "    d[game[2]][\"games\"] += 1\n",
    "    \n",
    "for key, value in d.items():\n",
    "    print(key + ':', end='')\n",
    "    print(*list(value.values()))"
   ]
  },
  {
   "cell_type": "code",
   "execution_count": null,
   "id": "d7a90ad8",
   "metadata": {},
   "outputs": [],
   "source": []
  }
 ],
 "metadata": {
  "kernelspec": {
   "display_name": "Python 3 (ipykernel)",
   "language": "python",
   "name": "python3"
  },
  "language_info": {
   "codemirror_mode": {
    "name": "ipython",
    "version": 3
   },
   "file_extension": ".py",
   "mimetype": "text/x-python",
   "name": "python",
   "nbconvert_exporter": "python",
   "pygments_lexer": "ipython3",
   "version": "3.9.12"
  }
 },
 "nbformat": 4,
 "nbformat_minor": 5
}
